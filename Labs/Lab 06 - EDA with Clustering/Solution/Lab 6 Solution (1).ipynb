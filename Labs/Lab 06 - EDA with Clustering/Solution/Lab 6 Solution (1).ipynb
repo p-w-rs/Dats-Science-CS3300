{
 "cells": [
  {
   "cell_type": "markdown",
   "metadata": {},
   "source": [
    "# Lab 5: EDA with Dimensionality Reduction\n",
    "RJ Nowling\n",
    "\n",
    "In this lab, we are going to explore the relationships between email messages.  We will need to first convert the text data into numeric features.  When done, we will have too many features to analyze each variable separately, so we'll apply dimensionality reduction techniques."
   ]
  },
  {
   "cell_type": "code",
   "execution_count": 1,
   "metadata": {},
   "outputs": [],
   "source": [
    "import glob\n",
    "import json\n",
    "\n",
    "import matplotlib.pyplot as plt\n",
    "\n",
    "import pandas as pd\n",
    "import scipy.stats as stats\n",
    "from sklearn.decomposition import TruncatedSVD\n",
    "from sklearn.feature_extraction.text import CountVectorizer\n",
    "from sklearn.cluster import DBSCAN"
   ]
  },
  {
   "cell_type": "markdown",
   "metadata": {},
   "source": [
    "## Part I: Load Data\n",
    "\n",
    "Each email is stored in a separate JSON document.  Each email has five fields: category (ham or spam), to_address, from_address, subject, and body.  We'll need to load these into a single DataFrame.\n",
    "\n",
    "```\n",
    "{\n",
    "  \"category\": \"ham\",\n",
    "  \"to_address\": \"debian-mirrors@lists.debian.org\",\n",
    "  \"from_address\": \"Yan Morin <yan.morin@savoirfairelinux.com>\",\n",
    "  \"subject\": \"Typo in /debian/README\",\n",
    "  \"body\": \"Hi, i've just updated from the gulus and I check on other mirrors.\\nIt seems there is a little typo in /debian/README file\\n\\nExample:\\nhttp://gulus.usherbrooke.ca/debian/README\\nftp://ftp.fr.debian.org/debian/README\\n\\n\\\"Testing, or lenny.  Access this release through dists/testing.  The\\ncurrent tested development snapshot is named etch.  Packages which\\nhave been tested in unstable and passed automated tests propogate to\\nthis release.\\\"\\n\\netch should be replace by lenny like in the README.html\\n\\n\\n\\n-- \\nYan Morin\\nConsultant en logiciel libre\\nyan.morin@savoirfairelinux.com\\n514-994-1556\\n\\n\\n-- \\nTo UNSUBSCRIBE, email to debian-mirrors-REQUEST@lists.debian.org\\nwith a subject of \\\"unsubscribe\\\". Trouble? Contact listmaster@lists.debian.org\\n\\n\"\n",
    "}\n",
    "```"
   ]
  },
  {
   "cell_type": "code",
   "execution_count": 2,
   "metadata": {},
   "outputs": [
    {
     "name": "stdout",
     "output_type": "stream",
     "text": [
      "Loaded 63542 emails\n"
     ]
    }
   ],
   "source": [
    "records = []\n",
    "for flname in glob.glob(\"email_json/message_*.json\"):\n",
    "    with open(flname) as fl:\n",
    "        email = json.load(fl)\n",
    "        records.append(email)\n",
    "\n",
    "print(\"Loaded\", len(records), \"emails\")"
   ]
  },
  {
   "cell_type": "code",
   "execution_count": 3,
   "metadata": {},
   "outputs": [
    {
     "data": {
      "text/html": [
       "<div>\n",
       "<style scoped>\n",
       "    .dataframe tbody tr th:only-of-type {\n",
       "        vertical-align: middle;\n",
       "    }\n",
       "\n",
       "    .dataframe tbody tr th {\n",
       "        vertical-align: top;\n",
       "    }\n",
       "\n",
       "    .dataframe thead th {\n",
       "        text-align: right;\n",
       "    }\n",
       "</style>\n",
       "<table border=\"1\" class=\"dataframe\">\n",
       "  <thead>\n",
       "    <tr style=\"text-align: right;\">\n",
       "      <th></th>\n",
       "      <th>category</th>\n",
       "      <th>to_address</th>\n",
       "      <th>from_address</th>\n",
       "      <th>subject</th>\n",
       "      <th>body</th>\n",
       "    </tr>\n",
       "  </thead>\n",
       "  <tbody>\n",
       "    <tr>\n",
       "      <th>0</th>\n",
       "      <td>spam</td>\n",
       "      <td>smile@speedy.uwaterloo.ca</td>\n",
       "      <td>Pablo Timmons &lt;SophiRosemary4926@yahoo.com&gt;</td>\n",
       "      <td>Software Compatibility....ain't it great?</td>\n",
       "      <td>\\n\\n\\n\\n\\n\\n\\n\\n\\n\\n\\n\\n\\nLove works a differe...</td>\n",
       "    </tr>\n",
       "    <tr>\n",
       "      <th>1</th>\n",
       "      <td>spam</td>\n",
       "      <td>\"gnitpick\" &lt;gnitpick@speedy.uwaterloo.ca&gt;</td>\n",
       "      <td>\"Inez Tanner\" &lt;ocuseethed@executiveemail.com&gt;</td>\n",
       "      <td>At which bookshelves</td>\n",
       "      <td>This one will explode\\nSpecial Situation Alert...</td>\n",
       "    </tr>\n",
       "    <tr>\n",
       "      <th>2</th>\n",
       "      <td>spam</td>\n",
       "      <td>catchall@flax9.uwaterloo.ca</td>\n",
       "      <td>\"Joar Moree\" &lt;Joar@arslanzade.com&gt;</td>\n",
       "      <td>It's just like Raistlin described to me once.</td>\n",
       "      <td>\\n\\n\\n\\n\\n\\nSee \" String Instructions\" on page...</td>\n",
       "    </tr>\n",
       "    <tr>\n",
       "      <th>3</th>\n",
       "      <td>spam</td>\n",
       "      <td>the00@plg2.math.uwaterloo.ca</td>\n",
       "      <td>bass Elkins &lt;Gailk@waydelivery.com&gt;</td>\n",
       "      <td>Have in mixture</td>\n",
       "      <td>\\n\\n\\n\\n\\n\\n\\n\\neasy to think of all the possi...</td>\n",
       "    </tr>\n",
       "    <tr>\n",
       "      <th>4</th>\n",
       "      <td>spam</td>\n",
       "      <td>manager@speedy.uwaterloo.ca</td>\n",
       "      <td>Works Fast &lt;kmamie@netcityhk.com&gt;</td>\n",
       "      <td>Benefits of Cialis</td>\n",
       "      <td>\\n\\n\\n\\n\\n\\nCialis will boost up your erection...</td>\n",
       "    </tr>\n",
       "  </tbody>\n",
       "</table>\n",
       "</div>"
      ],
      "text/plain": [
       "  category                                 to_address  \\\n",
       "0     spam                  smile@speedy.uwaterloo.ca   \n",
       "1     spam  \"gnitpick\" <gnitpick@speedy.uwaterloo.ca>   \n",
       "2     spam                catchall@flax9.uwaterloo.ca   \n",
       "3     spam               the00@plg2.math.uwaterloo.ca   \n",
       "4     spam                manager@speedy.uwaterloo.ca   \n",
       "\n",
       "                                    from_address  \\\n",
       "0    Pablo Timmons <SophiRosemary4926@yahoo.com>   \n",
       "1  \"Inez Tanner\" <ocuseethed@executiveemail.com>   \n",
       "2             \"Joar Moree\" <Joar@arslanzade.com>   \n",
       "3            bass Elkins <Gailk@waydelivery.com>   \n",
       "4              Works Fast <kmamie@netcityhk.com>   \n",
       "\n",
       "                                         subject  \\\n",
       "0      Software Compatibility....ain't it great?   \n",
       "1                           At which bookshelves   \n",
       "2  It's just like Raistlin described to me once.   \n",
       "3                                Have in mixture   \n",
       "4                             Benefits of Cialis   \n",
       "\n",
       "                                                body  \n",
       "0  \\n\\n\\n\\n\\n\\n\\n\\n\\n\\n\\n\\n\\nLove works a differe...  \n",
       "1  This one will explode\\nSpecial Situation Alert...  \n",
       "2  \\n\\n\\n\\n\\n\\nSee \" String Instructions\" on page...  \n",
       "3  \\n\\n\\n\\n\\n\\n\\n\\neasy to think of all the possi...  \n",
       "4  \\n\\n\\n\\n\\n\\nCialis will boost up your erection...  "
      ]
     },
     "execution_count": 3,
     "metadata": {},
     "output_type": "execute_result"
    }
   ],
   "source": [
    "df = pd.DataFrame.from_dict(records)\n",
    "\n",
    "df.head()"
   ]
  },
  {
   "cell_type": "markdown",
   "metadata": {},
   "source": [
    "## Part II: Extract Features\n",
    "\n",
    "We want to create numerical features from the message bodies.  We'll use Scikit Learn's CountVectorizer for this.  Each column in the feature matrix will store the counts for a single word."
   ]
  },
  {
   "cell_type": "code",
   "execution_count": 4,
   "metadata": {},
   "outputs": [
    {
     "name": "stdout",
     "output_type": "stream",
     "text": [
      "<class 'scipy.sparse.csr.csr_matrix'> (63542, 32144) 6388795\n"
     ]
    }
   ],
   "source": [
    "vec = CountVectorizer(binary=True, min_df=10)\n",
    "\n",
    "features = vec.fit_transform(df[\"body\"])\n",
    "\n",
    "print(type(features), features.shape, features.nnz)"
   ]
  },
  {
   "cell_type": "code",
   "execution_count": 5,
   "metadata": {},
   "outputs": [
    {
     "name": "stdout",
     "output_type": "stream",
     "text": [
      "['love', 'works', 'different', 'way', 'in', 'minds', 'the', 'fool', 'it', 'enlightens']\n"
     ]
    }
   ],
   "source": [
    "print(list(vec.vocabulary_)[:10])"
   ]
  },
  {
   "cell_type": "code",
   "execution_count": 6,
   "metadata": {},
   "outputs": [
    {
     "name": "stdout",
     "output_type": "stream",
     "text": [
      "18037 31687 10151\n"
     ]
    }
   ],
   "source": [
    "love_idx = vec.vocabulary_[\"love\"]\n",
    "works_idx = vec.vocabulary_[\"works\"]\n",
    "different_idx = vec.vocabulary_[\"different\"]\n",
    "\n",
    "print(love_idx, works_idx, different_idx)"
   ]
  },
  {
   "cell_type": "code",
   "execution_count": 7,
   "metadata": {},
   "outputs": [
    {
     "name": "stdout",
     "output_type": "stream",
     "text": [
      "  (0, 0)\t1\n",
      "  (10, 0)\t1\n",
      "  (73, 0)\t1\n",
      "  (80, 0)\t1\n",
      "  (83, 0)\t1\n",
      "  (138, 0)\t1\n",
      "  (146, 0)\t1\n",
      "  (162, 0)\t1\n",
      "  (165, 0)\t1\n",
      "  (256, 0)\t1\n",
      "  (271, 0)\t1\n",
      "  (279, 0)\t1\n",
      "  (319, 0)\t1\n",
      "  (338, 0)\t1\n",
      "  (345, 0)\t1\n",
      "  (357, 0)\t1\n",
      "  (360, 0)\t1\n",
      "  (436, 0)\t1\n",
      "  (446, 0)\t1\n",
      "  (471, 0)\t1\n",
      "  (476, 0)\t1\n",
      "  (488, 0)\t1\n",
      "  (502, 0)\t1\n",
      "  (517, 0)\t1\n",
      "  (536, 0)\t1\n",
      "  :\t:\n",
      "  (62725, 0)\t1\n",
      "  (62730, 0)\t1\n",
      "  (62732, 0)\t1\n",
      "  (62774, 0)\t1\n",
      "  (62780, 0)\t1\n",
      "  (62791, 0)\t1\n",
      "  (62812, 0)\t1\n",
      "  (62822, 0)\t1\n",
      "  (62953, 0)\t1\n",
      "  (62954, 0)\t1\n",
      "  (62973, 0)\t1\n",
      "  (62993, 0)\t1\n",
      "  (63001, 0)\t1\n",
      "  (63002, 0)\t1\n",
      "  (63012, 0)\t1\n",
      "  (63043, 0)\t1\n",
      "  (63088, 0)\t1\n",
      "  (63143, 0)\t1\n",
      "  (63163, 0)\t1\n",
      "  (63390, 0)\t1\n",
      "  (63445, 0)\t1\n",
      "  (63457, 0)\t1\n",
      "  (63490, 0)\t1\n",
      "  (63509, 0)\t1\n",
      "  (63522, 0)\t1\n"
     ]
    }
   ],
   "source": [
    "print(features[:, love_idx])"
   ]
  },
  {
   "cell_type": "code",
   "execution_count": 8,
   "metadata": {},
   "outputs": [
    {
     "name": "stdout",
     "output_type": "stream",
     "text": [
      "  (0, 0)\t1\n",
      "  (4, 0)\t1\n",
      "  (60, 0)\t1\n",
      "  (67, 0)\t1\n",
      "  (73, 0)\t1\n",
      "  (88, 0)\t1\n",
      "  (119, 0)\t1\n",
      "  (143, 0)\t1\n",
      "  (166, 0)\t1\n",
      "  (186, 0)\t1\n",
      "  (191, 0)\t1\n",
      "  (193, 0)\t1\n",
      "  (207, 0)\t1\n",
      "  (308, 0)\t1\n",
      "  (314, 0)\t1\n",
      "  (332, 0)\t1\n",
      "  (364, 0)\t1\n",
      "  (409, 0)\t1\n",
      "  (411, 0)\t1\n",
      "  (415, 0)\t1\n",
      "  (432, 0)\t1\n",
      "  (460, 0)\t1\n",
      "  (476, 0)\t1\n",
      "  (490, 0)\t1\n",
      "  (503, 0)\t1\n",
      "  :\t:\n",
      "  (63037, 0)\t1\n",
      "  (63059, 0)\t1\n",
      "  (63085, 0)\t1\n",
      "  (63116, 0)\t1\n",
      "  (63152, 0)\t1\n",
      "  (63211, 0)\t1\n",
      "  (63225, 0)\t1\n",
      "  (63241, 0)\t1\n",
      "  (63249, 0)\t1\n",
      "  (63302, 0)\t1\n",
      "  (63327, 0)\t1\n",
      "  (63341, 0)\t1\n",
      "  (63357, 0)\t1\n",
      "  (63374, 0)\t1\n",
      "  (63387, 0)\t1\n",
      "  (63390, 0)\t1\n",
      "  (63407, 0)\t1\n",
      "  (63411, 0)\t1\n",
      "  (63428, 0)\t1\n",
      "  (63442, 0)\t1\n",
      "  (63466, 0)\t1\n",
      "  (63473, 0)\t1\n",
      "  (63477, 0)\t1\n",
      "  (63491, 0)\t1\n",
      "  (63504, 0)\t1\n"
     ]
    }
   ],
   "source": [
    "print(features[:, works_idx])"
   ]
  },
  {
   "cell_type": "code",
   "execution_count": 9,
   "metadata": {},
   "outputs": [
    {
     "name": "stdout",
     "output_type": "stream",
     "text": [
      "  (0, 0)\t1\n",
      "  (3, 0)\t1\n",
      "  (19, 0)\t1\n",
      "  (26, 0)\t1\n",
      "  (46, 0)\t1\n",
      "  (67, 0)\t1\n",
      "  (73, 0)\t1\n",
      "  (79, 0)\t1\n",
      "  (125, 0)\t1\n",
      "  (143, 0)\t1\n",
      "  (144, 0)\t1\n",
      "  (163, 0)\t1\n",
      "  (165, 0)\t1\n",
      "  (175, 0)\t1\n",
      "  (181, 0)\t1\n",
      "  (337, 0)\t1\n",
      "  (387, 0)\t1\n",
      "  (409, 0)\t1\n",
      "  (423, 0)\t1\n",
      "  (433, 0)\t1\n",
      "  (489, 0)\t1\n",
      "  (503, 0)\t1\n",
      "  (515, 0)\t1\n",
      "  (518, 0)\t1\n",
      "  (525, 0)\t1\n",
      "  :\t:\n",
      "  (63105, 0)\t1\n",
      "  (63107, 0)\t1\n",
      "  (63118, 0)\t1\n",
      "  (63133, 0)\t1\n",
      "  (63151, 0)\t1\n",
      "  (63191, 0)\t1\n",
      "  (63215, 0)\t1\n",
      "  (63221, 0)\t1\n",
      "  (63222, 0)\t1\n",
      "  (63267, 0)\t1\n",
      "  (63276, 0)\t1\n",
      "  (63287, 0)\t1\n",
      "  (63318, 0)\t1\n",
      "  (63328, 0)\t1\n",
      "  (63353, 0)\t1\n",
      "  (63366, 0)\t1\n",
      "  (63371, 0)\t1\n",
      "  (63390, 0)\t1\n",
      "  (63394, 0)\t1\n",
      "  (63413, 0)\t1\n",
      "  (63416, 0)\t1\n",
      "  (63438, 0)\t1\n",
      "  (63455, 0)\t1\n",
      "  (63470, 0)\t1\n",
      "  (63505, 0)\t1\n"
     ]
    }
   ],
   "source": [
    "print(features[:, different_idx])"
   ]
  },
  {
   "cell_type": "markdown",
   "metadata": {},
   "source": [
    "## Part III: Dimensionality Reduction with SVD\n",
    "\n",
    "300,984 variables is way too many to look at by hand.  We'll use SVD to reduce the dimensionality of the matrix.  Like PCA, SVD uses correlation between variables to group them and created a smaller set of variables."
   ]
  },
  {
   "cell_type": "code",
   "execution_count": 10,
   "metadata": {},
   "outputs": [],
   "source": [
    "svd = TruncatedSVD(n_components=10)\n",
    "proj = svd.fit_transform(features)"
   ]
  },
  {
   "cell_type": "code",
   "execution_count": 11,
   "metadata": {},
   "outputs": [
    {
     "data": {
      "text/plain": [
       "Text(0, 0.5, 'Explained Varianace Ratio')"
      ]
     },
     "execution_count": 11,
     "metadata": {},
     "output_type": "execute_result"
    },
    {
     "data": {
      "image/png": "[encoded data removed]",
      "text/plain": [
       "<Figure size 432x288 with 1 Axes>"
      ]
     },
     "metadata": {
      "needs_background": "light"
     },
     "output_type": "display_data"
    }
   ],
   "source": [
    "plt.plot(svd.explained_variance_ratio_)\n",
    "plt.xlabel(\"Component\", fontsize=18)\n",
    "plt.ylabel(\"Explained Varianace Ratio\", fontsize=18)"
   ]
  },
  {
   "cell_type": "markdown",
   "metadata": {},
   "source": [
    "The first two components (indices 0 and 1) capture most of the variation.  We will visualize the relationships between these two components."
   ]
  },
  {
   "cell_type": "markdown",
   "metadata": {},
   "source": [
    "## Part IV: Visualization"
   ]
  },
  {
   "cell_type": "code",
   "execution_count": 12,
   "metadata": {},
   "outputs": [
    {
     "data": {
      "text/plain": [
       "Text(0, 0.5, 'Component 1')"
      ]
     },
     "execution_count": 12,
     "metadata": {},
     "output_type": "execute_result"
    },
    {
     "data": {
      "image/png": "[encoded data removed]",
      "text/plain": [
       "<Figure size 432x288 with 1 Axes>"
      ]
     },
     "metadata": {
      "needs_background": "light"
     },
     "output_type": "display_data"
    }
   ],
   "source": [
    "plt.scatter(proj[:, 0], proj[:, 1])\n",
    "plt.xlabel(\"Component 0\", fontsize=18)\n",
    "plt.ylabel(\"Component 1\", fontsize=18)"
   ]
  },
  {
   "cell_type": "code",
   "execution_count": 13,
   "metadata": {},
   "outputs": [
    {
     "data": {
      "text/plain": [
       "<matplotlib.legend.Legend at 0x7fdb22723278>"
      ]
     },
     "execution_count": 13,
     "metadata": {},
     "output_type": "execute_result"
    },
    {
     "data": {
      "image/png": "[encoded data removed]",
      "text/plain": [
       "<Figure size 432x288 with 1 Axes>"
      ]
     },
     "metadata": {
      "needs_background": "light"
     },
     "output_type": "display_data"
    }
   ],
   "source": [
    "mask = df[\"category\"] == \"ham\"\n",
    "plt.scatter(proj[mask, 0], proj[mask, 1], label=\"Ham\")\n",
    "mask = df[\"category\"] == \"spam\"\n",
    "plt.scatter(proj[mask, 0], proj[mask, 1], label=\"Spam\")\n",
    "plt.xlabel(\"Component 0\", fontsize=18)\n",
    "plt.ylabel(\"Component 1\", fontsize=18)\n",
    "plt.legend()"
   ]
  },
  {
   "cell_type": "markdown",
   "metadata": {},
   "source": [
    "## Part II: Clustering\n",
    "\n",
    "We are going to cluster the emails along SVD components 0 and 1.  Clustering tries to label the points so that points in the same cluster are closer to each other than points in different clusters."
   ]
  },
  {
   "cell_type": "code",
   "execution_count": 14,
   "metadata": {},
   "outputs": [],
   "source": [
    "dbscan = DBSCAN(eps=0.5)\n",
    "cluster_labels = dbscan.fit_predict(proj[:, :2])"
   ]
  },
  {
   "cell_type": "code",
   "execution_count": 15,
   "metadata": {},
   "outputs": [
    {
     "data": {
      "text/plain": [
       "<matplotlib.legend.Legend at 0x7fdb22776470>"
      ]
     },
     "execution_count": 15,
     "metadata": {},
     "output_type": "execute_result"
    },
    {
     "data": {
      "image/png": "[encoded data removed]",
      "text/plain": [
       "<Figure size 432x288 with 1 Axes>"
      ]
     },
     "metadata": {
      "needs_background": "light"
     },
     "output_type": "display_data"
    }
   ],
   "source": [
    "mask = cluster_labels == 0\n",
    "plt.scatter(proj[mask, 0], proj[mask, 1], label=\"Cluster 0\")\n",
    "mask = cluster_labels == 1\n",
    "plt.scatter(proj[mask, 0], proj[mask, 1], label=\"Cluster 1\")\n",
    "plt.xlabel(\"Component 0\", fontsize=18)\n",
    "plt.ylabel(\"Component 1\", fontsize=18)\n",
    "plt.legend()"
   ]
  },
  {
   "cell_type": "markdown",
   "metadata": {},
   "source": [
    "## Part III: Cluster-Associated Words"
   ]
  },
  {
   "cell_type": "code",
   "execution_count": 16,
   "metadata": {},
   "outputs": [],
   "source": [
    "mask_0 = cluster_labels == 0\n",
    "mask_1 = cluster_labels == 1\n",
    "\n",
    "features_0 = features[mask_0, :].tocsc()\n",
    "features_1 = features[mask_1, :].tocsc()"
   ]
  },
  {
   "cell_type": "code",
   "execution_count": 17,
   "metadata": {},
   "outputs": [
    {
     "name": "stdout",
     "output_type": "stream",
     "text": [
      "(1, 32144) (1, 32144)\n",
      "2013 2367 2086\n",
      "23 629 779\n"
     ]
    }
   ],
   "source": [
    "doc_freq_0 = features_0.sum(axis=0)\n",
    "doc_freq_1 = features_1.sum(axis=0)\n",
    "\n",
    "print(doc_freq_0.shape, doc_freq_1.shape)\n",
    "print(doc_freq_0[0, love_idx], doc_freq_0[0, works_idx], doc_freq_0[0, different_idx])\n",
    "print(doc_freq_1[0, love_idx], doc_freq_1[0, works_idx], doc_freq_1[0, different_idx])"
   ]
  },
  {
   "cell_type": "code",
   "execution_count": 18,
   "metadata": {},
   "outputs": [
    {
     "name": "stdout",
     "output_type": "stream",
     "text": [
      "Cluster 1: 0.10882352941176471\n",
      "Cluster 0: 0.04100334332288184\n",
      "p-value: 0.9999999999999999\n"
     ]
    }
   ],
   "source": [
    "cluster_1_expected_prob = doc_freq_1[0, works_idx] / features_1.shape[0]\n",
    "print(\"Cluster 1:\", cluster_1_expected_prob)\n",
    "cluster_0_expected_prob = doc_freq_0[0, works_idx] / features_0.shape[0]\n",
    "print(\"Cluster 0:\", cluster_0_expected_prob)\n",
    "\n",
    "pvalue = stats.binom_test(doc_freq_0[0, works_idx], features_0.shape[0], cluster_1_expected_prob, alternative=\"greater\")\n",
    "print(\"p-value:\", pvalue)"
   ]
  },
  {
   "cell_type": "code",
   "execution_count": 19,
   "metadata": {},
   "outputs": [
    {
     "name": "stdout",
     "output_type": "stream",
     "text": [
      "Cluster 1: 0.00397923875432526\n",
      "Cluster 0: 0.03487103088676009\n",
      "p-value: 0.0\n"
     ]
    }
   ],
   "source": [
    "cluster_1_expected_prob = doc_freq_1[0, love_idx] / features_1.shape[0]\n",
    "print(\"Cluster 1:\", cluster_1_expected_prob)\n",
    "cluster_0_expected_prob = doc_freq_0[0, love_idx] / features_0.shape[0]\n",
    "print(\"Cluster 0:\", cluster_0_expected_prob)\n",
    "\n",
    "pvalue = stats.binom_test(doc_freq_0[0, love_idx], features_0.shape[0], cluster_1_expected_prob, alternative=\"greater\")\n",
    "print(\"p-value:\", pvalue)"
   ]
  },
  {
   "cell_type": "code",
   "execution_count": 20,
   "metadata": {},
   "outputs": [],
   "source": [
    "cluster_0_list = []\n",
    "for word, idx in vec.vocabulary_.items():\n",
    "    cluster_1_expected_prob = doc_freq_1[0, idx] / features_1.shape[0]\n",
    "    pvalue = stats.binom_test(doc_freq_0[0, idx], features_0.shape[0], cluster_1_expected_prob, alternative=\"greater\")\n",
    "    \n",
    "    if pvalue < 0.05:\n",
    "        cluster_0_list.append((pvalue, word, doc_freq_0[0, idx]))\n",
    "\n",
    "cluster_0_list.sort()"
   ]
  },
  {
   "cell_type": "code",
   "execution_count": 24,
   "metadata": {},
   "outputs": [
    {
     "name": "stdout",
     "output_type": "stream",
     "text": [
      "Top 200 words for cluster 0:\n",
      "aacs 16 0.0\n",
      "aback 10 0.0\n",
      "abandoning 13 0.0\n",
      "abartlet 166 0.0\n",
      "abated 58 0.0\n",
      "abating 29 0.0\n",
      "abba 18 0.0\n",
      "abbas 30 0.0\n",
      "abbott 71 0.0\n",
      "abducted 13 0.0\n",
      "abduction 13 0.0\n",
      "abdul 24 0.0\n",
      "abe 18 0.0\n",
      "abecedarian 23 0.0\n",
      "aber 186 0.0\n",
      "abfao 37 0.0\n",
      "abflauen 12 0.0\n",
      "abgeschlossen 21 0.0\n",
      "abhorred 123 0.0\n",
      "abiding 24 0.0\n",
      "abilities 64 0.0\n",
      "abiword 13 0.0\n",
      "ablaze 13 0.0\n",
      "ableton 577 0.0\n",
      "abnormal 14 0.0\n",
      "aboard 59 0.0\n",
      "abode 24 0.0\n",
      "abominable 13 0.0\n",
      "abortion 78 0.0\n",
      "abortions 15 0.0\n",
      "abound 14 0.0\n",
      "abroad 211 0.0\n",
      "abrupt 12 0.0\n",
      "abruptly 81 0.0\n",
      "absently 11 0.0\n",
      "absentminded 11 0.0\n",
      "absorbs 11 0.0\n",
      "absorption 28 0.0\n",
      "abstracted 21 0.0\n",
      "abstraction 39 0.0\n",
      "absurd 33 0.0\n",
      "absurdity 10 0.0\n",
      "absurdly 12 0.0\n",
      "abundantly 13 0.0\n",
      "abused 23 0.0\n",
      "abuses 24 0.0\n",
      "abusing 18 0.0\n",
      "abusive 16 0.0\n",
      "abwicklung 22 0.0\n",
      "academics 28 0.0\n",
      "academy 406 0.0\n",
      "acapsite 51 0.0\n",
      "accedi 22 0.0\n",
      "accelerate 29 0.0\n",
      "accelerating 23 0.0\n",
      "acceleration 395 0.0\n",
      "accelerator 20 0.0\n",
      "acceptances 12 0.0\n",
      "accesd 124 0.0\n",
      "accessibility 120 0.0\n",
      "accessor 12 0.0\n",
      "accessories 97 0.0\n",
      "accessors 11 0.0\n",
      "accidentes 12 0.0\n",
      "accidents 28 0.0\n",
      "acclaimed 13 0.0\n",
      "accommodations 22 0.0\n",
      "accompanied 50 0.0\n",
      "accompany 120 0.0\n",
      "accomplishment 34 0.0\n",
      "accomplishments 21 0.0\n",
      "accord 43 0.0\n",
      "account 2351 0.0\n",
      "accountability 21 0.0\n",
      "accountable 102 0.0\n",
      "accountant 18 0.0\n",
      "accra 53 0.0\n",
      "accredited 150 0.0\n",
      "accueil 32 0.0\n",
      "accursed 14 0.0\n",
      "accusation 12 0.0\n",
      "accusations 29 0.0\n",
      "accuse 38 0.0\n",
      "accused 219 0.0\n",
      "accuses 24 0.0\n",
      "accusing 30 0.0\n",
      "accuweather 562 0.0\n",
      "accèsd 119 0.0\n",
      "accèsdmoney 72 0.0\n",
      "accéder 117 0.0\n",
      "acer 29 0.0\n",
      "aces 30 0.0\n",
      "ache 14 0.0\n",
      "achievements 14 0.0\n",
      "aci 14 0.0\n",
      "acidity 11 0.0\n",
      "ack 56 0.0\n",
      "acknowledging 18 0.0\n",
      "acl 72 0.0\n",
      "acls 38 0.0\n",
      "aclu 12 0.0\n",
      "acoustic 10 0.0\n",
      "acp 25 0.0\n",
      "acpi 23 0.0\n",
      "acquaintance 55 0.0\n",
      "acquaintances 11 0.0\n",
      "acquainted 53 0.0\n",
      "acquaints 15 0.0\n",
      "acquire 187 0.0\n",
      "acquired 174 0.0\n",
      "acquires 60 0.0\n",
      "acquiring 52 0.0\n",
      "acquisition 174 0.0\n",
      "acquisitions 27 0.0\n",
      "acquitted 12 0.0\n",
      "acre 19 0.0\n",
      "acres 91 0.0\n",
      "acrob 14 0.0\n",
      "acrobat 1059 0.0\n",
      "actif 19 0.0\n",
      "actionable 25 0.0\n",
      "actionist 12 0.0\n",
      "activated 95 0.0\n",
      "activates 10 0.0\n",
      "activatian 15 0.0\n",
      "activating 15 0.0\n",
      "activism 10 0.0\n",
      "activist 35 0.0\n",
      "activists 71 0.0\n",
      "activities 703 0.0\n",
      "activity 665 0.0\n",
      "activityfactoryservice 16 0.0\n",
      "actobat 32 0.0\n",
      "actor 116 0.0\n",
      "actress 84 0.0\n",
      "actresses 11 0.0\n",
      "acuerdo 19 0.0\n",
      "acvertising 64 0.0\n",
      "ada 20 0.0\n",
      "adaptation 11 0.0\n",
      "adapter 64 0.0\n",
      "adapters 15 0.0\n",
      "addicted 80 0.0\n",
      "addiction 45 0.0\n",
      "addictive 24 0.0\n",
      "addin 12 0.0\n",
      "addison 10 0.0\n",
      "additional 3222 0.0\n",
      "additives 56 0.0\n",
      "adela 14 0.0\n",
      "adelaida 25 0.0\n",
      "adelman 14 0.0\n",
      "adem 13 0.0\n",
      "ademas 13 0.0\n",
      "además 10 0.0\n",
      "adhere 11 0.0\n",
      "adid 12 0.0\n",
      "adjective 41 0.0\n",
      "adm 12 0.0\n",
      "administer 29 0.0\n",
      "administrateur 12 0.0\n",
      "administrators 73 0.0\n",
      "adminpass 16 0.0\n",
      "admins 33 0.0\n",
      "admiral 37 0.0\n",
      "admiration 41 0.0\n",
      "admired 19 0.0\n",
      "admirrante 22 0.0\n",
      "admissible 61 0.0\n",
      "admission 40 0.0\n",
      "admissions 12 0.0\n",
      "admits 87 0.0\n",
      "admitting 19 0.0\n",
      "ado 21 0.0\n",
      "adobe 1119 0.0\n",
      "adoption 57 0.0\n",
      "adopts 14 0.0\n",
      "adorable 30 0.0\n",
      "adored 10 0.0\n",
      "adorned 21 0.0\n",
      "adov 42 0.0\n",
      "adovcurrent 70 0.0\n",
      "adrenaline 48 0.0\n",
      "adresse 139 0.0\n",
      "adressierte 28 0.0\n",
      "adriano 10 0.0\n",
      "adtj 11 0.0\n",
      "adtrevor 12 0.0\n",
      "adtrevors 10 0.0\n",
      "adult 115 0.0\n",
      "adultery 14 0.0\n",
      "advancement 212 0.0\n",
      "advancements 10 0.0\n",
      "advancing 49 0.0\n",
      "advantageous 18 0.0\n",
      "advent 26 0.0\n",
      "adventage 100 0.0\n",
      "adventure 76 0.0\n",
      "adventures 57 0.0\n"
     ]
    }
   ],
   "source": [
    "print(\"Top 200 words for cluster 0:\")\n",
    "count = 1\n",
    "for pvalue, word, doc_freq in cluster_0_list:\n",
    "    if word.isalpha():\n",
    "        print(word, doc_freq, pvalue)\n",
    "        count +=1\n",
    "        \n",
    "    if count == 200:\n",
    "        break"
   ]
  },
  {
   "cell_type": "code",
   "execution_count": 25,
   "metadata": {},
   "outputs": [],
   "source": [
    "cluster_1_list = []\n",
    "for word, idx in vec.vocabulary_.items():\n",
    "    cluster_0_expected_prob = doc_freq_0[0, idx] / features_0.shape[0]\n",
    "    pvalue = stats.binom_test(doc_freq_1[0, idx], features_1.shape[0], cluster_0_expected_prob, alternative=\"greater\")\n",
    "    \n",
    "    if pvalue < 0.05:\n",
    "        cluster_1_list.append((pvalue, word, doc_freq_1[0, idx]))\n",
    "\n",
    "cluster_1_list.sort()"
   ]
  },
  {
   "cell_type": "code",
   "execution_count": 26,
   "metadata": {},
   "outputs": [
    {
     "name": "stdout",
     "output_type": "stream",
     "text": [
      "Top 200 words for cluster 1:\n",
      "abline 65\n",
      "ac 558\n",
      "acafs 36\n",
      "adai 21\n",
      "adaikalavan 11\n",
      "adschai 65\n",
      "advance 618\n",
      "affymetrix 11\n",
      "agingandhealth 50\n",
      "alin 40\n",
      "alternative 1502\n",
      "am 2212\n",
      "amicogodzilla 10\n",
      "and 5768\n",
      "andrewpr 11\n",
      "annis 11\n",
      "anova 131\n",
      "anup 28\n",
      "any 2086\n",
      "anyone 755\n",
      "aov 46\n",
      "archive 481\n",
      "arima 16\n",
      "autocorrelation 17\n",
      "autoregressive 10\n",
      "axis 240\n",
      "banyu 10\n",
      "barata 11\n",
      "barplot 40\n",
      "barplots 13\n",
      "batchfiles 15\n",
      "bayesianfilter 18\n",
      "bendix 10\n",
      "bengtsson 13\n",
      "benilton 24\n",
      "bfgs 48\n",
      "bhagavad 12\n",
      "bic 42\n",
      "biddle 10\n",
      "biglm 10\n",
      "biobase 18\n",
      "biocomputing 10\n",
      "bioconductor 64\n",
      "bioinformation 11\n",
      "biometrie 22\n",
      "biostat 145\n",
      "biostatistical 44\n",
      "biostatistician 27\n",
      "biostatistics 177\n",
      "biplot 25\n",
      "biplots 12\n",
      "bivand 24\n",
      "bivariate 34\n",
      "blas 11\n",
      "blomberg 29\n",
      "bolker 26\n",
      "bosonderzoek 19\n",
      "bothell 14\n",
      "bounces 534\n",
      "boxplot 54\n",
      "boxplots 27\n",
      "brian 438\n",
      "brutschy 10\n",
      "bty 14\n",
      "but 3399\n",
      "byrow 44\n",
      "calboli 11\n",
      "can 3010\n",
      "carstensen 10\n",
      "causas 35\n",
      "cberry 41\n",
      "cbind 222\n",
      "ccil 14\n",
      "ccilindia 16\n",
      "cedex 10\n",
      "cex 59\n",
      "cezar 13\n",
      "ch 5780\n",
      "charilaos 17\n",
      "chiruka 23\n",
      "chisq 23\n",
      "chm 17\n",
      "cholesky 12\n",
      "christos 17\n",
      "clipplot 10\n",
      "cmdscale 11\n",
      "cmis 12\n",
      "cnio 10\n",
      "code 5780\n",
      "codifies 8\n",
      "coef 72\n",
      "coefficients 143\n",
      "col 275\n",
      "colclasses 38\n",
      "colnames 128\n",
      "colsums 17\n",
      "column 448\n",
      "columns 426\n",
      "commented 5780\n",
      "computerstuff 13\n",
      "concatentate 11\n",
      "confidentia 13\n",
      "confuced 10\n",
      "constroptim 13\n",
      "contained 5780\n",
      "continous 10\n",
      "cornejo 10\n",
      "correlations 49\n",
      "cov 19\n",
      "covariance 79\n",
      "covariances 16\n",
      "covariate 28\n",
      "covariates 33\n",
      "coxph 29\n",
      "cph 47\n",
      "cran 295\n",
      "csardi 27\n",
      "cumsum 24\n",
      "cwis 50\n",
      "dalgaard 93\n",
      "data 2455\n",
      "dataframe 149\n",
      "dataframes 22\n",
      "datapoints 18\n",
      "dataset 278\n",
      "datasets 211\n",
      "datastep 14\n",
      "deepankar 34\n",
      "deepayan 145\n",
      "delasheras 15\n",
      "deleted 1426\n",
      "delim 14\n",
      "dendrogram 13\n",
      "deviance 36\n",
      "deviations 24\n",
      "df 274\n",
      "dichotomous 14\n",
      "dieter 52\n",
      "difford 14\n",
      "dimitris 53\n",
      "dimnames 35\n",
      "discriminant 18\n",
      "dnorm 23\n",
      "do 5780\n",
      "documentclass 11\n",
      "donoso 10\n",
      "dorai 26\n",
      "dotplot 18\n",
      "dput 12\n",
      "dtaa 14\n",
      "dusa 12\n",
      "ecdf 16\n",
      "ecologist 11\n",
      "econometric 19\n",
      "ecrc 33\n",
      "eddelbuettel 17\n",
      "edu 555\n",
      "efax 11\n",
      "efg 21\n",
      "ehsanul 19\n",
      "eigenvalues 19\n",
      "elte 21\n",
      "elyakhlifi 54\n",
      "emailtogauravyadav 11\n",
      "enclos 36\n",
      "envir 50\n",
      "epsilon 26\n",
      "eremeev 29\n",
      "error 1286\n",
      "ethz 5780\n",
      "euclidean 36\n",
      "evalq 22\n",
      "everitt 10\n",
      "ewma 11\n",
      "example 1323\n",
      "exogenous 10\n",
      "factanal 10\n",
      "factor 439\n",
      "famprevmed 10\n",
      "farimagsgade 42\n",
      "fax 902\n",
      "fiebert 13\n",
      "finzi 51\n",
      "fisheries 30\n",
      "fmts 15\n",
      "fnscale 16\n",
      "following 1277\n",
      "formatc 11\n",
      "frame 827\n",
      "freq 39\n",
      "freshwaters 31\n",
      "frosst 10\n",
      "fucntion 14\n",
      "function 2058\n",
      "functionaldiversity 21\n",
      "fwf 24\n",
      "gabor 190\n",
      "garch 11\n",
      "gatemaze 23\n"
     ]
    }
   ],
   "source": [
    "print(\"Top 200 words for cluster 1:\")\n",
    "count = 1\n",
    "for pvalue, word, doc_freq  in cluster_1_list:\n",
    "    if word.isalpha():\n",
    "        print(word, doc_freq)\n",
    "        count +=1\n",
    "        \n",
    "    if count == 200:\n",
    "        break"
   ]
  },
  {
   "cell_type": "code",
   "execution_count": null,
   "metadata": {},
   "outputs": [],
   "source": []
  }
 ],
 "metadata": {
  "kernelspec": {
   "display_name": "Python 3",
   "language": "python",
   "name": "python3"
  },
  "language_info": {
   "codemirror_mode": {
    "name": "ipython",
    "version": 3
   },
   "file_extension": ".py",
   "mimetype": "text/x-python",
   "name": "python",
   "nbconvert_exporter": "python",
   "pygments_lexer": "ipython3",
   "version": "3.8.3"
  }
 },
 "nbformat": 4,
 "nbformat_minor": 4
}
