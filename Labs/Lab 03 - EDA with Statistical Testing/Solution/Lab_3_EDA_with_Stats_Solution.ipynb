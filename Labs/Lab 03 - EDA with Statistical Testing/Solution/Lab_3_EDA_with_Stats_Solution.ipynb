{
 "cells": [
  {
   "cell_type": "markdown",
   "metadata": {},
   "source": [
    "# CS3300 Data Science\n",
    "# Lab 03: Exploratory Data Analysis"
   ]
  },
  {
   "cell_type": "markdown",
   "metadata": {},
   "source": [
    "## Learning Objectives\n",
    "1. Understand the basic process of data science and exploratory data analysis including modes of inquiry (hypothesis driven, data driven, and methods driven).\n",
    "\n",
    "2. Select, apply, and interpret appropriate visual and statistical methods to analyze distributions of individual variables and relationships between pairs of variables.\n",
    "\n",
    "3. Communicate findings through generated data visualizations and reports.\n",
    "\n",
    "4. Identify correlated and predictive variables.\n"
   ]
  },
  {
   "cell_type": "markdown",
   "metadata": {},
   "source": [
    "## Overview\n",
    "In the last two labs, you cleaned a data set of real estate transactions and then using visualizations to explore the relationships between the independent (input) and dependent (output) variables for two machine learning tasks. In this lab, you are going to test for correlation and association between the independent and dependent variables using statistical tests.\n",
    "\n",
    "You should prepare your results as a Jupyter notebook.  In addition to code, you should have text offering interpretations and explanations.  Your notebook should be organized into sections with appropriate headers. The notebook and its code should be clean and polished.  Use the Blood Glucose Tutorial as a template and reference.\n"
   ]
  },
  {
   "cell_type": "markdown",
   "metadata": {},
   "source": [
    "## Part I: Review of Statistical Tests"
   ]
  },
  {
   "cell_type": "markdown",
   "metadata": {},
   "source": [
    "You were introduced to statistical hypothesis testing in your probability and statistics class.  We're going to start by reviewing statistical testing.\n",
    "\n",
    "Let's say that you decide you want to know if playing video games impacts students' grades.  You set up a survey which asks students two questions:\n",
    "\n",
    "1. Do you play video games regularly?  Yes / no\n",
    "2. What is your GPA?\n",
    "\n",
    "\n",
    "a. Before looking at the survey results, you decide to create a hypothesis.  Write your hypothesis in your notebook (one sentence).\n",
    "\n",
    "_Good_\n",
    "\n",
    "__Hypothesis:__ Students who play video games regularly will have a lower GPA than students who do not play video games regularly. \n",
    "\n",
    "__Hypothesis:__ Students who play video games regularly will have a higher GPA than students who do not play video games regularly. \n",
    "\n",
    "__Hypothesis:__ Students who play video games regularly will have a _different_ GPA than students who do not play video games regularly. \n",
    "\n",
    "_Poor_\n",
    "\n",
    "__Hypothesis:__ There is no difference between students who play video games regularly and those who don't.\n",
    "\n",
    "\n",
    "_Opinion on formulating hypotheses_\n",
    "\n",
    "Statistically, you test the alternative against the null. One does not exist without the other. In papers, it is common to develop the alternative (and leave the null implicit). You expect a positive or negative effect, and test it against 'no effect'. From a research philosophy point of view, you may find support for an alternative hypothesis, but the absence of an effect is not the same as finding support for the null. Thus, while it is impossible to support a 'no effect', and while it is generally not too interesting to see papers developing nothing (i.e., no relationship), I would propose developing the alternative. The null is implicitly assumed in the minds of your peers.\n",
    "\n",
    "_Bad_\n",
    "\n",
    "__Hypothesis:__ Students who play video games procrastinate on homework.\n",
    "\n",
    "__Hypothesis:__ It is impossible for a student to play video games and get good grades.\n",
    "\n",
    "\n",
    "### Survery Results\n",
    "\n",
    "| Number of Students | Average GPA | Standard Deviation | Group |\n",
    "| --- | --- | --- | --- |\n",
    "| 68 | 3.4 | 1.2 | Regularly play video games |\n",
    "| 32 | 3.3 | 1.1 | Do not regularly play video games|\n",
    "\n",
    "\n",
    "### two sample t-test\n",
    "\n",
    "\n",
    "   - __Situations to use the two-sample t-test:__ The two-sample t-test is suited for use when you have a nominal variable (categorical - two states) and a numerical value. The given problem in this lab is a great example of this. Another example might be comparing rat weights between female and male rats in a lab setting.\n",
    "    \n",
    "   - __Assumptions for the two-sample t-test:__ \n",
    "        - This form of the t-test does assume normally distributed data although it is somehwat robust to violations of this assumptions _if_ the distributions have the same violations. \n",
    "        - If possible you should perform data transforms (such as a log transform) to pull the data points back to a normal distribution). This t-test can also be expected to give ~5% false positives.\n",
    "        - If the distributions between the groups are different, severely non-normal, or small sample sizes, then this test may give innacurate results. In such cases, you may want to adjust expectations/thresholds for acceptable p-values.\n",
    "        - Homoscedasticity.\n",
    "        \n",
    "   - __Null Hypothesis:__ There is no difference in GPA between students who play video games regularly and those who do not play games regularly.\n",
    "    \n",
    "   - __Alternative Hypothesis:__ Students who play video games regularly have a different GPA than students who don't play video games regularly.\n",
    "    "
   ]
  },
  {
   "cell_type": "code",
   "execution_count": 1,
   "metadata": {},
   "outputs": [],
   "source": [
    "import numpy as np\n",
    "import pandas as pd\n",
    "import matplotlib.pyplot as plt\n",
    "import seaborn as sns\n",
    "import scipy.stats as stats"
   ]
  },
  {
   "cell_type": "code",
   "execution_count": 2,
   "metadata": {},
   "outputs": [
    {
     "name": "stdout",
     "output_type": "stream",
     "text": [
      "The p-value for the given ttest with the provided group means, standard deviations, and numbers is 0.6908062583072547\n"
     ]
    }
   ],
   "source": [
    "stat,p = stats.ttest_ind_from_stats(3.4,1.2,68,3.3,1.1,32)\n",
    "print(\"The p-value for the given ttest with the provided group means, standard deviations, and numbers is \" + str(p))"
   ]
  },
  {
   "cell_type": "markdown",
   "metadata": {},
   "source": [
    "With the found p-value of ~0.69, when we compare this to our threshold of 0.01 it is not high enough for us to reject the null hypothesis. This suggest that the two groups do not have different means, or at least we do not have sufficient evidence here to support that claim.\n",
    "\n",
    "With the use of this statistical test, we would not be able to reject the null hypothesis. We do not have evidence of there being an effect of video game play time on GPA in this group of students."
   ]
  },
  {
   "cell_type": "markdown",
   "metadata": {},
   "source": [
    "## Part II Exploring Additional Statistical Tests"
   ]
  },
  {
   "cell_type": "markdown",
   "metadata": {},
   "source": [
    "### Test for correlation based on linear regression\n",
    "\n",
    "http://www.biostathandbook.com/linearregression.html\n",
    "\n",
    "__Types of Variables__\n",
    "   - Numerical\n",
    "   - Numerical\n",
    "    \n",
    "__Form of the hypothesis__\n",
    "\n",
    "_Null Hypothesis_ $H_0$ - The slope of the line is equal to zero. There is no relationship between the independent and the dependent variables.\n",
    "\n",
    "_Alternative Hypothesis_ $H_1$ - The slope of the line is not equal to zero. There is a relationship between the independent variable and the depenendent variable.\n"
   ]
  },
  {
   "cell_type": "markdown",
   "metadata": {},
   "source": [
    "### The Kruskal-Wallis test\n",
    "\n",
    "http://www.biostathandbook.com/kruskalwallis.html\n",
    "\n",
    "Similar use case for 1-way anova, but you don't meet the normality assumption.\n",
    "\n",
    "Non-parametric test (common for use with nominal variable types)\n",
    "\n",
    "__Types of Variables__\n",
    "   - Numerical\n",
    "   - Nominal (categorical)\n",
    "   \n",
    "__Form of the hypothesis__\n",
    "\n",
    "_Null Hypothesis_ $H_0$ - The mean ranks between the two groups (ranked variables) are the same. (no difference) This is sometimes stated as the distributions that describe the two groups that the samples are pulled from are not different. Although the author has some problems with this statement. This test would not capture differences in variance in these distributions, just the means. It is sometimes better to think of this as comparing medians, but this still assumes similar distributions.\n",
    "\n",
    "_Alternative Hypothesis_ $H_1$ - There is a difference between the mean ranks of the two groups."
   ]
  },
  {
   "cell_type": "markdown",
   "metadata": {},
   "source": [
    "### Chi-square test of goodness-of-fit\n",
    "\n",
    "http://www.biostathandbook.com/chigof.html\n",
    "\n",
    "__Types of Variables__\n",
    "   - Nominal (categorical)\n",
    "   \n",
    "__Form of the hypothesis__\n",
    "\n",
    "_Null Hypothesis_ $H_0$ - The counts of values in each state/category of the variable are what you would expect from a theoretical distribution of those categories.\n",
    "\n",
    "_Alternative Hypothesis_ $H_1$ - The observed counts of state/categories are not what you would theoretically expect to see."
   ]
  },
  {
   "cell_type": "markdown",
   "metadata": {},
   "source": [
    "## Part III Regression on Price"
   ]
  },
  {
   "cell_type": "code",
   "execution_count": 3,
   "metadata": {},
   "outputs": [
    {
     "data": {
      "text/html": [
       "<div>\n",
       "<style scoped>\n",
       "    .dataframe tbody tr th:only-of-type {\n",
       "        vertical-align: middle;\n",
       "    }\n",
       "\n",
       "    .dataframe tbody tr th {\n",
       "        vertical-align: top;\n",
       "    }\n",
       "\n",
       "    .dataframe thead th {\n",
       "        text-align: right;\n",
       "    }\n",
       "</style>\n",
       "<table border=\"1\" class=\"dataframe\">\n",
       "  <thead>\n",
       "    <tr style=\"text-align: right;\">\n",
       "      <th></th>\n",
       "      <th>street</th>\n",
       "      <th>sq__ft</th>\n",
       "      <th>sale_date</th>\n",
       "      <th>price</th>\n",
       "      <th>latitude</th>\n",
       "      <th>longitude</th>\n",
       "      <th>city</th>\n",
       "      <th>state</th>\n",
       "      <th>zip</th>\n",
       "      <th>beds</th>\n",
       "      <th>baths</th>\n",
       "      <th>type</th>\n",
       "      <th>Empty Lot</th>\n",
       "      <th>Street Types</th>\n",
       "    </tr>\n",
       "  </thead>\n",
       "  <tbody>\n",
       "    <tr>\n",
       "      <th>0</th>\n",
       "      <td>3526 HIGH ST</td>\n",
       "      <td>836</td>\n",
       "      <td>Wed May 21 00:00:00 EDT 2008</td>\n",
       "      <td>59222</td>\n",
       "      <td>38.631913</td>\n",
       "      <td>-121.434879</td>\n",
       "      <td>SACRAMENTO</td>\n",
       "      <td>CA</td>\n",
       "      <td>95838</td>\n",
       "      <td>2</td>\n",
       "      <td>1</td>\n",
       "      <td>Residential</td>\n",
       "      <td>False</td>\n",
       "      <td>ST</td>\n",
       "    </tr>\n",
       "    <tr>\n",
       "      <th>1</th>\n",
       "      <td>51 OMAHA CT</td>\n",
       "      <td>1167</td>\n",
       "      <td>Wed May 21 00:00:00 EDT 2008</td>\n",
       "      <td>68212</td>\n",
       "      <td>38.478902</td>\n",
       "      <td>-121.431028</td>\n",
       "      <td>SACRAMENTO</td>\n",
       "      <td>CA</td>\n",
       "      <td>95823</td>\n",
       "      <td>3</td>\n",
       "      <td>1</td>\n",
       "      <td>Residential</td>\n",
       "      <td>False</td>\n",
       "      <td>CT</td>\n",
       "    </tr>\n",
       "    <tr>\n",
       "      <th>2</th>\n",
       "      <td>2796 BRANCH ST</td>\n",
       "      <td>796</td>\n",
       "      <td>Wed May 21 00:00:00 EDT 2008</td>\n",
       "      <td>68880</td>\n",
       "      <td>38.618305</td>\n",
       "      <td>-121.443839</td>\n",
       "      <td>SACRAMENTO</td>\n",
       "      <td>CA</td>\n",
       "      <td>95815</td>\n",
       "      <td>2</td>\n",
       "      <td>1</td>\n",
       "      <td>Residential</td>\n",
       "      <td>False</td>\n",
       "      <td>ST</td>\n",
       "    </tr>\n",
       "    <tr>\n",
       "      <th>3</th>\n",
       "      <td>2805 JANETTE WAY</td>\n",
       "      <td>852</td>\n",
       "      <td>Wed May 21 00:00:00 EDT 2008</td>\n",
       "      <td>69307</td>\n",
       "      <td>38.616835</td>\n",
       "      <td>-121.439146</td>\n",
       "      <td>SACRAMENTO</td>\n",
       "      <td>CA</td>\n",
       "      <td>95815</td>\n",
       "      <td>2</td>\n",
       "      <td>1</td>\n",
       "      <td>Residential</td>\n",
       "      <td>False</td>\n",
       "      <td>WAY</td>\n",
       "    </tr>\n",
       "    <tr>\n",
       "      <th>4</th>\n",
       "      <td>6001 MCMAHON DR</td>\n",
       "      <td>797</td>\n",
       "      <td>Wed May 21 00:00:00 EDT 2008</td>\n",
       "      <td>81900</td>\n",
       "      <td>38.519470</td>\n",
       "      <td>-121.435768</td>\n",
       "      <td>SACRAMENTO</td>\n",
       "      <td>CA</td>\n",
       "      <td>95824</td>\n",
       "      <td>2</td>\n",
       "      <td>1</td>\n",
       "      <td>Residential</td>\n",
       "      <td>False</td>\n",
       "      <td>DR</td>\n",
       "    </tr>\n",
       "  </tbody>\n",
       "</table>\n",
       "</div>"
      ],
      "text/plain": [
       "             street  sq__ft                     sale_date  price   latitude  \\\n",
       "0      3526 HIGH ST     836  Wed May 21 00:00:00 EDT 2008  59222  38.631913   \n",
       "1       51 OMAHA CT    1167  Wed May 21 00:00:00 EDT 2008  68212  38.478902   \n",
       "2    2796 BRANCH ST     796  Wed May 21 00:00:00 EDT 2008  68880  38.618305   \n",
       "3  2805 JANETTE WAY     852  Wed May 21 00:00:00 EDT 2008  69307  38.616835   \n",
       "4   6001 MCMAHON DR     797  Wed May 21 00:00:00 EDT 2008  81900  38.519470   \n",
       "\n",
       "    longitude        city state    zip  beds  baths         type  Empty Lot  \\\n",
       "0 -121.434879  SACRAMENTO    CA  95838     2      1  Residential      False   \n",
       "1 -121.431028  SACRAMENTO    CA  95823     3      1  Residential      False   \n",
       "2 -121.443839  SACRAMENTO    CA  95815     2      1  Residential      False   \n",
       "3 -121.439146  SACRAMENTO    CA  95815     2      1  Residential      False   \n",
       "4 -121.435768  SACRAMENTO    CA  95824     2      1  Residential      False   \n",
       "\n",
       "  Street Types  \n",
       "0           ST  \n",
       "1           CT  \n",
       "2           ST  \n",
       "3          WAY  \n",
       "4           DR  "
      ]
     },
     "execution_count": 3,
     "metadata": {},
     "output_type": "execute_result"
    }
   ],
   "source": [
    "data = pd.read_csv('Cleaned_Sacremento_Real_Estate_Date.csv')\n",
    "data.head(5)"
   ]
  },
  {
   "cell_type": "code",
   "execution_count": 4,
   "metadata": {},
   "outputs": [
    {
     "name": "stdout",
     "output_type": "stream",
     "text": [
      "<class 'pandas.core.frame.DataFrame'>\n",
      "RangeIndex: 985 entries, 0 to 984\n",
      "Data columns (total 14 columns):\n",
      " #   Column        Non-Null Count  Dtype   \n",
      "---  ------        --------------  -----   \n",
      " 0   street        985 non-null    object  \n",
      " 1   sq__ft        985 non-null    int64   \n",
      " 2   sale_date     985 non-null    object  \n",
      " 3   price         985 non-null    int64   \n",
      " 4   latitude      985 non-null    float64 \n",
      " 5   longitude     985 non-null    float64 \n",
      " 6   Empty Lot     985 non-null    bool    \n",
      " 7   Street Types  985 non-null    category\n",
      " 8   city          985 non-null    category\n",
      " 9   state         985 non-null    category\n",
      " 10  zip           985 non-null    category\n",
      " 11  beds          985 non-null    category\n",
      " 12  baths         985 non-null    category\n",
      " 13  type          985 non-null    category\n",
      "dtypes: bool(1), category(7), float64(2), int64(2), object(2)\n",
      "memory usage: 60.2+ KB\n"
     ]
    }
   ],
   "source": [
    "data_mod = data.drop(columns=[\"city\",\"state\",\"zip\",\"beds\",\"baths\",\"type\"])\n",
    "data_mod[\"city\"] = data[\"city\"].astype(\"category\")\n",
    "data_mod[\"state\"] = data[\"state\"].astype(\"category\")\n",
    "data_mod[\"zip\"] = data[\"zip\"].astype(\"category\")\n",
    "data_mod[\"beds\"] = data[\"beds\"].astype(\"category\")\n",
    "data_mod[\"baths\"] = data[\"baths\"].astype(\"category\")\n",
    "data_mod[\"type\"] = data[\"type\"].astype(\"category\")\n",
    "data_mod[\"Street Types\"] = data[\"Street Types\"].astype(\"category\")\n",
    "data_mod.info(verbose=True)"
   ]
  },
  {
   "cell_type": "code",
   "execution_count": 5,
   "metadata": {},
   "outputs": [
    {
     "name": "stdout",
     "output_type": "stream",
     "text": [
      "Slope: -4.159446882342381e-08\n",
      "Intercept: 38.61747119258186\n",
      "r: -0.03957326303078462\n",
      "P-value: 0.2146410657697646\n"
     ]
    },
    {
     "data": {
      "text/plain": [
       "<matplotlib.axes._subplots.AxesSubplot at 0x1be60aedb20>"
      ]
     },
     "execution_count": 5,
     "metadata": {},
     "output_type": "execute_result"
    },
    {
     "data": {
      "image/png": "[encoded data removed]",
      "text/plain": [
       "<Figure size 432x288 with 1 Axes>"
      ]
     },
     "metadata": {
      "needs_background": "light"
     },
     "output_type": "display_data"
    }
   ],
   "source": [
    "slope, intercept, r, p, stderr = stats.linregress(data_mod[\"price\"], data_mod[\"latitude\"])\n",
    "print(\"Slope: \" + str(slope))\n",
    "print(\"Intercept: \" + str(intercept))\n",
    "print(\"r: \" + str(r))\n",
    "print(\"P-value: \" + str(p))\n",
    "sns.regplot(x=data_mod[\"latitude\"],y=data_mod[\"price\"])"
   ]
  },
  {
   "cell_type": "code",
   "execution_count": 6,
   "metadata": {},
   "outputs": [
    {
     "name": "stdout",
     "output_type": "stream",
     "text": [
      "Slope: 2.843039755978339e-07\n",
      "Intercept: -121.42255038064008\n",
      "r: 0.28448478172766434\n",
      "P-value: 8.552356644185186e-20\n"
     ]
    },
    {
     "data": {
      "text/plain": [
       "<matplotlib.axes._subplots.AxesSubplot at 0x1be612d75b0>"
      ]
     },
     "execution_count": 6,
     "metadata": {},
     "output_type": "execute_result"
    },
    {
     "data": {
      "image/png": "[encoded data removed]",
      "text/plain": [
       "<Figure size 432x288 with 1 Axes>"
      ]
     },
     "metadata": {
      "needs_background": "light"
     },
     "output_type": "display_data"
    }
   ],
   "source": [
    "slope, intercept, r, p, stderr = stats.linregress(data_mod[\"price\"], data_mod[\"longitude\"])\n",
    "print(\"Slope: \" + str(slope))\n",
    "print(\"Intercept: \" + str(intercept))\n",
    "print(\"r: \" + str(r))\n",
    "print(\"P-value: \" + str(p))\n",
    "sns.regplot(x=data_mod[\"longitude\"],y=data_mod[\"price\"])"
   ]
  },
  {
   "cell_type": "code",
   "execution_count": 7,
   "metadata": {},
   "outputs": [
    {
     "name": "stdout",
     "output_type": "stream",
     "text": [
      "Slope: 0.002058529857298544\n",
      "Intercept: 832.923792993438\n",
      "r: 0.333896955406177\n",
      "P-value: 4.433056844561304e-27\n"
     ]
    },
    {
     "data": {
      "text/plain": [
       "<matplotlib.axes._subplots.AxesSubplot at 0x1be6133a700>"
      ]
     },
     "execution_count": 7,
     "metadata": {},
     "output_type": "execute_result"
    },
    {
     "data": {
      "image/png": "[encoded data removed]",
      "text/plain": [
       "<Figure size 432x288 with 1 Axes>"
      ]
     },
     "metadata": {
      "needs_background": "light"
     },
     "output_type": "display_data"
    }
   ],
   "source": [
    "slope, intercept, r, p, stderr = stats.linregress(data_mod[\"price\"], data_mod[\"sq__ft\"])\n",
    "print(\"Slope: \" + str(slope))\n",
    "print(\"Intercept: \" + str(intercept))\n",
    "print(\"r: \" + str(r))\n",
    "print(\"P-value: \" + str(p))\n",
    "sns.regplot(x=data_mod[\"sq__ft\"],y=data_mod[\"price\"])"
   ]
  },
  {
   "cell_type": "code",
   "execution_count": 25,
   "metadata": {},
   "outputs": [
    {
     "name": "stdout",
     "output_type": "stream",
     "text": [
      "Slope: 0.0038431897116160767\n",
      "Intercept: 709.3325775649582\n",
      "r: 0.6937079452714163\n",
      "P-value: 7.670547834332482e-118\n"
     ]
    },
    {
     "data": {
      "text/plain": [
       "<matplotlib.axes._subplots.AxesSubplot at 0x1be61cb1e80>"
      ]
     },
     "execution_count": 25,
     "metadata": {},
     "output_type": "execute_result"
    },
    {
     "data": {
      "image/png": "[encoded data removed]",
      "text/plain": [
       "<Figure size 432x288 with 1 Axes>"
      ]
     },
     "metadata": {
      "needs_background": "light"
     },
     "output_type": "display_data"
    }
   ],
   "source": [
    "mask = data_mod[\"sq__ft\"].values > 0\n",
    "slope, intercept, r, p, stderr = stats.linregress(data_mod[\"price\"][mask], data_mod[\"sq__ft\"][mask])\n",
    "print(\"Slope: \" + str(slope))\n",
    "print(\"Intercept: \" + str(intercept))\n",
    "print(\"r: \" + str(r))\n",
    "print(\"P-value: \" + str(p))\n",
    "sns.regplot(x=data_mod[\"sq__ft\"][mask],y=data_mod[\"price\"][mask])"
   ]
  },
  {
   "cell_type": "markdown",
   "metadata": {},
   "source": [
    "## Kruskal-Wallis test"
   ]
  },
  {
   "cell_type": "markdown",
   "metadata": {},
   "source": [
    "residential type and price"
   ]
  },
  {
   "cell_type": "code",
   "execution_count": 8,
   "metadata": {},
   "outputs": [
    {
     "data": {
      "text/plain": [
       "array(['Condo', 'Multi-Family', 'Residential', 'Unkown'], dtype=object)"
      ]
     },
     "execution_count": 8,
     "metadata": {},
     "output_type": "execute_result"
    }
   ],
   "source": [
    "np.unique(data_mod[\"type\"].values)"
   ]
  },
  {
   "cell_type": "code",
   "execution_count": 9,
   "metadata": {},
   "outputs": [],
   "source": [
    "samples_by_group = []\n",
    "for value in set(data_mod[\"type\"]):\n",
    "    mask = data_mod[\"type\"] == value\n",
    "    samples_by_group.append(data_mod[\"price\"][mask])"
   ]
  },
  {
   "cell_type": "code",
   "execution_count": 10,
   "metadata": {},
   "outputs": [
    {
     "name": "stdout",
     "output_type": "stream",
     "text": [
      "P-value: 1.1531292565464816e-06\n"
     ]
    }
   ],
   "source": [
    "stat, p = stats.kruskal(*samples_by_group)\n",
    "print(\"P-value: \" + str(p))"
   ]
  },
  {
   "cell_type": "code",
   "execution_count": 18,
   "metadata": {},
   "outputs": [
    {
     "data": {
      "text/plain": [
       "<matplotlib.axes._subplots.AxesSubplot at 0x1be610e0490>"
      ]
     },
     "execution_count": 18,
     "metadata": {},
     "output_type": "execute_result"
    },
    {
     "data": {
      "image/png": "[encoded data removed]",
      "text/plain": [
       "<Figure size 432x288 with 1 Axes>"
      ]
     },
     "metadata": {
      "needs_background": "light"
     },
     "output_type": "display_data"
    }
   ],
   "source": [
    "sns.boxplot(x=data_mod[\"type\"], y=data_mod[\"price\"])"
   ]
  },
  {
   "cell_type": "markdown",
   "metadata": {},
   "source": [
    "Street Types type and price"
   ]
  },
  {
   "cell_type": "code",
   "execution_count": 11,
   "metadata": {},
   "outputs": [],
   "source": [
    "samples_by_group = []\n",
    "for value in set(data_mod[\"Street Types\"]):\n",
    "    mask = data_mod[\"Street Types\"] == value\n",
    "    samples_by_group.append(data_mod[\"price\"][mask])"
   ]
  },
  {
   "cell_type": "code",
   "execution_count": 12,
   "metadata": {},
   "outputs": [
    {
     "name": "stdout",
     "output_type": "stream",
     "text": [
      "P-value: 3.0196179902265414e-16\n"
     ]
    }
   ],
   "source": [
    "stat, p = stats.kruskal(*samples_by_group)\n",
    "print(\"P-value: \" + str(p))"
   ]
  },
  {
   "cell_type": "code",
   "execution_count": 20,
   "metadata": {},
   "outputs": [
    {
     "data": {
      "text/plain": [
       "<matplotlib.axes._subplots.AxesSubplot at 0x1be618baa60>"
      ]
     },
     "execution_count": 20,
     "metadata": {},
     "output_type": "execute_result"
    },
    {
     "data": {
      "image/png": "[encoded data removed]",
      "text/plain": [
       "<Figure size 432x288 with 1 Axes>"
      ]
     },
     "metadata": {
      "needs_background": "light"
     },
     "output_type": "display_data"
    }
   ],
   "source": [
    "sns.boxplot(y=data_mod[\"Street Types\"], x=data_mod[\"price\"])"
   ]
  },
  {
   "cell_type": "markdown",
   "metadata": {},
   "source": [
    "Beds and price"
   ]
  },
  {
   "cell_type": "code",
   "execution_count": 13,
   "metadata": {},
   "outputs": [],
   "source": [
    "samples_by_group = []\n",
    "for value in set(data_mod[\"beds\"]):\n",
    "    mask = data_mod[\"beds\"] == value\n",
    "    samples_by_group.append(data_mod[\"price\"][mask])"
   ]
  },
  {
   "cell_type": "code",
   "execution_count": 14,
   "metadata": {},
   "outputs": [
    {
     "name": "stdout",
     "output_type": "stream",
     "text": [
      "P-value: 9.323012566322206e-38\n"
     ]
    }
   ],
   "source": [
    "stat, p = stats.kruskal(*samples_by_group)\n",
    "print(\"P-value: \" + str(p))"
   ]
  },
  {
   "cell_type": "code",
   "execution_count": 22,
   "metadata": {},
   "outputs": [
    {
     "data": {
      "text/plain": [
       "<matplotlib.axes._subplots.AxesSubplot at 0x1be61bcbaf0>"
      ]
     },
     "execution_count": 22,
     "metadata": {},
     "output_type": "execute_result"
    },
    {
     "data": {
      "image/png": "[encoded data removed]",
      "text/plain": [
       "<Figure size 432x288 with 1 Axes>"
      ]
     },
     "metadata": {
      "needs_background": "light"
     },
     "output_type": "display_data"
    }
   ],
   "source": [
    "sns.boxplot(x=data_mod[\"beds\"], y=data_mod[\"price\"])"
   ]
  },
  {
   "cell_type": "markdown",
   "metadata": {},
   "source": [
    "Baths and price"
   ]
  },
  {
   "cell_type": "code",
   "execution_count": 15,
   "metadata": {},
   "outputs": [],
   "source": [
    "samples_by_group = []\n",
    "for value in set(data_mod[\"baths\"]):\n",
    "    mask = data_mod[\"baths\"] == value\n",
    "    samples_by_group.append(data_mod[\"price\"][mask])"
   ]
  },
  {
   "cell_type": "code",
   "execution_count": 16,
   "metadata": {},
   "outputs": [
    {
     "name": "stdout",
     "output_type": "stream",
     "text": [
      "P-value: 1.1109110373679834e-50\n"
     ]
    }
   ],
   "source": [
    "stat, p = stats.kruskal(*samples_by_group)\n",
    "print(\"P-value: \" + str(p))"
   ]
  },
  {
   "cell_type": "code",
   "execution_count": 23,
   "metadata": {},
   "outputs": [
    {
     "data": {
      "text/plain": [
       "<matplotlib.axes._subplots.AxesSubplot at 0x1be61c83130>"
      ]
     },
     "execution_count": 23,
     "metadata": {},
     "output_type": "execute_result"
    },
    {
     "data": {
      "image/png": "[encoded data removed]",
      "text/plain": [
       "<Figure size 432x288 with 1 Axes>"
      ]
     },
     "metadata": {
      "needs_background": "light"
     },
     "output_type": "display_data"
    }
   ],
   "source": [
    "sns.boxplot(x=data_mod[\"baths\"], y=data_mod[\"price\"])"
   ]
  },
  {
   "cell_type": "markdown",
   "metadata": {},
   "source": [
    "## Part VI Classification on Property Type"
   ]
  },
  {
   "cell_type": "markdown",
   "metadata": {},
   "source": [
    "### Classification Numerical vs Categorical (Kruskal-Wallis)"
   ]
  },
  {
   "cell_type": "markdown",
   "metadata": {},
   "source": [
    "latitude"
   ]
  },
  {
   "cell_type": "code",
   "execution_count": 11,
   "metadata": {},
   "outputs": [
    {
     "name": "stdout",
     "output_type": "stream",
     "text": [
      "P-value: 0.4933696138791226\n"
     ]
    }
   ],
   "source": [
    "samples_by_group = []\n",
    "for value in set(data_mod[\"type\"]):\n",
    "    mask = data_mod[\"type\"] == value\n",
    "    samples_by_group.append(data_mod[\"latitude\"][mask])\n",
    "    \n",
    "stat, p = stats.kruskal(*samples_by_group)\n",
    "print(\"P-value: \" + str(p))"
   ]
  },
  {
   "cell_type": "markdown",
   "metadata": {},
   "source": [
    "longitude"
   ]
  },
  {
   "cell_type": "code",
   "execution_count": 12,
   "metadata": {},
   "outputs": [
    {
     "name": "stdout",
     "output_type": "stream",
     "text": [
      "P-value: 0.3574295072205312\n"
     ]
    }
   ],
   "source": [
    "samples_by_group = []\n",
    "for value in set(data_mod[\"type\"]):\n",
    "    mask = data_mod[\"type\"] == value\n",
    "    samples_by_group.append(data_mod[\"longitude\"][mask])\n",
    "    \n",
    "stat, p = stats.kruskal(*samples_by_group)\n",
    "print(\"P-value: \" + str(p))"
   ]
  },
  {
   "cell_type": "markdown",
   "metadata": {},
   "source": [
    "Square footage"
   ]
  },
  {
   "cell_type": "code",
   "execution_count": 13,
   "metadata": {},
   "outputs": [
    {
     "name": "stdout",
     "output_type": "stream",
     "text": [
      "P-value: 3.849635133463987e-12\n"
     ]
    }
   ],
   "source": [
    "samples_by_group = []\n",
    "for value in set(data_mod[\"type\"]):\n",
    "    mask = data_mod[\"type\"] == value\n",
    "    samples_by_group.append(data_mod[\"sq__ft\"][mask])\n",
    "    \n",
    "stat, p = stats.kruskal(*samples_by_group)\n",
    "print(\"P-value: \" + str(p))"
   ]
  },
  {
   "cell_type": "markdown",
   "metadata": {},
   "source": [
    "### Classification Categorical vs Categorical (Chi-Squared test of independence)"
   ]
  },
  {
   "cell_type": "markdown",
   "metadata": {},
   "source": [
    "Type-Street Type"
   ]
  },
  {
   "cell_type": "code",
   "execution_count": 14,
   "metadata": {},
   "outputs": [
    {
     "data": {
      "text/html": [
       "<div>\n",
       "<style scoped>\n",
       "    .dataframe tbody tr th:only-of-type {\n",
       "        vertical-align: middle;\n",
       "    }\n",
       "\n",
       "    .dataframe tbody tr th {\n",
       "        vertical-align: top;\n",
       "    }\n",
       "\n",
       "    .dataframe thead th {\n",
       "        text-align: right;\n",
       "    }\n",
       "</style>\n",
       "<table border=\"1\" class=\"dataframe\">\n",
       "  <thead>\n",
       "    <tr style=\"text-align: right;\">\n",
       "      <th>type</th>\n",
       "      <th>Condo</th>\n",
       "      <th>Multi-Family</th>\n",
       "      <th>Residential</th>\n",
       "      <th>Unkown</th>\n",
       "    </tr>\n",
       "    <tr>\n",
       "      <th>Street Types</th>\n",
       "      <th></th>\n",
       "      <th></th>\n",
       "      <th></th>\n",
       "      <th></th>\n",
       "    </tr>\n",
       "  </thead>\n",
       "  <tbody>\n",
       "    <tr>\n",
       "      <th>AVE</th>\n",
       "      <td>1</td>\n",
       "      <td>1</td>\n",
       "      <td>72</td>\n",
       "      <td>0</td>\n",
       "    </tr>\n",
       "    <tr>\n",
       "      <th>BLVD</th>\n",
       "      <td>4</td>\n",
       "      <td>1</td>\n",
       "      <td>8</td>\n",
       "      <td>0</td>\n",
       "    </tr>\n",
       "    <tr>\n",
       "      <th>BROADWAY</th>\n",
       "      <td>0</td>\n",
       "      <td>0</td>\n",
       "      <td>1</td>\n",
       "      <td>0</td>\n",
       "    </tr>\n",
       "    <tr>\n",
       "      <th>C</th>\n",
       "      <td>0</td>\n",
       "      <td>0</td>\n",
       "      <td>1</td>\n",
       "      <td>0</td>\n",
       "    </tr>\n",
       "    <tr>\n",
       "      <th>CIR</th>\n",
       "      <td>2</td>\n",
       "      <td>2</td>\n",
       "      <td>108</td>\n",
       "      <td>0</td>\n",
       "    </tr>\n",
       "    <tr>\n",
       "      <th>CONEJO</th>\n",
       "      <td>0</td>\n",
       "      <td>0</td>\n",
       "      <td>1</td>\n",
       "      <td>0</td>\n",
       "    </tr>\n",
       "    <tr>\n",
       "      <th>CT</th>\n",
       "      <td>4</td>\n",
       "      <td>1</td>\n",
       "      <td>121</td>\n",
       "      <td>0</td>\n",
       "    </tr>\n",
       "    <tr>\n",
       "      <th>DR</th>\n",
       "      <td>20</td>\n",
       "      <td>1</td>\n",
       "      <td>150</td>\n",
       "      <td>0</td>\n",
       "    </tr>\n",
       "    <tr>\n",
       "      <th>E</th>\n",
       "      <td>1</td>\n",
       "      <td>0</td>\n",
       "      <td>0</td>\n",
       "      <td>0</td>\n",
       "    </tr>\n",
       "    <tr>\n",
       "      <th>GRANDE</th>\n",
       "      <td>0</td>\n",
       "      <td>0</td>\n",
       "      <td>1</td>\n",
       "      <td>0</td>\n",
       "    </tr>\n",
       "    <tr>\n",
       "      <th>HL</th>\n",
       "      <td>1</td>\n",
       "      <td>0</td>\n",
       "      <td>0</td>\n",
       "      <td>0</td>\n",
       "    </tr>\n",
       "    <tr>\n",
       "      <th>LN</th>\n",
       "      <td>8</td>\n",
       "      <td>0</td>\n",
       "      <td>37</td>\n",
       "      <td>1</td>\n",
       "    </tr>\n",
       "    <tr>\n",
       "      <th>LOOP</th>\n",
       "      <td>0</td>\n",
       "      <td>0</td>\n",
       "      <td>1</td>\n",
       "      <td>0</td>\n",
       "    </tr>\n",
       "    <tr>\n",
       "      <th>MADERA</th>\n",
       "      <td>0</td>\n",
       "      <td>0</td>\n",
       "      <td>1</td>\n",
       "      <td>0</td>\n",
       "    </tr>\n",
       "    <tr>\n",
       "      <th>MARTINA</th>\n",
       "      <td>0</td>\n",
       "      <td>0</td>\n",
       "      <td>1</td>\n",
       "      <td>0</td>\n",
       "    </tr>\n",
       "    <tr>\n",
       "      <th>PKWY</th>\n",
       "      <td>3</td>\n",
       "      <td>0</td>\n",
       "      <td>4</td>\n",
       "      <td>0</td>\n",
       "    </tr>\n",
       "    <tr>\n",
       "      <th>PL</th>\n",
       "      <td>1</td>\n",
       "      <td>2</td>\n",
       "      <td>7</td>\n",
       "      <td>0</td>\n",
       "    </tr>\n",
       "    <tr>\n",
       "      <th>RD</th>\n",
       "      <td>3</td>\n",
       "      <td>2</td>\n",
       "      <td>23</td>\n",
       "      <td>0</td>\n",
       "    </tr>\n",
       "    <tr>\n",
       "      <th>ST</th>\n",
       "      <td>2</td>\n",
       "      <td>0</td>\n",
       "      <td>80</td>\n",
       "      <td>0</td>\n",
       "    </tr>\n",
       "    <tr>\n",
       "      <th>STATE</th>\n",
       "      <td>0</td>\n",
       "      <td>0</td>\n",
       "      <td>1</td>\n",
       "      <td>0</td>\n",
       "    </tr>\n",
       "    <tr>\n",
       "      <th>TRAK</th>\n",
       "      <td>0</td>\n",
       "      <td>0</td>\n",
       "      <td>1</td>\n",
       "      <td>0</td>\n",
       "    </tr>\n",
       "    <tr>\n",
       "      <th>TRL</th>\n",
       "      <td>0</td>\n",
       "      <td>0</td>\n",
       "      <td>1</td>\n",
       "      <td>0</td>\n",
       "    </tr>\n",
       "    <tr>\n",
       "      <th>WALK</th>\n",
       "      <td>1</td>\n",
       "      <td>0</td>\n",
       "      <td>0</td>\n",
       "      <td>0</td>\n",
       "    </tr>\n",
       "    <tr>\n",
       "      <th>WAY</th>\n",
       "      <td>3</td>\n",
       "      <td>3</td>\n",
       "      <td>297</td>\n",
       "      <td>0</td>\n",
       "    </tr>\n",
       "  </tbody>\n",
       "</table>\n",
       "</div>"
      ],
      "text/plain": [
       "type          Condo  Multi-Family  Residential  Unkown\n",
       "Street Types                                          \n",
       "AVE               1             1           72       0\n",
       "BLVD              4             1            8       0\n",
       "BROADWAY          0             0            1       0\n",
       "C                 0             0            1       0\n",
       "CIR               2             2          108       0\n",
       "CONEJO            0             0            1       0\n",
       "CT                4             1          121       0\n",
       "DR               20             1          150       0\n",
       "E                 1             0            0       0\n",
       "GRANDE            0             0            1       0\n",
       "HL                1             0            0       0\n",
       "LN                8             0           37       1\n",
       "LOOP              0             0            1       0\n",
       "MADERA            0             0            1       0\n",
       "MARTINA           0             0            1       0\n",
       "PKWY              3             0            4       0\n",
       "PL                1             2            7       0\n",
       "RD                3             2           23       0\n",
       "ST                2             0           80       0\n",
       "STATE             0             0            1       0\n",
       "TRAK              0             0            1       0\n",
       "TRL               0             0            1       0\n",
       "WALK              1             0            0       0\n",
       "WAY               3             3          297       0"
      ]
     },
     "execution_count": 14,
     "metadata": {},
     "output_type": "execute_result"
    }
   ],
   "source": [
    "combination_counts = data_mod[[\"type\",\"Street Types\"]].groupby(by=[\"type\",\"Street Types\"]).size().unstack(level=0)\n",
    "combination_counts"
   ]
  },
  {
   "cell_type": "code",
   "execution_count": 15,
   "metadata": {},
   "outputs": [
    {
     "name": "stdout",
     "output_type": "stream",
     "text": [
      "P-value - 2.7829929496109202e-14\n"
     ]
    }
   ],
   "source": [
    "chi2, p, _, _ = stats.chi2_contingency(combination_counts) \n",
    "print(\"P-value - \" + str(p))"
   ]
  },
  {
   "cell_type": "markdown",
   "metadata": {},
   "source": [
    "Type-City"
   ]
  },
  {
   "cell_type": "code",
   "execution_count": 16,
   "metadata": {},
   "outputs": [
    {
     "name": "stdout",
     "output_type": "stream",
     "text": [
      "P-value - 6.884142190454073e-149\n"
     ]
    }
   ],
   "source": [
    "combination_counts = data_mod[[\"type\",\"city\"]].groupby(by=[\"type\",\"city\"]).size().unstack(level=0)\n",
    "chi2, p, _, _ = stats.chi2_contingency(combination_counts) \n",
    "print(\"P-value - \" + str(p))"
   ]
  },
  {
   "cell_type": "markdown",
   "metadata": {},
   "source": [
    "Type-State"
   ]
  },
  {
   "cell_type": "code",
   "execution_count": 17,
   "metadata": {},
   "outputs": [
    {
     "name": "stdout",
     "output_type": "stream",
     "text": [
      "P-value - 1.0\n"
     ]
    }
   ],
   "source": [
    "combination_counts = data_mod[[\"type\",\"state\"]].groupby(by=[\"type\",\"state\"]).size().unstack(level=0)\n",
    "chi2, p, _, _ = stats.chi2_contingency(combination_counts) \n",
    "print(\"P-value - \" + str(p))"
   ]
  },
  {
   "cell_type": "markdown",
   "metadata": {},
   "source": [
    "Type-Zip"
   ]
  },
  {
   "cell_type": "code",
   "execution_count": 18,
   "metadata": {},
   "outputs": [
    {
     "name": "stdout",
     "output_type": "stream",
     "text": [
      "P-value - 6.195871832483889e-06\n"
     ]
    }
   ],
   "source": [
    "combination_counts = data_mod[[\"type\",\"zip\"]].groupby(by=[\"type\",\"zip\"]).size().unstack(level=0)\n",
    "chi2, p, _, _ = stats.chi2_contingency(combination_counts) \n",
    "print(\"P-value - \" + str(p))"
   ]
  },
  {
   "cell_type": "markdown",
   "metadata": {},
   "source": [
    "Type-Beds"
   ]
  },
  {
   "cell_type": "code",
   "execution_count": 19,
   "metadata": {},
   "outputs": [
    {
     "name": "stdout",
     "output_type": "stream",
     "text": [
      "P-value - 2.225837221388893e-41\n"
     ]
    }
   ],
   "source": [
    "combination_counts = data_mod[[\"type\",\"baths\"]].groupby(by=[\"type\",\"baths\"]).size().unstack(level=0)\n",
    "chi2, p, _, _ = stats.chi2_contingency(combination_counts) \n",
    "print(\"P-value - \" + str(p))"
   ]
  },
  {
   "cell_type": "markdown",
   "metadata": {},
   "source": [
    "Type-Baths"
   ]
  },
  {
   "cell_type": "code",
   "execution_count": 20,
   "metadata": {},
   "outputs": [
    {
     "name": "stdout",
     "output_type": "stream",
     "text": [
      "P-value - 1.6090894896930032e-64\n"
     ]
    }
   ],
   "source": [
    "combination_counts = data_mod[[\"type\",\"beds\"]].groupby(by=[\"type\",\"beds\"]).size().unstack(level=0)\n",
    "chi2, p, _, _ = stats.chi2_contingency(combination_counts) \n",
    "print(\"P-value - \" + str(p))"
   ]
  }
 ],
 "metadata": {
  "kernelspec": {
   "display_name": "Python 3 (ipykernel)",
   "language": "python",
   "name": "python3"
  },
  "language_info": {
   "codemirror_mode": {
    "name": "ipython",
    "version": 3
   },
   "file_extension": ".py",
   "mimetype": "text/x-python",
   "name": "python",
   "nbconvert_exporter": "python",
   "pygments_lexer": "ipython3",
   "version": "3.9.5"
  }
 },
 "nbformat": 4,
 "nbformat_minor": 4
}
