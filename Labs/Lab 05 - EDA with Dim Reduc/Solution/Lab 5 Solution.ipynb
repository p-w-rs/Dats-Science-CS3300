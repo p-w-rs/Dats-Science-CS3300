{
 "cells": [
  {
   "cell_type": "markdown",
   "metadata": {},
   "source": [
    "# Lab 5: EDA with Dimensionality Reduction\n",
    "RJ Nowling\n",
    "\n",
    "In this lab, we are going to explore the relationships between email messages.  We will need to first convert the text data into numeric features.  When done, we will have too many features to analyze each variable separately, so we'll apply dimensionality reduction techniques."
   ]
  },
  {
   "cell_type": "code",
   "execution_count": 27,
   "metadata": {},
   "outputs": [],
   "source": [
    "import glob\n",
    "import json\n",
    "\n",
    "import matplotlib.pyplot as plt\n",
    "\n",
    "import pandas as pd\n",
    "\n",
    "from sklearn.decomposition import TruncatedSVD\n",
    "from sklearn.feature_extraction.text import CountVectorizer"
   ]
  },
  {
   "cell_type": "markdown",
   "metadata": {},
   "source": [
    "## Part I: Load Data\n",
    "\n",
    "Each email is stored in a separate JSON document.  Each email has five fields: category (ham or spam), to_address, from_address, subject, and body.  We'll need to load these into a single DataFrame.\n",
    "\n",
    "```\n",
    "{\n",
    "  \"category\": \"ham\",\n",
    "  \"to_address\": \"debian-mirrors@lists.debian.org\",\n",
    "  \"from_address\": \"Yan Morin <yan.morin@savoirfairelinux.com>\",\n",
    "  \"subject\": \"Typo in /debian/README\",\n",
    "  \"body\": \"Hi, i've just updated from the gulus and I check on other mirrors.\\nIt seems there is a little typo in /debian/README file\\n\\nExample:\\nhttp://gulus.usherbrooke.ca/debian/README\\nftp://ftp.fr.debian.org/debian/README\\n\\n\\\"Testing, or lenny.  Access this release through dists/testing.  The\\ncurrent tested development snapshot is named etch.  Packages which\\nhave been tested in unstable and passed automated tests propogate to\\nthis release.\\\"\\n\\netch should be replace by lenny like in the README.html\\n\\n\\n\\n-- \\nYan Morin\\nConsultant en logiciel libre\\nyan.morin@savoirfairelinux.com\\n514-994-1556\\n\\n\\n-- \\nTo UNSUBSCRIBE, email to debian-mirrors-REQUEST@lists.debian.org\\nwith a subject of \\\"unsubscribe\\\". Trouble? Contact listmaster@lists.debian.org\\n\\n\"\n",
    "}\n",
    "```"
   ]
  },
  {
   "cell_type": "code",
   "execution_count": 8,
   "metadata": {},
   "outputs": [
    {
     "name": "stdout",
     "output_type": "stream",
     "text": [
      "Loaded 63542 emails\n"
     ]
    }
   ],
   "source": [
    "records = []\n",
    "for flname in glob.glob(\"email_json/message_*.json\"):\n",
    "    with open(flname) as fl:\n",
    "        email = json.load(fl)\n",
    "        records.append(email)\n",
    "\n",
    "print(\"Loaded\", len(records), \"emails\")"
   ]
  },
  {
   "cell_type": "code",
   "execution_count": 9,
   "metadata": {},
   "outputs": [
    {
     "data": {
      "text/html": [
       "<div>\n",
       "<style scoped>\n",
       "    .dataframe tbody tr th:only-of-type {\n",
       "        vertical-align: middle;\n",
       "    }\n",
       "\n",
       "    .dataframe tbody tr th {\n",
       "        vertical-align: top;\n",
       "    }\n",
       "\n",
       "    .dataframe thead th {\n",
       "        text-align: right;\n",
       "    }\n",
       "</style>\n",
       "<table border=\"1\" class=\"dataframe\">\n",
       "  <thead>\n",
       "    <tr style=\"text-align: right;\">\n",
       "      <th></th>\n",
       "      <th>category</th>\n",
       "      <th>to_address</th>\n",
       "      <th>from_address</th>\n",
       "      <th>subject</th>\n",
       "      <th>body</th>\n",
       "    </tr>\n",
       "  </thead>\n",
       "  <tbody>\n",
       "    <tr>\n",
       "      <th>0</th>\n",
       "      <td>spam</td>\n",
       "      <td>smile@speedy.uwaterloo.ca</td>\n",
       "      <td>Pablo Timmons &lt;SophiRosemary4926@yahoo.com&gt;</td>\n",
       "      <td>Software Compatibility....ain't it great?</td>\n",
       "      <td>\\n\\n\\n\\n\\n\\n\\n\\n\\n\\n\\n\\n\\nLove works a differe...</td>\n",
       "    </tr>\n",
       "    <tr>\n",
       "      <th>1</th>\n",
       "      <td>spam</td>\n",
       "      <td>\"gnitpick\" &lt;gnitpick@speedy.uwaterloo.ca&gt;</td>\n",
       "      <td>\"Inez Tanner\" &lt;ocuseethed@executiveemail.com&gt;</td>\n",
       "      <td>At which bookshelves</td>\n",
       "      <td>This one will explode\\nSpecial Situation Alert...</td>\n",
       "    </tr>\n",
       "    <tr>\n",
       "      <th>2</th>\n",
       "      <td>spam</td>\n",
       "      <td>catchall@flax9.uwaterloo.ca</td>\n",
       "      <td>\"Joar Moree\" &lt;Joar@arslanzade.com&gt;</td>\n",
       "      <td>It's just like Raistlin described to me once.</td>\n",
       "      <td>\\n\\n\\n\\n\\n\\nSee \" String Instructions\" on page...</td>\n",
       "    </tr>\n",
       "    <tr>\n",
       "      <th>3</th>\n",
       "      <td>spam</td>\n",
       "      <td>the00@plg2.math.uwaterloo.ca</td>\n",
       "      <td>bass Elkins &lt;Gailk@waydelivery.com&gt;</td>\n",
       "      <td>Have in mixture</td>\n",
       "      <td>\\n\\n\\n\\n\\n\\n\\n\\neasy to think of all the possi...</td>\n",
       "    </tr>\n",
       "    <tr>\n",
       "      <th>4</th>\n",
       "      <td>spam</td>\n",
       "      <td>manager@speedy.uwaterloo.ca</td>\n",
       "      <td>Works Fast &lt;kmamie@netcityhk.com&gt;</td>\n",
       "      <td>Benefits of Cialis</td>\n",
       "      <td>\\n\\n\\n\\n\\n\\nCialis will boost up your erection...</td>\n",
       "    </tr>\n",
       "  </tbody>\n",
       "</table>\n",
       "</div>"
      ],
      "text/plain": [
       "  category                                 to_address  \\\n",
       "0     spam                  smile@speedy.uwaterloo.ca   \n",
       "1     spam  \"gnitpick\" <gnitpick@speedy.uwaterloo.ca>   \n",
       "2     spam                catchall@flax9.uwaterloo.ca   \n",
       "3     spam               the00@plg2.math.uwaterloo.ca   \n",
       "4     spam                manager@speedy.uwaterloo.ca   \n",
       "\n",
       "                                    from_address  \\\n",
       "0    Pablo Timmons <SophiRosemary4926@yahoo.com>   \n",
       "1  \"Inez Tanner\" <ocuseethed@executiveemail.com>   \n",
       "2             \"Joar Moree\" <Joar@arslanzade.com>   \n",
       "3            bass Elkins <Gailk@waydelivery.com>   \n",
       "4              Works Fast <kmamie@netcityhk.com>   \n",
       "\n",
       "                                         subject  \\\n",
       "0      Software Compatibility....ain't it great?   \n",
       "1                           At which bookshelves   \n",
       "2  It's just like Raistlin described to me once.   \n",
       "3                                Have in mixture   \n",
       "4                             Benefits of Cialis   \n",
       "\n",
       "                                                body  \n",
       "0  \\n\\n\\n\\n\\n\\n\\n\\n\\n\\n\\n\\n\\nLove works a differe...  \n",
       "1  This one will explode\\nSpecial Situation Alert...  \n",
       "2  \\n\\n\\n\\n\\n\\nSee \" String Instructions\" on page...  \n",
       "3  \\n\\n\\n\\n\\n\\n\\n\\neasy to think of all the possi...  \n",
       "4  \\n\\n\\n\\n\\n\\nCialis will boost up your erection...  "
      ]
     },
     "execution_count": 9,
     "metadata": {},
     "output_type": "execute_result"
    }
   ],
   "source": [
    "df = pd.DataFrame.from_dict(records)\n",
    "\n",
    "df.head()"
   ]
  },
  {
   "cell_type": "markdown",
   "metadata": {},
   "source": [
    "## Part II: Extract Features\n",
    "\n",
    "We want to create numerical features from the message bodies.  We'll use Scikit Learn's CountVectorizer for this.  Each column in the feature matrix will store the counts for a single word."
   ]
  },
  {
   "cell_type": "code",
   "execution_count": 34,
   "metadata": {},
   "outputs": [
    {
     "name": "stdout",
     "output_type": "stream",
     "text": [
      "<class 'scipy.sparse.csr.csr_matrix'> (63542, 300984) 6885706\n"
     ]
    }
   ],
   "source": [
    "vec = CountVectorizer(binary=True)\n",
    "\n",
    "features = vec.fit_transform(df[\"body\"])\n",
    "\n",
    "print(type(features), features.shape, features.nnz)"
   ]
  },
  {
   "cell_type": "code",
   "execution_count": 35,
   "metadata": {},
   "outputs": [
    {
     "name": "stdout",
     "output_type": "stream",
     "text": [
      "['love', 'works', 'different', 'way', 'in', 'minds', 'the', 'fool', 'it', 'enlightens']\n"
     ]
    }
   ],
   "source": [
    "print(list(vec.vocabulary_)[:10])"
   ]
  },
  {
   "cell_type": "code",
   "execution_count": 36,
   "metadata": {},
   "outputs": [
    {
     "name": "stdout",
     "output_type": "stream",
     "text": [
      "183355 289715 125499\n"
     ]
    }
   ],
   "source": [
    "love_idx = vec.vocabulary_[\"love\"]\n",
    "works_idx = vec.vocabulary_[\"works\"]\n",
    "different_idx = vec.vocabulary_[\"different\"]\n",
    "\n",
    "print(love_idx, works_idx, different_idx)"
   ]
  },
  {
   "cell_type": "code",
   "execution_count": 37,
   "metadata": {},
   "outputs": [
    {
     "name": "stdout",
     "output_type": "stream",
     "text": [
      "  (0, 0)\t1\n",
      "  (10, 0)\t1\n",
      "  (73, 0)\t1\n",
      "  (80, 0)\t1\n",
      "  (83, 0)\t1\n",
      "  (138, 0)\t1\n",
      "  (146, 0)\t1\n",
      "  (162, 0)\t1\n",
      "  (165, 0)\t1\n",
      "  (256, 0)\t1\n",
      "  (271, 0)\t1\n",
      "  (279, 0)\t1\n",
      "  (319, 0)\t1\n",
      "  (338, 0)\t1\n",
      "  (345, 0)\t1\n",
      "  (357, 0)\t1\n",
      "  (360, 0)\t1\n",
      "  (436, 0)\t1\n",
      "  (446, 0)\t1\n",
      "  (471, 0)\t1\n",
      "  (476, 0)\t1\n",
      "  (488, 0)\t1\n",
      "  (502, 0)\t1\n",
      "  (517, 0)\t1\n",
      "  (536, 0)\t1\n",
      "  :\t:\n",
      "  (62725, 0)\t1\n",
      "  (62730, 0)\t1\n",
      "  (62732, 0)\t1\n",
      "  (62774, 0)\t1\n",
      "  (62780, 0)\t1\n",
      "  (62791, 0)\t1\n",
      "  (62812, 0)\t1\n",
      "  (62822, 0)\t1\n",
      "  (62953, 0)\t1\n",
      "  (62954, 0)\t1\n",
      "  (62973, 0)\t1\n",
      "  (62993, 0)\t1\n",
      "  (63001, 0)\t1\n",
      "  (63002, 0)\t1\n",
      "  (63012, 0)\t1\n",
      "  (63043, 0)\t1\n",
      "  (63088, 0)\t1\n",
      "  (63143, 0)\t1\n",
      "  (63163, 0)\t1\n",
      "  (63390, 0)\t1\n",
      "  (63445, 0)\t1\n",
      "  (63457, 0)\t1\n",
      "  (63490, 0)\t1\n",
      "  (63509, 0)\t1\n",
      "  (63522, 0)\t1\n"
     ]
    }
   ],
   "source": [
    "print(features[:, love_idx])"
   ]
  },
  {
   "cell_type": "code",
   "execution_count": 38,
   "metadata": {},
   "outputs": [
    {
     "name": "stdout",
     "output_type": "stream",
     "text": [
      "  (0, 0)\t1\n",
      "  (4, 0)\t1\n",
      "  (60, 0)\t1\n",
      "  (67, 0)\t1\n",
      "  (73, 0)\t1\n",
      "  (88, 0)\t1\n",
      "  (119, 0)\t1\n",
      "  (143, 0)\t1\n",
      "  (166, 0)\t1\n",
      "  (186, 0)\t1\n",
      "  (191, 0)\t1\n",
      "  (193, 0)\t1\n",
      "  (207, 0)\t1\n",
      "  (308, 0)\t1\n",
      "  (314, 0)\t1\n",
      "  (332, 0)\t1\n",
      "  (364, 0)\t1\n",
      "  (409, 0)\t1\n",
      "  (411, 0)\t1\n",
      "  (415, 0)\t1\n",
      "  (432, 0)\t1\n",
      "  (460, 0)\t1\n",
      "  (476, 0)\t1\n",
      "  (490, 0)\t1\n",
      "  (503, 0)\t1\n",
      "  :\t:\n",
      "  (63037, 0)\t1\n",
      "  (63059, 0)\t1\n",
      "  (63085, 0)\t1\n",
      "  (63116, 0)\t1\n",
      "  (63152, 0)\t1\n",
      "  (63211, 0)\t1\n",
      "  (63225, 0)\t1\n",
      "  (63241, 0)\t1\n",
      "  (63249, 0)\t1\n",
      "  (63302, 0)\t1\n",
      "  (63327, 0)\t1\n",
      "  (63341, 0)\t1\n",
      "  (63357, 0)\t1\n",
      "  (63374, 0)\t1\n",
      "  (63387, 0)\t1\n",
      "  (63390, 0)\t1\n",
      "  (63407, 0)\t1\n",
      "  (63411, 0)\t1\n",
      "  (63428, 0)\t1\n",
      "  (63442, 0)\t1\n",
      "  (63466, 0)\t1\n",
      "  (63473, 0)\t1\n",
      "  (63477, 0)\t1\n",
      "  (63491, 0)\t1\n",
      "  (63504, 0)\t1\n"
     ]
    }
   ],
   "source": [
    "print(features[:, works_idx])"
   ]
  },
  {
   "cell_type": "code",
   "execution_count": 24,
   "metadata": {},
   "outputs": [
    {
     "name": "stdout",
     "output_type": "stream",
     "text": [
      "  (0, 0)\t2\n",
      "  (3, 0)\t1\n",
      "  (19, 0)\t1\n",
      "  (26, 0)\t1\n",
      "  (46, 0)\t1\n",
      "  (67, 0)\t1\n",
      "  (73, 0)\t1\n",
      "  (79, 0)\t2\n",
      "  (125, 0)\t1\n",
      "  (143, 0)\t1\n",
      "  (144, 0)\t1\n",
      "  (163, 0)\t1\n",
      "  (165, 0)\t1\n",
      "  (175, 0)\t1\n",
      "  (181, 0)\t1\n",
      "  (337, 0)\t1\n",
      "  (387, 0)\t2\n",
      "  (409, 0)\t1\n",
      "  (423, 0)\t1\n",
      "  (433, 0)\t1\n",
      "  (489, 0)\t1\n",
      "  (503, 0)\t1\n",
      "  (515, 0)\t1\n",
      "  (518, 0)\t1\n",
      "  (525, 0)\t1\n",
      "  :\t:\n",
      "  (63105, 0)\t1\n",
      "  (63107, 0)\t1\n",
      "  (63118, 0)\t1\n",
      "  (63133, 0)\t1\n",
      "  (63151, 0)\t1\n",
      "  (63191, 0)\t2\n",
      "  (63215, 0)\t1\n",
      "  (63221, 0)\t1\n",
      "  (63222, 0)\t1\n",
      "  (63267, 0)\t1\n",
      "  (63276, 0)\t1\n",
      "  (63287, 0)\t1\n",
      "  (63318, 0)\t1\n",
      "  (63328, 0)\t2\n",
      "  (63353, 0)\t1\n",
      "  (63366, 0)\t1\n",
      "  (63371, 0)\t1\n",
      "  (63390, 0)\t2\n",
      "  (63394, 0)\t5\n",
      "  (63413, 0)\t2\n",
      "  (63416, 0)\t1\n",
      "  (63438, 0)\t2\n",
      "  (63455, 0)\t1\n",
      "  (63470, 0)\t1\n",
      "  (63505, 0)\t3\n"
     ]
    }
   ],
   "source": [
    "print(features[:, different_idx])"
   ]
  },
  {
   "cell_type": "markdown",
   "metadata": {},
   "source": [
    "## Part III: Dimensionality Reduction with SVD\n",
    "\n",
    "300,984 variables is way too many to look at by hand.  We'll use SVD to reduce the dimensionality of the matrix.  Like PCA, SVD uses correlation between variables to group them and created a smaller set of variables."
   ]
  },
  {
   "cell_type": "code",
   "execution_count": 39,
   "metadata": {},
   "outputs": [],
   "source": [
    "svd = TruncatedSVD(n_components=10)\n",
    "proj = svd.fit_transform(features)"
   ]
  },
  {
   "cell_type": "code",
   "execution_count": 42,
   "metadata": {},
   "outputs": [
    {
     "data": {
      "text/plain": [
       "Text(0, 0.5, 'Explained Varianace Ratio')"
      ]
     },
     "execution_count": 42,
     "metadata": {},
     "output_type": "execute_result"
    },
    {
     "data": {
      "image/png": "[encoded data removed]",
      "text/plain": [
       "<Figure size 432x288 with 1 Axes>"
      ]
     },
     "metadata": {
      "needs_background": "light"
     },
     "output_type": "display_data"
    }
   ],
   "source": [
    "plt.plot(svd.explained_variance_ratio_)\n",
    "plt.xlabel(\"Component\", fontsize=18)\n",
    "plt.ylabel(\"Explained Varianace Ratio\", fontsize=18)"
   ]
  },
  {
   "cell_type": "markdown",
   "metadata": {},
   "source": [
    "The first two components (indices 0 and 1) capture most of the variation.  We will visualize the relationships between these two components."
   ]
  },
  {
   "cell_type": "markdown",
   "metadata": {},
   "source": [
    "## Part IV: Visualization"
   ]
  },
  {
   "cell_type": "code",
   "execution_count": 43,
   "metadata": {},
   "outputs": [
    {
     "data": {
      "text/plain": [
       "Text(0, 0.5, 'Component 1')"
      ]
     },
     "execution_count": 43,
     "metadata": {},
     "output_type": "execute_result"
    },
    {
     "data": {
      "image/png": "[encoded data removed]",
      "text/plain": [
       "<Figure size 432x288 with 1 Axes>"
      ]
     },
     "metadata": {
      "needs_background": "light"
     },
     "output_type": "display_data"
    }
   ],
   "source": [
    "plt.scatter(proj[:, 0], proj[:, 1])\n",
    "plt.xlabel(\"Component 0\", fontsize=18)\n",
    "plt.ylabel(\"Component 1\", fontsize=18)"
   ]
  },
  {
   "cell_type": "code",
   "execution_count": 44,
   "metadata": {},
   "outputs": [
    {
     "data": {
      "text/plain": [
       "<matplotlib.legend.Legend at 0x7f9db4517358>"
      ]
     },
     "execution_count": 44,
     "metadata": {},
     "output_type": "execute_result"
    },
    {
     "data": {
      "image/png": "[encoded data removed]",
      "text/plain": [
       "<Figure size 432x288 with 1 Axes>"
      ]
     },
     "metadata": {
      "needs_background": "light"
     },
     "output_type": "display_data"
    }
   ],
   "source": [
    "mask = df[\"category\"] == \"ham\"\n",
    "plt.scatter(proj[mask, 0], proj[mask, 1], label=\"Ham\")\n",
    "mask = df[\"category\"] == \"spam\"\n",
    "plt.scatter(proj[mask, 0], proj[mask, 1], label=\"Spam\")\n",
    "plt.xlabel(\"Component 0\", fontsize=18)\n",
    "plt.ylabel(\"Component 1\", fontsize=18)\n",
    "plt.legend()"
   ]
  },
  {
   "cell_type": "markdown",
   "metadata": {},
   "source": [
    "## Reflection Questions\n",
    "\n",
    "1. See JSON example at top of notebook\n",
    "1. Dense size: 63542 * 300984 * 4 = 76500501312 bytes = 71 GB\n",
    "1. Sparse size: (4 + 4) * 6885706 + 4 * 63542 = 55339816 bytes = 0.05 GB\n",
    "1. Sparsity ratio: 100 * 6885706 / (63542 * 300984) = 3.6%\n",
    "1. Only 3.6% of the entries in the matrix are nonzero.  Storing all of the entries using a dense matrix or array would require 71 GB of memory.  The sparse matrix only requires 0.05 GB of RAM -- significantly less!  The sparse matrix is the better choice from the standpoint of memory usage.\n",
    "1. Both scatters plot shows two clusters.  I originally thought these might correspond to spam vs ham messages.  When I colored the points, I saw that all of the spam occurred in one cluster but that not all points in that cluster are spam.  SVD is finding some inherent structure in the data but we don't know what it is yet."
   ]
  }
 ],
 "metadata": {
  "kernelspec": {
   "display_name": "Python 3",
   "language": "python",
   "name": "python3"
  },
  "language_info": {
   "codemirror_mode": {
    "name": "ipython",
    "version": 3
   },
   "file_extension": ".py",
   "mimetype": "text/x-python",
   "name": "python",
   "nbconvert_exporter": "python",
   "pygments_lexer": "ipython3",
   "version": "3.8.5"
  }
 },
 "nbformat": 4,
 "nbformat_minor": 4
}
