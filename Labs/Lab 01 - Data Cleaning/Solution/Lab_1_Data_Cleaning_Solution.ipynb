{
 "cells": [
  {
   "cell_type": "markdown",
   "metadata": {},
   "source": [
    "# CS3300 Data Science\n",
    "# Lab 01: Data Cleaning"
   ]
  },
  {
   "cell_type": "markdown",
   "metadata": {},
   "source": [
    "## Learning Objectives\n",
    "- Identify, access, load, and prepare (clean) a data set for a given problem.\n",
    "- Select, apply, and interpret appropriate visual and statistical methods to analyze distributions of individual variables.\n",
    "- Clean and transform data for analysis.\n",
    "- Comminicate findings through generated data visualizations and reports."
   ]
  },
  {
   "cell_type": "markdown",
   "metadata": {},
   "source": [
    "## Overview\n",
    "In this lab, you are going to inspect and clean a data set of real estate transactions from California. You should prepare your results as a Jupyter notebook. In addition to code and plots, you should have text offering interpretations and explanations. Your notebook should be organized into sections with appropriate headers. The notebook and its code should be clean and polished. Use the Blood Glucose Tutorial as a template and reference."
   ]
  },
  {
   "cell_type": "code",
   "execution_count": 1,
   "metadata": {},
   "outputs": [],
   "source": [
    "import numpy as np\n",
    "import pandas as pd\n",
    "import matplotlib.pyplot as plt\n",
    "import seaborn as sns"
   ]
  },
  {
   "cell_type": "markdown",
   "metadata": {},
   "source": [
    "### Part I: Loading the Data and Initial Assessment"
   ]
  },
  {
   "cell_type": "code",
   "execution_count": 2,
   "metadata": {},
   "outputs": [
    {
     "data": {
      "text/html": [
       "<div>\n",
       "<style scoped>\n",
       "    .dataframe tbody tr th:only-of-type {\n",
       "        vertical-align: middle;\n",
       "    }\n",
       "\n",
       "    .dataframe tbody tr th {\n",
       "        vertical-align: top;\n",
       "    }\n",
       "\n",
       "    .dataframe thead th {\n",
       "        text-align: right;\n",
       "    }\n",
       "</style>\n",
       "<table border=\"1\" class=\"dataframe\">\n",
       "  <thead>\n",
       "    <tr style=\"text-align: right;\">\n",
       "      <th></th>\n",
       "      <th>street</th>\n",
       "      <th>city</th>\n",
       "      <th>zip</th>\n",
       "      <th>state</th>\n",
       "      <th>beds</th>\n",
       "      <th>baths</th>\n",
       "      <th>sq__ft</th>\n",
       "      <th>type</th>\n",
       "      <th>sale_date</th>\n",
       "      <th>price</th>\n",
       "      <th>latitude</th>\n",
       "      <th>longitude</th>\n",
       "    </tr>\n",
       "  </thead>\n",
       "  <tbody>\n",
       "    <tr>\n",
       "      <th>0</th>\n",
       "      <td>3526 HIGH ST</td>\n",
       "      <td>SACRAMENTO</td>\n",
       "      <td>95838</td>\n",
       "      <td>CA</td>\n",
       "      <td>2</td>\n",
       "      <td>1</td>\n",
       "      <td>836</td>\n",
       "      <td>Residential</td>\n",
       "      <td>Wed May 21 00:00:00 EDT 2008</td>\n",
       "      <td>59222</td>\n",
       "      <td>38.631913</td>\n",
       "      <td>-121.434879</td>\n",
       "    </tr>\n",
       "    <tr>\n",
       "      <th>1</th>\n",
       "      <td>51 OMAHA CT</td>\n",
       "      <td>SACRAMENTO</td>\n",
       "      <td>95823</td>\n",
       "      <td>CA</td>\n",
       "      <td>3</td>\n",
       "      <td>1</td>\n",
       "      <td>1167</td>\n",
       "      <td>Residential</td>\n",
       "      <td>Wed May 21 00:00:00 EDT 2008</td>\n",
       "      <td>68212</td>\n",
       "      <td>38.478902</td>\n",
       "      <td>-121.431028</td>\n",
       "    </tr>\n",
       "    <tr>\n",
       "      <th>2</th>\n",
       "      <td>2796 BRANCH ST</td>\n",
       "      <td>SACRAMENTO</td>\n",
       "      <td>95815</td>\n",
       "      <td>CA</td>\n",
       "      <td>2</td>\n",
       "      <td>1</td>\n",
       "      <td>796</td>\n",
       "      <td>Residential</td>\n",
       "      <td>Wed May 21 00:00:00 EDT 2008</td>\n",
       "      <td>68880</td>\n",
       "      <td>38.618305</td>\n",
       "      <td>-121.443839</td>\n",
       "    </tr>\n",
       "    <tr>\n",
       "      <th>3</th>\n",
       "      <td>2805 JANETTE WAY</td>\n",
       "      <td>SACRAMENTO</td>\n",
       "      <td>95815</td>\n",
       "      <td>CA</td>\n",
       "      <td>2</td>\n",
       "      <td>1</td>\n",
       "      <td>852</td>\n",
       "      <td>Residential</td>\n",
       "      <td>Wed May 21 00:00:00 EDT 2008</td>\n",
       "      <td>69307</td>\n",
       "      <td>38.616835</td>\n",
       "      <td>-121.439146</td>\n",
       "    </tr>\n",
       "    <tr>\n",
       "      <th>4</th>\n",
       "      <td>6001 MCMAHON DR</td>\n",
       "      <td>SACRAMENTO</td>\n",
       "      <td>95824</td>\n",
       "      <td>CA</td>\n",
       "      <td>2</td>\n",
       "      <td>1</td>\n",
       "      <td>797</td>\n",
       "      <td>Residential</td>\n",
       "      <td>Wed May 21 00:00:00 EDT 2008</td>\n",
       "      <td>81900</td>\n",
       "      <td>38.519470</td>\n",
       "      <td>-121.435768</td>\n",
       "    </tr>\n",
       "  </tbody>\n",
       "</table>\n",
       "</div>"
      ],
      "text/plain": [
       "             street        city    zip state  beds  baths  sq__ft  \\\n",
       "0      3526 HIGH ST  SACRAMENTO  95838    CA     2      1     836   \n",
       "1       51 OMAHA CT  SACRAMENTO  95823    CA     3      1    1167   \n",
       "2    2796 BRANCH ST  SACRAMENTO  95815    CA     2      1     796   \n",
       "3  2805 JANETTE WAY  SACRAMENTO  95815    CA     2      1     852   \n",
       "4   6001 MCMAHON DR  SACRAMENTO  95824    CA     2      1     797   \n",
       "\n",
       "          type                     sale_date  price   latitude   longitude  \n",
       "0  Residential  Wed May 21 00:00:00 EDT 2008  59222  38.631913 -121.434879  \n",
       "1  Residential  Wed May 21 00:00:00 EDT 2008  68212  38.478902 -121.431028  \n",
       "2  Residential  Wed May 21 00:00:00 EDT 2008  68880  38.618305 -121.443839  \n",
       "3  Residential  Wed May 21 00:00:00 EDT 2008  69307  38.616835 -121.439146  \n",
       "4  Residential  Wed May 21 00:00:00 EDT 2008  81900  38.519470 -121.435768  "
      ]
     },
     "execution_count": 2,
     "metadata": {},
     "output_type": "execute_result"
    }
   ],
   "source": [
    "data = pd.read_csv('Sacramentorealestatetransactions.csv')\n",
    "data.head(5)"
   ]
  },
  {
   "cell_type": "code",
   "execution_count": 3,
   "metadata": {},
   "outputs": [
    {
     "data": {
      "text/plain": [
       "<bound method DataFrame.info of                   street             city    zip state  beds  baths  sq__ft  \\\n",
       "0           3526 HIGH ST       SACRAMENTO  95838    CA     2      1     836   \n",
       "1            51 OMAHA CT       SACRAMENTO  95823    CA     3      1    1167   \n",
       "2         2796 BRANCH ST       SACRAMENTO  95815    CA     2      1     796   \n",
       "3       2805 JANETTE WAY       SACRAMENTO  95815    CA     2      1     852   \n",
       "4        6001 MCMAHON DR       SACRAMENTO  95824    CA     2      1     797   \n",
       "..                   ...              ...    ...   ...   ...    ...     ...   \n",
       "980   9169 GARLINGTON CT       SACRAMENTO  95829    CA     4      3    2280   \n",
       "981      6932 RUSKUT WAY       SACRAMENTO  95823    CA     3      2    1477   \n",
       "982    7933 DAFFODIL WAY   CITRUS HEIGHTS  95610    CA     3      2    1216   \n",
       "983     8304 RED FOX WAY        ELK GROVE  95758    CA     4      2    1685   \n",
       "984  3882 YELLOWSTONE LN  EL DORADO HILLS  95762    CA     3      2    1362   \n",
       "\n",
       "            type                     sale_date   price   latitude   longitude  \n",
       "0    Residential  Wed May 21 00:00:00 EDT 2008   59222  38.631913 -121.434879  \n",
       "1    Residential  Wed May 21 00:00:00 EDT 2008   68212  38.478902 -121.431028  \n",
       "2    Residential  Wed May 21 00:00:00 EDT 2008   68880  38.618305 -121.443839  \n",
       "3    Residential  Wed May 21 00:00:00 EDT 2008   69307  38.616835 -121.439146  \n",
       "4    Residential  Wed May 21 00:00:00 EDT 2008   81900  38.519470 -121.435768  \n",
       "..           ...                           ...     ...        ...         ...  \n",
       "980  Residential  Thu May 15 00:00:00 EDT 2008  232425  38.457679 -121.359620  \n",
       "981  Residential  Thu May 15 00:00:00 EDT 2008  234000  38.499893 -121.458890  \n",
       "982  Residential  Thu May 15 00:00:00 EDT 2008  235000  38.708824 -121.256803  \n",
       "983  Residential  Thu May 15 00:00:00 EDT 2008  235301  38.417000 -121.397424  \n",
       "984  Residential  Thu May 15 00:00:00 EDT 2008  235738  38.655245 -121.075915  \n",
       "\n",
       "[985 rows x 12 columns]>"
      ]
     },
     "execution_count": 3,
     "metadata": {},
     "output_type": "execute_result"
    }
   ],
   "source": [
    "data.info"
   ]
  },
  {
   "cell_type": "markdown",
   "metadata": {},
   "source": [
    "#### Feature analysis\n",
    "\n",
    "The head method above gives the top specified entries of the dataframe. These entries are given in a tabular format that is nicely orgainized and allows for general invesitgation into the features on the dataframe. From this inspections we can see this dataset includes the following features.\n",
    "- street\n",
    "- city\n",
    "- zip code\n",
    "- state\n",
    "- beds\n",
    "- baths\n",
    "- square foot\n",
    "- type\n",
    "- sale date\n",
    "- price\n",
    "- lattitude\n",
    "- longitude\n",
    "\n",
    "While this gives us an initial idea of the data that is included and from experience we can infer what types of data are used to represent this features - it may help for use to also use the dytpes attribute associated with the dataframe."
   ]
  },
  {
   "cell_type": "code",
   "execution_count": 4,
   "metadata": {},
   "outputs": [
    {
     "data": {
      "text/plain": [
       "street        object\n",
       "city          object\n",
       "zip            int64\n",
       "state         object\n",
       "beds           int64\n",
       "baths          int64\n",
       "sq__ft         int64\n",
       "type          object\n",
       "sale_date     object\n",
       "price          int64\n",
       "latitude     float64\n",
       "longitude    float64\n",
       "dtype: object"
      ]
     },
     "execution_count": 4,
     "metadata": {},
     "output_type": "execute_result"
    }
   ],
   "source": [
    "data.dtypes"
   ]
  },
  {
   "cell_type": "markdown",
   "metadata": {},
   "source": [
    "#### Feature analysis - dtypes\n",
    "- street - String\n",
    "- city - String\n",
    "- zip code - Integers\n",
    "- state - String\n",
    "- beds - Integers\n",
    "- baths - Integers\n",
    "- square foot - Integers\n",
    "- type - String\n",
    "- sale date - __Date__\n",
    "- price - Integer\n",
    "- lattitude - Floats\n",
    "- longitude - Floats"
   ]
  },
  {
   "cell_type": "markdown",
   "metadata": {},
   "source": [
    "#### Checking for null entries\n",
    "\n",
    "We may also want to get a feel for how well fleshed out our data entries are. We want to check for missing or null entries. The info method can give us this information, if we only ask for it."
   ]
  },
  {
   "cell_type": "code",
   "execution_count": 5,
   "metadata": {},
   "outputs": [
    {
     "name": "stdout",
     "output_type": "stream",
     "text": [
      "<class 'pandas.core.frame.DataFrame'>\n",
      "RangeIndex: 985 entries, 0 to 984\n",
      "Data columns (total 12 columns):\n",
      " #   Column     Non-Null Count  Dtype  \n",
      "---  ------     --------------  -----  \n",
      " 0   street     985 non-null    object \n",
      " 1   city       985 non-null    object \n",
      " 2   zip        985 non-null    int64  \n",
      " 3   state      985 non-null    object \n",
      " 4   beds       985 non-null    int64  \n",
      " 5   baths      985 non-null    int64  \n",
      " 6   sq__ft     985 non-null    int64  \n",
      " 7   type       985 non-null    object \n",
      " 8   sale_date  985 non-null    object \n",
      " 9   price      985 non-null    int64  \n",
      " 10  latitude   985 non-null    float64\n",
      " 11  longitude  985 non-null    float64\n",
      "dtypes: float64(2), int64(5), object(5)\n",
      "memory usage: 92.5+ KB\n"
     ]
    }
   ],
   "source": [
    "data.info(verbose='true')"
   ]
  },
  {
   "cell_type": "markdown",
   "metadata": {},
   "source": [
    "## Part II: Representing Categorical Variables"
   ]
  },
  {
   "cell_type": "code",
   "execution_count": 6,
   "metadata": {},
   "outputs": [
    {
     "name": "stdout",
     "output_type": "stream",
     "text": [
      "Number of unique Street Addresses: 981\n"
     ]
    }
   ],
   "source": [
    "numberOfAddresses = len(np.unique(data[\"street\"].values))\n",
    "print(\"Number of unique Street Addresses: \" + str(numberOfAddresses))"
   ]
  },
  {
   "cell_type": "code",
   "execution_count": 7,
   "metadata": {},
   "outputs": [
    {
     "name": "stdout",
     "output_type": "stream",
     "text": [
      "Number of unique States: 1\n"
     ]
    }
   ],
   "source": [
    "numberOfStates = len(np.unique(data[\"state\"].values))\n",
    "print(\"Number of unique States: \" + str(numberOfStates))"
   ]
  },
  {
   "cell_type": "code",
   "execution_count": 8,
   "metadata": {},
   "outputs": [
    {
     "name": "stdout",
     "output_type": "stream",
     "text": [
      "Number of unique Zip Codes: 68\n"
     ]
    }
   ],
   "source": [
    "numberOfZips = len(np.unique(data[\"zip\"].values))\n",
    "print(\"Number of unique Zip Codes: \" + str(numberOfZips))"
   ]
  },
  {
   "cell_type": "code",
   "execution_count": 9,
   "metadata": {},
   "outputs": [
    {
     "name": "stdout",
     "output_type": "stream",
     "text": [
      "Number of unique Beds: 8\n"
     ]
    }
   ],
   "source": [
    "numberOfBeds = len(np.unique(data[\"beds\"].values))\n",
    "print(\"Number of unique Beds: \" + str(numberOfBeds))"
   ]
  },
  {
   "cell_type": "code",
   "execution_count": 10,
   "metadata": {},
   "outputs": [
    {
     "name": "stdout",
     "output_type": "stream",
     "text": [
      "Number of unique Baths: 6\n"
     ]
    }
   ],
   "source": [
    "numberOfBaths = len(np.unique(data[\"baths\"].values))\n",
    "print(\"Number of unique Baths: \" + str(numberOfBaths))"
   ]
  },
  {
   "cell_type": "markdown",
   "metadata": {},
   "source": [
    "#### Categorical versus integer variables\n",
    "\n",
    "- Streets: This feature is presented as a string. By itself, we _could_ encode it as an integer, but it doesn't neccessarily make sense to assign an ordered meaning to streets. Does it make sense to assign Ohmaha street a value of one and Branch street a value of 2? Is one Branch street equal to 2 Ohmaha streets? Alternatively we could make them categorical variables, but in this case we would end up with 981 different categories. Having this many different categories with 985 different observations is not going to give us much power to group or discriminate in predictions.\n",
    "\n",
    "- Zip Code: With the discission of converting streets to integer variables, the same idea applies here. While zip codes are represented by integer values, we should not intepret them as such in our models. It wouldn't neceesarily make sense to make a decision boundary based on distance between integer values of a zip code 95838 and 95815. For the purposes of our model these value differences may very well be arbitrary. So while these are represented in our dataset as integers, they would be better served in our model as categorical variables - not assigning an arbitrary integer meaning to their relationship.\n",
    "\n",
    "- Beds: This is the most interesting feature and arguments could be made for making it either an integer or categorical variable. In this case it is on a ratio scale and represnting it as an integer is valid. However, a model may be able to capture some interesting trends if the data is represented as a categorical feature rather than an integer."
   ]
  },
  {
   "cell_type": "code",
   "execution_count": 11,
   "metadata": {},
   "outputs": [
    {
     "data": {
      "text/html": [
       "<div>\n",
       "<style scoped>\n",
       "    .dataframe tbody tr th:only-of-type {\n",
       "        vertical-align: middle;\n",
       "    }\n",
       "\n",
       "    .dataframe tbody tr th {\n",
       "        vertical-align: top;\n",
       "    }\n",
       "\n",
       "    .dataframe thead th {\n",
       "        text-align: right;\n",
       "    }\n",
       "</style>\n",
       "<table border=\"1\" class=\"dataframe\">\n",
       "  <thead>\n",
       "    <tr style=\"text-align: right;\">\n",
       "      <th></th>\n",
       "      <th>street</th>\n",
       "      <th>sq__ft</th>\n",
       "      <th>sale_date</th>\n",
       "      <th>price</th>\n",
       "      <th>latitude</th>\n",
       "      <th>longitude</th>\n",
       "      <th>city</th>\n",
       "      <th>state</th>\n",
       "      <th>zip</th>\n",
       "      <th>beds</th>\n",
       "      <th>baths</th>\n",
       "      <th>type</th>\n",
       "    </tr>\n",
       "  </thead>\n",
       "  <tbody>\n",
       "    <tr>\n",
       "      <th>0</th>\n",
       "      <td>3526 HIGH ST</td>\n",
       "      <td>836</td>\n",
       "      <td>Wed May 21 00:00:00 EDT 2008</td>\n",
       "      <td>59222</td>\n",
       "      <td>38.631913</td>\n",
       "      <td>-121.434879</td>\n",
       "      <td>SACRAMENTO</td>\n",
       "      <td>CA</td>\n",
       "      <td>95838</td>\n",
       "      <td>2</td>\n",
       "      <td>1</td>\n",
       "      <td>Residential</td>\n",
       "    </tr>\n",
       "    <tr>\n",
       "      <th>1</th>\n",
       "      <td>51 OMAHA CT</td>\n",
       "      <td>1167</td>\n",
       "      <td>Wed May 21 00:00:00 EDT 2008</td>\n",
       "      <td>68212</td>\n",
       "      <td>38.478902</td>\n",
       "      <td>-121.431028</td>\n",
       "      <td>SACRAMENTO</td>\n",
       "      <td>CA</td>\n",
       "      <td>95823</td>\n",
       "      <td>3</td>\n",
       "      <td>1</td>\n",
       "      <td>Residential</td>\n",
       "    </tr>\n",
       "    <tr>\n",
       "      <th>2</th>\n",
       "      <td>2796 BRANCH ST</td>\n",
       "      <td>796</td>\n",
       "      <td>Wed May 21 00:00:00 EDT 2008</td>\n",
       "      <td>68880</td>\n",
       "      <td>38.618305</td>\n",
       "      <td>-121.443839</td>\n",
       "      <td>SACRAMENTO</td>\n",
       "      <td>CA</td>\n",
       "      <td>95815</td>\n",
       "      <td>2</td>\n",
       "      <td>1</td>\n",
       "      <td>Residential</td>\n",
       "    </tr>\n",
       "    <tr>\n",
       "      <th>3</th>\n",
       "      <td>2805 JANETTE WAY</td>\n",
       "      <td>852</td>\n",
       "      <td>Wed May 21 00:00:00 EDT 2008</td>\n",
       "      <td>69307</td>\n",
       "      <td>38.616835</td>\n",
       "      <td>-121.439146</td>\n",
       "      <td>SACRAMENTO</td>\n",
       "      <td>CA</td>\n",
       "      <td>95815</td>\n",
       "      <td>2</td>\n",
       "      <td>1</td>\n",
       "      <td>Residential</td>\n",
       "    </tr>\n",
       "    <tr>\n",
       "      <th>4</th>\n",
       "      <td>6001 MCMAHON DR</td>\n",
       "      <td>797</td>\n",
       "      <td>Wed May 21 00:00:00 EDT 2008</td>\n",
       "      <td>81900</td>\n",
       "      <td>38.519470</td>\n",
       "      <td>-121.435768</td>\n",
       "      <td>SACRAMENTO</td>\n",
       "      <td>CA</td>\n",
       "      <td>95824</td>\n",
       "      <td>2</td>\n",
       "      <td>1</td>\n",
       "      <td>Residential</td>\n",
       "    </tr>\n",
       "  </tbody>\n",
       "</table>\n",
       "</div>"
      ],
      "text/plain": [
       "             street  sq__ft                     sale_date  price   latitude  \\\n",
       "0      3526 HIGH ST     836  Wed May 21 00:00:00 EDT 2008  59222  38.631913   \n",
       "1       51 OMAHA CT    1167  Wed May 21 00:00:00 EDT 2008  68212  38.478902   \n",
       "2    2796 BRANCH ST     796  Wed May 21 00:00:00 EDT 2008  68880  38.618305   \n",
       "3  2805 JANETTE WAY     852  Wed May 21 00:00:00 EDT 2008  69307  38.616835   \n",
       "4   6001 MCMAHON DR     797  Wed May 21 00:00:00 EDT 2008  81900  38.519470   \n",
       "\n",
       "    longitude        city state    zip beds baths         type  \n",
       "0 -121.434879  SACRAMENTO    CA  95838    2     1  Residential  \n",
       "1 -121.431028  SACRAMENTO    CA  95823    3     1  Residential  \n",
       "2 -121.443839  SACRAMENTO    CA  95815    2     1  Residential  \n",
       "3 -121.439146  SACRAMENTO    CA  95815    2     1  Residential  \n",
       "4 -121.435768  SACRAMENTO    CA  95824    2     1  Residential  "
      ]
     },
     "execution_count": 11,
     "metadata": {},
     "output_type": "execute_result"
    }
   ],
   "source": [
    "data_mod = data.drop(columns=[\"city\",\"state\",\"zip\",\"beds\",\"baths\",\"type\"])\n",
    "data_mod[\"city\"] = data[\"city\"].astype(\"category\")\n",
    "data_mod[\"state\"] = data[\"state\"].astype(\"category\")\n",
    "data_mod[\"zip\"] = data[\"zip\"].astype(\"category\")\n",
    "data_mod[\"beds\"] = data[\"beds\"].astype(\"category\")\n",
    "data_mod[\"baths\"] = data[\"baths\"].astype(\"category\")\n",
    "data_mod[\"type\"] = data[\"type\"].astype(\"category\")\n",
    "data_mod.head(5)"
   ]
  },
  {
   "cell_type": "code",
   "execution_count": 12,
   "metadata": {},
   "outputs": [
    {
     "name": "stdout",
     "output_type": "stream",
     "text": [
      "<class 'pandas.core.frame.DataFrame'>\n",
      "RangeIndex: 985 entries, 0 to 984\n",
      "Data columns (total 12 columns):\n",
      " #   Column     Non-Null Count  Dtype   \n",
      "---  ------     --------------  -----   \n",
      " 0   street     985 non-null    object  \n",
      " 1   sq__ft     985 non-null    int64   \n",
      " 2   sale_date  985 non-null    object  \n",
      " 3   price      985 non-null    int64   \n",
      " 4   latitude   985 non-null    float64 \n",
      " 5   longitude  985 non-null    float64 \n",
      " 6   city       985 non-null    category\n",
      " 7   state      985 non-null    category\n",
      " 8   zip        985 non-null    category\n",
      " 9   beds       985 non-null    category\n",
      " 10  baths      985 non-null    category\n",
      " 11  type       985 non-null    category\n",
      "dtypes: category(6), float64(2), int64(2), object(2)\n",
      "memory usage: 57.5+ KB\n"
     ]
    }
   ],
   "source": [
    "data_mod.info(verbose='true')"
   ]
  },
  {
   "cell_type": "markdown",
   "metadata": {},
   "source": [
    "## Part III: Cleaning Continous Variables"
   ]
  },
  {
   "cell_type": "code",
   "execution_count": 13,
   "metadata": {},
   "outputs": [
    {
     "data": {
      "text/plain": [
       "<matplotlib.axes._subplots.AxesSubplot at 0x1485836d4c0>"
      ]
     },
     "execution_count": 13,
     "metadata": {},
     "output_type": "execute_result"
    },
    {
     "data": {
      "image/png": "[encoded data removed]",
      "text/plain": [
       "<Figure size 432x288 with 1 Axes>"
      ]
     },
     "metadata": {
      "needs_background": "light"
     },
     "output_type": "display_data"
    }
   ],
   "source": [
    "sns.distplot((data_mod[\"sq__ft\"]),kde=False)"
   ]
  },
  {
   "cell_type": "code",
   "execution_count": 14,
   "metadata": {},
   "outputs": [
    {
     "data": {
      "text/plain": [
       "<matplotlib.axes._subplots.AxesSubplot at 0x14858495af0>"
      ]
     },
     "execution_count": 14,
     "metadata": {},
     "output_type": "execute_result"
    },
    {
     "data": {
      "image/png": "[encoded data removed]",
      "text/plain": [
       "<Figure size 432x288 with 1 Axes>"
      ]
     },
     "metadata": {
      "needs_background": "light"
     },
     "output_type": "display_data"
    }
   ],
   "source": [
    "sns.distplot(data_mod[\"longitude\"],kde=False)"
   ]
  },
  {
   "cell_type": "code",
   "execution_count": 15,
   "metadata": {},
   "outputs": [
    {
     "data": {
      "text/plain": [
       "<matplotlib.axes._subplots.AxesSubplot at 0x1485849ec40>"
      ]
     },
     "execution_count": 15,
     "metadata": {},
     "output_type": "execute_result"
    },
    {
     "data": {
      "image/png": "[encoded data removed]",
      "text/plain": [
       "<Figure size 432x288 with 1 Axes>"
      ]
     },
     "metadata": {
      "needs_background": "light"
     },
     "output_type": "display_data"
    }
   ],
   "source": [
    "sns.distplot(data_mod[\"latitude\"],kde=False)"
   ]
  },
  {
   "cell_type": "markdown",
   "metadata": {},
   "source": [
    "#### Odd patterns in the plots\n",
    "\n",
    "In the square foot plot there appear to be a lot of properties with 0 square footage. Without knowing more about the dataset it is hard to say if this is real or an artifact. We could take two approaches to this. 1) Either this is real and the properties where the square footage is zero may be lots (we could check this to see if they have beds and baths) or they could be zoned differently. 2) We could remove them as erroneous from the dataset."
   ]
  },
  {
   "cell_type": "markdown",
   "metadata": {},
   "source": [
    "## Part IV: Cleaning Categorical Variables"
   ]
  },
  {
   "cell_type": "code",
   "execution_count": 16,
   "metadata": {},
   "outputs": [
    {
     "data": {
      "text/plain": [
       "<matplotlib.axes._subplots.AxesSubplot at 0x148585e90d0>"
      ]
     },
     "execution_count": 16,
     "metadata": {},
     "output_type": "execute_result"
    },
    {
     "data": {
      "image/png": "[encoded data removed]",
      "text/plain": [
       "<Figure size 432x288 with 1 Axes>"
      ]
     },
     "metadata": {
      "needs_background": "light"
     },
     "output_type": "display_data"
    }
   ],
   "source": [
    "sns.countplot(data_mod[\"beds\"])"
   ]
  },
  {
   "cell_type": "code",
   "execution_count": 17,
   "metadata": {},
   "outputs": [
    {
     "data": {
      "text/plain": [
       "<matplotlib.axes._subplots.AxesSubplot at 0x1485865c940>"
      ]
     },
     "execution_count": 17,
     "metadata": {},
     "output_type": "execute_result"
    },
    {
     "data": {
      "image/png": "[encoded data removed]",
      "text/plain": [
       "<Figure size 432x288 with 1 Axes>"
      ]
     },
     "metadata": {
      "needs_background": "light"
     },
     "output_type": "display_data"
    }
   ],
   "source": [
    "sns.countplot(data_mod[\"baths\"])"
   ]
  },
  {
   "cell_type": "code",
   "execution_count": 18,
   "metadata": {},
   "outputs": [
    {
     "data": {
      "text/plain": [
       "<matplotlib.axes._subplots.AxesSubplot at 0x1485864aa90>"
      ]
     },
     "execution_count": 18,
     "metadata": {},
     "output_type": "execute_result"
    },
    {
     "data": {
      "image/png": "[encoded data removed]",
      "text/plain": [
       "<Figure size 432x288 with 1 Axes>"
      ]
     },
     "metadata": {
      "needs_background": "light"
     },
     "output_type": "display_data"
    }
   ],
   "source": [
    "sns.countplot(data_mod[\"type\"])"
   ]
  },
  {
   "cell_type": "code",
   "execution_count": 19,
   "metadata": {},
   "outputs": [
    {
     "data": {
      "text/plain": [
       "<matplotlib.axes._subplots.AxesSubplot at 0x14858703760>"
      ]
     },
     "execution_count": 19,
     "metadata": {},
     "output_type": "execute_result"
    },
    {
     "data": {
      "image/png": "[encoded data removed]",
      "text/plain": [
       "<Figure size 432x288 with 1 Axes>"
      ]
     },
     "metadata": {
      "needs_background": "light"
     },
     "output_type": "display_data"
    }
   ],
   "source": [
    "sns.countplot(data_mod[\"state\"])"
   ]
  },
  {
   "cell_type": "code",
   "execution_count": 20,
   "metadata": {},
   "outputs": [
    {
     "data": {
      "text/plain": [
       "<matplotlib.axes._subplots.AxesSubplot at 0x1485876a2e0>"
      ]
     },
     "execution_count": 20,
     "metadata": {},
     "output_type": "execute_result"
    },
    {
     "data": {
      "image/png": "[encoded data removed]",
      "text/plain": [
       "<Figure size 432x288 with 1 Axes>"
      ]
     },
     "metadata": {
      "needs_background": "light"
     },
     "output_type": "display_data"
    }
   ],
   "source": [
    "sns.countplot(data_mod[\"city\"])"
   ]
  },
  {
   "cell_type": "code",
   "execution_count": 40,
   "metadata": {},
   "outputs": [
    {
     "data": {
      "text/plain": [
       "<matplotlib.axes._subplots.AxesSubplot at 0x14858ffcb50>"
      ]
     },
     "execution_count": 40,
     "metadata": {},
     "output_type": "execute_result"
    },
    {
     "data": {
      "image/png": "[encoded data removed]",
      "text/plain": [
       "<Figure size 1008x1080 with 1 Axes>"
      ]
     },
     "metadata": {
      "needs_background": "light"
     },
     "output_type": "display_data"
    }
   ],
   "source": [
    "figure_dimensions = (14,15)\n",
    "fig, ax = plt.subplots(figsize=figure_dimensions)\n",
    "sns.countplot(y=data_mod[\"city\"],ax=ax)"
   ]
  },
  {
   "cell_type": "code",
   "execution_count": 39,
   "metadata": {},
   "outputs": [
    {
     "data": {
      "text/plain": [
       "<matplotlib.axes._subplots.AxesSubplot at 0x14858da11c0>"
      ]
     },
     "execution_count": 39,
     "metadata": {},
     "output_type": "execute_result"
    },
    {
     "data": {
      "image/png": "[encoded data removed]",
      "text/plain": [
       "<Figure size 1008x1080 with 1 Axes>"
      ]
     },
     "metadata": {
      "needs_background": "light"
     },
     "output_type": "display_data"
    }
   ],
   "source": [
    "figure_dimensions = (14,15)\n",
    "fig, ax = plt.subplots(figsize=figure_dimensions)\n",
    "sns.countplot(y=data_mod[\"zip\"],ax=ax)"
   ]
  },
  {
   "cell_type": "markdown",
   "metadata": {},
   "source": [
    "#### Odd patterns in the plots\n",
    "\n",
    "Similar to what we were seeing for the square footage, but here I think we might be more justified for thinking outside the box with beds and baths. If these are at commercial properties we might expect them to have fewer baths or beds. These could however still be errors from how the metrics are reported or entered into the system.\n",
    "\n",
    "Of note here... How helpful are those labels on the city and zip plots?"
   ]
  },
  {
   "cell_type": "markdown",
   "metadata": {},
   "source": [
    "## Part V: Engineering New Variables - Part I"
   ]
  },
  {
   "cell_type": "code",
   "execution_count": 22,
   "metadata": {},
   "outputs": [],
   "source": [
    "squareFeet = data[\"sq__ft\"]"
   ]
  },
  {
   "cell_type": "code",
   "execution_count": 23,
   "metadata": {},
   "outputs": [],
   "source": [
    "emptyLot = squareFeet.map(lambda s: s==0)"
   ]
  },
  {
   "cell_type": "code",
   "execution_count": 24,
   "metadata": {},
   "outputs": [],
   "source": [
    "data_mod[\"Empty Lot\"] = emptyLot"
   ]
  },
  {
   "cell_type": "code",
   "execution_count": 25,
   "metadata": {},
   "outputs": [
    {
     "data": {
      "text/html": [
       "<div>\n",
       "<style scoped>\n",
       "    .dataframe tbody tr th:only-of-type {\n",
       "        vertical-align: middle;\n",
       "    }\n",
       "\n",
       "    .dataframe tbody tr th {\n",
       "        vertical-align: top;\n",
       "    }\n",
       "\n",
       "    .dataframe thead th {\n",
       "        text-align: right;\n",
       "    }\n",
       "</style>\n",
       "<table border=\"1\" class=\"dataframe\">\n",
       "  <thead>\n",
       "    <tr style=\"text-align: right;\">\n",
       "      <th></th>\n",
       "      <th>street</th>\n",
       "      <th>sq__ft</th>\n",
       "      <th>sale_date</th>\n",
       "      <th>price</th>\n",
       "      <th>latitude</th>\n",
       "      <th>longitude</th>\n",
       "      <th>city</th>\n",
       "      <th>state</th>\n",
       "      <th>zip</th>\n",
       "      <th>beds</th>\n",
       "      <th>baths</th>\n",
       "      <th>type</th>\n",
       "      <th>Empty Lot</th>\n",
       "    </tr>\n",
       "  </thead>\n",
       "  <tbody>\n",
       "    <tr>\n",
       "      <th>0</th>\n",
       "      <td>3526 HIGH ST</td>\n",
       "      <td>836</td>\n",
       "      <td>Wed May 21 00:00:00 EDT 2008</td>\n",
       "      <td>59222</td>\n",
       "      <td>38.631913</td>\n",
       "      <td>-121.434879</td>\n",
       "      <td>SACRAMENTO</td>\n",
       "      <td>CA</td>\n",
       "      <td>95838</td>\n",
       "      <td>2</td>\n",
       "      <td>1</td>\n",
       "      <td>Residential</td>\n",
       "      <td>False</td>\n",
       "    </tr>\n",
       "    <tr>\n",
       "      <th>1</th>\n",
       "      <td>51 OMAHA CT</td>\n",
       "      <td>1167</td>\n",
       "      <td>Wed May 21 00:00:00 EDT 2008</td>\n",
       "      <td>68212</td>\n",
       "      <td>38.478902</td>\n",
       "      <td>-121.431028</td>\n",
       "      <td>SACRAMENTO</td>\n",
       "      <td>CA</td>\n",
       "      <td>95823</td>\n",
       "      <td>3</td>\n",
       "      <td>1</td>\n",
       "      <td>Residential</td>\n",
       "      <td>False</td>\n",
       "    </tr>\n",
       "    <tr>\n",
       "      <th>2</th>\n",
       "      <td>2796 BRANCH ST</td>\n",
       "      <td>796</td>\n",
       "      <td>Wed May 21 00:00:00 EDT 2008</td>\n",
       "      <td>68880</td>\n",
       "      <td>38.618305</td>\n",
       "      <td>-121.443839</td>\n",
       "      <td>SACRAMENTO</td>\n",
       "      <td>CA</td>\n",
       "      <td>95815</td>\n",
       "      <td>2</td>\n",
       "      <td>1</td>\n",
       "      <td>Residential</td>\n",
       "      <td>False</td>\n",
       "    </tr>\n",
       "    <tr>\n",
       "      <th>3</th>\n",
       "      <td>2805 JANETTE WAY</td>\n",
       "      <td>852</td>\n",
       "      <td>Wed May 21 00:00:00 EDT 2008</td>\n",
       "      <td>69307</td>\n",
       "      <td>38.616835</td>\n",
       "      <td>-121.439146</td>\n",
       "      <td>SACRAMENTO</td>\n",
       "      <td>CA</td>\n",
       "      <td>95815</td>\n",
       "      <td>2</td>\n",
       "      <td>1</td>\n",
       "      <td>Residential</td>\n",
       "      <td>False</td>\n",
       "    </tr>\n",
       "    <tr>\n",
       "      <th>4</th>\n",
       "      <td>6001 MCMAHON DR</td>\n",
       "      <td>797</td>\n",
       "      <td>Wed May 21 00:00:00 EDT 2008</td>\n",
       "      <td>81900</td>\n",
       "      <td>38.519470</td>\n",
       "      <td>-121.435768</td>\n",
       "      <td>SACRAMENTO</td>\n",
       "      <td>CA</td>\n",
       "      <td>95824</td>\n",
       "      <td>2</td>\n",
       "      <td>1</td>\n",
       "      <td>Residential</td>\n",
       "      <td>False</td>\n",
       "    </tr>\n",
       "  </tbody>\n",
       "</table>\n",
       "</div>"
      ],
      "text/plain": [
       "             street  sq__ft                     sale_date  price   latitude  \\\n",
       "0      3526 HIGH ST     836  Wed May 21 00:00:00 EDT 2008  59222  38.631913   \n",
       "1       51 OMAHA CT    1167  Wed May 21 00:00:00 EDT 2008  68212  38.478902   \n",
       "2    2796 BRANCH ST     796  Wed May 21 00:00:00 EDT 2008  68880  38.618305   \n",
       "3  2805 JANETTE WAY     852  Wed May 21 00:00:00 EDT 2008  69307  38.616835   \n",
       "4   6001 MCMAHON DR     797  Wed May 21 00:00:00 EDT 2008  81900  38.519470   \n",
       "\n",
       "    longitude        city state    zip beds baths         type  Empty Lot  \n",
       "0 -121.434879  SACRAMENTO    CA  95838    2     1  Residential      False  \n",
       "1 -121.431028  SACRAMENTO    CA  95823    3     1  Residential      False  \n",
       "2 -121.443839  SACRAMENTO    CA  95815    2     1  Residential      False  \n",
       "3 -121.439146  SACRAMENTO    CA  95815    2     1  Residential      False  \n",
       "4 -121.435768  SACRAMENTO    CA  95824    2     1  Residential      False  "
      ]
     },
     "execution_count": 25,
     "metadata": {},
     "output_type": "execute_result"
    }
   ],
   "source": [
    "data_mod.head(5)"
   ]
  },
  {
   "cell_type": "code",
   "execution_count": 26,
   "metadata": {},
   "outputs": [
    {
     "data": {
      "text/plain": [
       "<matplotlib.axes._subplots.AxesSubplot at 0x1485830fee0>"
      ]
     },
     "execution_count": 26,
     "metadata": {},
     "output_type": "execute_result"
    },
    {
     "data": {
      "image/png": "[encoded data removed]",
      "text/plain": [
       "<Figure size 432x288 with 1 Axes>"
      ]
     },
     "metadata": {
      "needs_background": "light"
     },
     "output_type": "display_data"
    }
   ],
   "source": [
    "sns.countplot(data_mod[\"Empty Lot\"])"
   ]
  },
  {
   "cell_type": "markdown",
   "metadata": {},
   "source": [
    "## Part VI: Engineering New Variables - Part II"
   ]
  },
  {
   "cell_type": "code",
   "execution_count": 27,
   "metadata": {},
   "outputs": [
    {
     "name": "stdout",
     "output_type": "stream",
     "text": [
      "Number of unique Street Addresses: 981\n"
     ]
    }
   ],
   "source": [
    "numberOfAddresses = len(np.unique(data[\"street\"].values))\n",
    "print(\"Number of unique Street Addresses: \" + str(numberOfAddresses))"
   ]
  },
  {
   "cell_type": "markdown",
   "metadata": {},
   "source": [
    "#### Categorical versus integer variables\n",
    "\n",
    "- Streets: This feature is presented as a string. By itself, we _could_ encode it as an integer, but it doesn't neccessarily make sense to assign an ordered meaning to streets. Does it make sense to assign Ohmaha street a value of one and Branch street a value of 2? Is one Branch street equal to 2 Ohmaha streets? Alternatively we could make them categorical variables, but in this case we would end up with 981 different categories. Having this many different categories with 985 different observations is not going to give us much power to group or discriminate in predictions."
   ]
  },
  {
   "cell_type": "code",
   "execution_count": 28,
   "metadata": {},
   "outputs": [
    {
     "data": {
      "text/html": [
       "<div>\n",
       "<style scoped>\n",
       "    .dataframe tbody tr th:only-of-type {\n",
       "        vertical-align: middle;\n",
       "    }\n",
       "\n",
       "    .dataframe tbody tr th {\n",
       "        vertical-align: top;\n",
       "    }\n",
       "\n",
       "    .dataframe thead th {\n",
       "        text-align: right;\n",
       "    }\n",
       "</style>\n",
       "<table border=\"1\" class=\"dataframe\">\n",
       "  <thead>\n",
       "    <tr style=\"text-align: right;\">\n",
       "      <th></th>\n",
       "      <th>street</th>\n",
       "      <th>sq__ft</th>\n",
       "      <th>sale_date</th>\n",
       "      <th>price</th>\n",
       "      <th>latitude</th>\n",
       "      <th>longitude</th>\n",
       "      <th>city</th>\n",
       "      <th>state</th>\n",
       "      <th>zip</th>\n",
       "      <th>beds</th>\n",
       "      <th>baths</th>\n",
       "      <th>type</th>\n",
       "      <th>Empty Lot</th>\n",
       "    </tr>\n",
       "  </thead>\n",
       "  <tbody>\n",
       "    <tr>\n",
       "      <th>0</th>\n",
       "      <td>3526 HIGH ST</td>\n",
       "      <td>836</td>\n",
       "      <td>Wed May 21 00:00:00 EDT 2008</td>\n",
       "      <td>59222</td>\n",
       "      <td>38.631913</td>\n",
       "      <td>-121.434879</td>\n",
       "      <td>SACRAMENTO</td>\n",
       "      <td>CA</td>\n",
       "      <td>95838</td>\n",
       "      <td>2</td>\n",
       "      <td>1</td>\n",
       "      <td>Residential</td>\n",
       "      <td>False</td>\n",
       "    </tr>\n",
       "    <tr>\n",
       "      <th>1</th>\n",
       "      <td>51 OMAHA CT</td>\n",
       "      <td>1167</td>\n",
       "      <td>Wed May 21 00:00:00 EDT 2008</td>\n",
       "      <td>68212</td>\n",
       "      <td>38.478902</td>\n",
       "      <td>-121.431028</td>\n",
       "      <td>SACRAMENTO</td>\n",
       "      <td>CA</td>\n",
       "      <td>95823</td>\n",
       "      <td>3</td>\n",
       "      <td>1</td>\n",
       "      <td>Residential</td>\n",
       "      <td>False</td>\n",
       "    </tr>\n",
       "    <tr>\n",
       "      <th>2</th>\n",
       "      <td>2796 BRANCH ST</td>\n",
       "      <td>796</td>\n",
       "      <td>Wed May 21 00:00:00 EDT 2008</td>\n",
       "      <td>68880</td>\n",
       "      <td>38.618305</td>\n",
       "      <td>-121.443839</td>\n",
       "      <td>SACRAMENTO</td>\n",
       "      <td>CA</td>\n",
       "      <td>95815</td>\n",
       "      <td>2</td>\n",
       "      <td>1</td>\n",
       "      <td>Residential</td>\n",
       "      <td>False</td>\n",
       "    </tr>\n",
       "    <tr>\n",
       "      <th>3</th>\n",
       "      <td>2805 JANETTE WAY</td>\n",
       "      <td>852</td>\n",
       "      <td>Wed May 21 00:00:00 EDT 2008</td>\n",
       "      <td>69307</td>\n",
       "      <td>38.616835</td>\n",
       "      <td>-121.439146</td>\n",
       "      <td>SACRAMENTO</td>\n",
       "      <td>CA</td>\n",
       "      <td>95815</td>\n",
       "      <td>2</td>\n",
       "      <td>1</td>\n",
       "      <td>Residential</td>\n",
       "      <td>False</td>\n",
       "    </tr>\n",
       "    <tr>\n",
       "      <th>4</th>\n",
       "      <td>6001 MCMAHON DR</td>\n",
       "      <td>797</td>\n",
       "      <td>Wed May 21 00:00:00 EDT 2008</td>\n",
       "      <td>81900</td>\n",
       "      <td>38.519470</td>\n",
       "      <td>-121.435768</td>\n",
       "      <td>SACRAMENTO</td>\n",
       "      <td>CA</td>\n",
       "      <td>95824</td>\n",
       "      <td>2</td>\n",
       "      <td>1</td>\n",
       "      <td>Residential</td>\n",
       "      <td>False</td>\n",
       "    </tr>\n",
       "    <tr>\n",
       "      <th>5</th>\n",
       "      <td>5828 PEPPERMILL CT</td>\n",
       "      <td>1122</td>\n",
       "      <td>Wed May 21 00:00:00 EDT 2008</td>\n",
       "      <td>89921</td>\n",
       "      <td>38.662595</td>\n",
       "      <td>-121.327813</td>\n",
       "      <td>SACRAMENTO</td>\n",
       "      <td>CA</td>\n",
       "      <td>95841</td>\n",
       "      <td>3</td>\n",
       "      <td>1</td>\n",
       "      <td>Condo</td>\n",
       "      <td>False</td>\n",
       "    </tr>\n",
       "    <tr>\n",
       "      <th>6</th>\n",
       "      <td>6048 OGDEN NASH WAY</td>\n",
       "      <td>1104</td>\n",
       "      <td>Wed May 21 00:00:00 EDT 2008</td>\n",
       "      <td>90895</td>\n",
       "      <td>38.681659</td>\n",
       "      <td>-121.351705</td>\n",
       "      <td>SACRAMENTO</td>\n",
       "      <td>CA</td>\n",
       "      <td>95842</td>\n",
       "      <td>3</td>\n",
       "      <td>2</td>\n",
       "      <td>Residential</td>\n",
       "      <td>False</td>\n",
       "    </tr>\n",
       "    <tr>\n",
       "      <th>7</th>\n",
       "      <td>2561 19TH AVE</td>\n",
       "      <td>1177</td>\n",
       "      <td>Wed May 21 00:00:00 EDT 2008</td>\n",
       "      <td>91002</td>\n",
       "      <td>38.535092</td>\n",
       "      <td>-121.481367</td>\n",
       "      <td>SACRAMENTO</td>\n",
       "      <td>CA</td>\n",
       "      <td>95820</td>\n",
       "      <td>3</td>\n",
       "      <td>1</td>\n",
       "      <td>Residential</td>\n",
       "      <td>False</td>\n",
       "    </tr>\n",
       "    <tr>\n",
       "      <th>8</th>\n",
       "      <td>11150 TRINITY RIVER DR Unit 114</td>\n",
       "      <td>941</td>\n",
       "      <td>Wed May 21 00:00:00 EDT 2008</td>\n",
       "      <td>94905</td>\n",
       "      <td>38.621188</td>\n",
       "      <td>-121.270555</td>\n",
       "      <td>RANCHO CORDOVA</td>\n",
       "      <td>CA</td>\n",
       "      <td>95670</td>\n",
       "      <td>2</td>\n",
       "      <td>2</td>\n",
       "      <td>Condo</td>\n",
       "      <td>False</td>\n",
       "    </tr>\n",
       "    <tr>\n",
       "      <th>9</th>\n",
       "      <td>7325 10TH ST</td>\n",
       "      <td>1146</td>\n",
       "      <td>Wed May 21 00:00:00 EDT 2008</td>\n",
       "      <td>98937</td>\n",
       "      <td>38.700909</td>\n",
       "      <td>-121.442979</td>\n",
       "      <td>RIO LINDA</td>\n",
       "      <td>CA</td>\n",
       "      <td>95673</td>\n",
       "      <td>3</td>\n",
       "      <td>2</td>\n",
       "      <td>Residential</td>\n",
       "      <td>False</td>\n",
       "    </tr>\n",
       "    <tr>\n",
       "      <th>10</th>\n",
       "      <td>645 MORRISON AVE</td>\n",
       "      <td>909</td>\n",
       "      <td>Wed May 21 00:00:00 EDT 2008</td>\n",
       "      <td>100309</td>\n",
       "      <td>38.637663</td>\n",
       "      <td>-121.451520</td>\n",
       "      <td>SACRAMENTO</td>\n",
       "      <td>CA</td>\n",
       "      <td>95838</td>\n",
       "      <td>3</td>\n",
       "      <td>2</td>\n",
       "      <td>Residential</td>\n",
       "      <td>False</td>\n",
       "    </tr>\n",
       "    <tr>\n",
       "      <th>11</th>\n",
       "      <td>4085 FAWN CIR</td>\n",
       "      <td>1289</td>\n",
       "      <td>Wed May 21 00:00:00 EDT 2008</td>\n",
       "      <td>106250</td>\n",
       "      <td>38.470746</td>\n",
       "      <td>-121.458918</td>\n",
       "      <td>SACRAMENTO</td>\n",
       "      <td>CA</td>\n",
       "      <td>95823</td>\n",
       "      <td>3</td>\n",
       "      <td>2</td>\n",
       "      <td>Residential</td>\n",
       "      <td>False</td>\n",
       "    </tr>\n",
       "    <tr>\n",
       "      <th>12</th>\n",
       "      <td>2930 LA ROSA RD</td>\n",
       "      <td>871</td>\n",
       "      <td>Wed May 21 00:00:00 EDT 2008</td>\n",
       "      <td>106852</td>\n",
       "      <td>38.618698</td>\n",
       "      <td>-121.435833</td>\n",
       "      <td>SACRAMENTO</td>\n",
       "      <td>CA</td>\n",
       "      <td>95815</td>\n",
       "      <td>1</td>\n",
       "      <td>1</td>\n",
       "      <td>Residential</td>\n",
       "      <td>False</td>\n",
       "    </tr>\n",
       "    <tr>\n",
       "      <th>13</th>\n",
       "      <td>2113 KIRK WAY</td>\n",
       "      <td>1020</td>\n",
       "      <td>Wed May 21 00:00:00 EDT 2008</td>\n",
       "      <td>107502</td>\n",
       "      <td>38.482215</td>\n",
       "      <td>-121.492603</td>\n",
       "      <td>SACRAMENTO</td>\n",
       "      <td>CA</td>\n",
       "      <td>95822</td>\n",
       "      <td>3</td>\n",
       "      <td>1</td>\n",
       "      <td>Residential</td>\n",
       "      <td>False</td>\n",
       "    </tr>\n",
       "    <tr>\n",
       "      <th>14</th>\n",
       "      <td>4533 LOCH HAVEN WAY</td>\n",
       "      <td>1022</td>\n",
       "      <td>Wed May 21 00:00:00 EDT 2008</td>\n",
       "      <td>108750</td>\n",
       "      <td>38.672914</td>\n",
       "      <td>-121.359340</td>\n",
       "      <td>SACRAMENTO</td>\n",
       "      <td>CA</td>\n",
       "      <td>95842</td>\n",
       "      <td>2</td>\n",
       "      <td>2</td>\n",
       "      <td>Residential</td>\n",
       "      <td>False</td>\n",
       "    </tr>\n",
       "    <tr>\n",
       "      <th>15</th>\n",
       "      <td>7340 HAMDEN PL</td>\n",
       "      <td>1134</td>\n",
       "      <td>Wed May 21 00:00:00 EDT 2008</td>\n",
       "      <td>110700</td>\n",
       "      <td>38.700051</td>\n",
       "      <td>-121.351278</td>\n",
       "      <td>SACRAMENTO</td>\n",
       "      <td>CA</td>\n",
       "      <td>95842</td>\n",
       "      <td>2</td>\n",
       "      <td>2</td>\n",
       "      <td>Condo</td>\n",
       "      <td>False</td>\n",
       "    </tr>\n",
       "    <tr>\n",
       "      <th>16</th>\n",
       "      <td>6715 6TH ST</td>\n",
       "      <td>844</td>\n",
       "      <td>Wed May 21 00:00:00 EDT 2008</td>\n",
       "      <td>113263</td>\n",
       "      <td>38.689591</td>\n",
       "      <td>-121.452239</td>\n",
       "      <td>RIO LINDA</td>\n",
       "      <td>CA</td>\n",
       "      <td>95673</td>\n",
       "      <td>2</td>\n",
       "      <td>1</td>\n",
       "      <td>Residential</td>\n",
       "      <td>False</td>\n",
       "    </tr>\n",
       "    <tr>\n",
       "      <th>17</th>\n",
       "      <td>6236 LONGFORD DR Unit 1</td>\n",
       "      <td>795</td>\n",
       "      <td>Wed May 21 00:00:00 EDT 2008</td>\n",
       "      <td>116250</td>\n",
       "      <td>38.679776</td>\n",
       "      <td>-121.314089</td>\n",
       "      <td>CITRUS HEIGHTS</td>\n",
       "      <td>CA</td>\n",
       "      <td>95621</td>\n",
       "      <td>2</td>\n",
       "      <td>1</td>\n",
       "      <td>Condo</td>\n",
       "      <td>False</td>\n",
       "    </tr>\n",
       "    <tr>\n",
       "      <th>18</th>\n",
       "      <td>250 PERALTA AVE</td>\n",
       "      <td>588</td>\n",
       "      <td>Wed May 21 00:00:00 EDT 2008</td>\n",
       "      <td>120000</td>\n",
       "      <td>38.612099</td>\n",
       "      <td>-121.469095</td>\n",
       "      <td>SACRAMENTO</td>\n",
       "      <td>CA</td>\n",
       "      <td>95833</td>\n",
       "      <td>2</td>\n",
       "      <td>1</td>\n",
       "      <td>Residential</td>\n",
       "      <td>False</td>\n",
       "    </tr>\n",
       "    <tr>\n",
       "      <th>19</th>\n",
       "      <td>113 LEEWILL AVE</td>\n",
       "      <td>1356</td>\n",
       "      <td>Wed May 21 00:00:00 EDT 2008</td>\n",
       "      <td>121630</td>\n",
       "      <td>38.689999</td>\n",
       "      <td>-121.463220</td>\n",
       "      <td>RIO LINDA</td>\n",
       "      <td>CA</td>\n",
       "      <td>95673</td>\n",
       "      <td>3</td>\n",
       "      <td>2</td>\n",
       "      <td>Residential</td>\n",
       "      <td>False</td>\n",
       "    </tr>\n",
       "  </tbody>\n",
       "</table>\n",
       "</div>"
      ],
      "text/plain": [
       "                             street  sq__ft                     sale_date  \\\n",
       "0                      3526 HIGH ST     836  Wed May 21 00:00:00 EDT 2008   \n",
       "1                       51 OMAHA CT    1167  Wed May 21 00:00:00 EDT 2008   \n",
       "2                    2796 BRANCH ST     796  Wed May 21 00:00:00 EDT 2008   \n",
       "3                  2805 JANETTE WAY     852  Wed May 21 00:00:00 EDT 2008   \n",
       "4                   6001 MCMAHON DR     797  Wed May 21 00:00:00 EDT 2008   \n",
       "5                5828 PEPPERMILL CT    1122  Wed May 21 00:00:00 EDT 2008   \n",
       "6               6048 OGDEN NASH WAY    1104  Wed May 21 00:00:00 EDT 2008   \n",
       "7                     2561 19TH AVE    1177  Wed May 21 00:00:00 EDT 2008   \n",
       "8   11150 TRINITY RIVER DR Unit 114     941  Wed May 21 00:00:00 EDT 2008   \n",
       "9                      7325 10TH ST    1146  Wed May 21 00:00:00 EDT 2008   \n",
       "10                 645 MORRISON AVE     909  Wed May 21 00:00:00 EDT 2008   \n",
       "11                    4085 FAWN CIR    1289  Wed May 21 00:00:00 EDT 2008   \n",
       "12                  2930 LA ROSA RD     871  Wed May 21 00:00:00 EDT 2008   \n",
       "13                    2113 KIRK WAY    1020  Wed May 21 00:00:00 EDT 2008   \n",
       "14              4533 LOCH HAVEN WAY    1022  Wed May 21 00:00:00 EDT 2008   \n",
       "15                   7340 HAMDEN PL    1134  Wed May 21 00:00:00 EDT 2008   \n",
       "16                      6715 6TH ST     844  Wed May 21 00:00:00 EDT 2008   \n",
       "17          6236 LONGFORD DR Unit 1     795  Wed May 21 00:00:00 EDT 2008   \n",
       "18                  250 PERALTA AVE     588  Wed May 21 00:00:00 EDT 2008   \n",
       "19                  113 LEEWILL AVE    1356  Wed May 21 00:00:00 EDT 2008   \n",
       "\n",
       "     price   latitude   longitude            city state    zip beds baths  \\\n",
       "0    59222  38.631913 -121.434879      SACRAMENTO    CA  95838    2     1   \n",
       "1    68212  38.478902 -121.431028      SACRAMENTO    CA  95823    3     1   \n",
       "2    68880  38.618305 -121.443839      SACRAMENTO    CA  95815    2     1   \n",
       "3    69307  38.616835 -121.439146      SACRAMENTO    CA  95815    2     1   \n",
       "4    81900  38.519470 -121.435768      SACRAMENTO    CA  95824    2     1   \n",
       "5    89921  38.662595 -121.327813      SACRAMENTO    CA  95841    3     1   \n",
       "6    90895  38.681659 -121.351705      SACRAMENTO    CA  95842    3     2   \n",
       "7    91002  38.535092 -121.481367      SACRAMENTO    CA  95820    3     1   \n",
       "8    94905  38.621188 -121.270555  RANCHO CORDOVA    CA  95670    2     2   \n",
       "9    98937  38.700909 -121.442979       RIO LINDA    CA  95673    3     2   \n",
       "10  100309  38.637663 -121.451520      SACRAMENTO    CA  95838    3     2   \n",
       "11  106250  38.470746 -121.458918      SACRAMENTO    CA  95823    3     2   \n",
       "12  106852  38.618698 -121.435833      SACRAMENTO    CA  95815    1     1   \n",
       "13  107502  38.482215 -121.492603      SACRAMENTO    CA  95822    3     1   \n",
       "14  108750  38.672914 -121.359340      SACRAMENTO    CA  95842    2     2   \n",
       "15  110700  38.700051 -121.351278      SACRAMENTO    CA  95842    2     2   \n",
       "16  113263  38.689591 -121.452239       RIO LINDA    CA  95673    2     1   \n",
       "17  116250  38.679776 -121.314089  CITRUS HEIGHTS    CA  95621    2     1   \n",
       "18  120000  38.612099 -121.469095      SACRAMENTO    CA  95833    2     1   \n",
       "19  121630  38.689999 -121.463220       RIO LINDA    CA  95673    3     2   \n",
       "\n",
       "           type  Empty Lot  \n",
       "0   Residential      False  \n",
       "1   Residential      False  \n",
       "2   Residential      False  \n",
       "3   Residential      False  \n",
       "4   Residential      False  \n",
       "5         Condo      False  \n",
       "6   Residential      False  \n",
       "7   Residential      False  \n",
       "8         Condo      False  \n",
       "9   Residential      False  \n",
       "10  Residential      False  \n",
       "11  Residential      False  \n",
       "12  Residential      False  \n",
       "13  Residential      False  \n",
       "14  Residential      False  \n",
       "15        Condo      False  \n",
       "16  Residential      False  \n",
       "17        Condo      False  \n",
       "18  Residential      False  \n",
       "19  Residential      False  "
      ]
     },
     "execution_count": 28,
     "metadata": {},
     "output_type": "execute_result"
    }
   ],
   "source": [
    "data_mod.head(20)"
   ]
  },
  {
   "cell_type": "code",
   "execution_count": 29,
   "metadata": {},
   "outputs": [],
   "source": [
    "def get_street_type(address):\n",
    "    \n",
    "    addressList = address.split(\" \")\n",
    "    \n",
    "    streetType = addressList[-1]\n",
    "       \n",
    "    if any(map(str.isdigit, streetType)):\n",
    "        streetType = addressList[-3]\n",
    "        \n",
    "    return streetType"
   ]
  },
  {
   "cell_type": "code",
   "execution_count": 30,
   "metadata": {},
   "outputs": [
    {
     "name": "stdout",
     "output_type": "stream",
     "text": [
      "DR\n"
     ]
    }
   ],
   "source": [
    "print(get_street_type(data_mod[\"street\"].iloc[8]))"
   ]
  },
  {
   "cell_type": "code",
   "execution_count": 31,
   "metadata": {},
   "outputs": [
    {
     "name": "stdout",
     "output_type": "stream",
     "text": [
      "Number of unique Street Types: 24\n"
     ]
    }
   ],
   "source": [
    "streetAddress = data[\"street\"]\n",
    "streets = streetAddress.map(lambda s: get_street_type(s)).astype('category')\n",
    "data_mod[\"Street Types\"] = streets\n",
    "numberOfStreetTypes = len(np.unique(data_mod[\"Street Types\"].values))\n",
    "print(\"Number of unique Street Types: \" + str(numberOfStreetTypes))"
   ]
  },
  {
   "cell_type": "code",
   "execution_count": 32,
   "metadata": {},
   "outputs": [
    {
     "data": {
      "image/png": "[encoded data removed]",
      "text/plain": [
       "<Figure size 432x288 with 1 Axes>"
      ]
     },
     "metadata": {
      "needs_background": "light"
     },
     "output_type": "display_data"
    }
   ],
   "source": [
    "streetnamesplot = sns.countplot(data_mod[\"Street Types\"])\n",
    "streetnamesplot.set_xticklabels(streetnamesplot.get_xticklabels(),rotation=75);"
   ]
  },
  {
   "cell_type": "code",
   "execution_count": 33,
   "metadata": {},
   "outputs": [],
   "source": [
    "def get_street_type_2(address):\n",
    "    if \"Unit\" in address:\n",
    "        idx = address.find(\"Unit\")\n",
    "        # cut off \" Unit ...\" from the end of the address\n",
    "        address = address[:idx - 1]\n",
    "    address = address.upper()\n",
    "    \n",
    "    if \"AVENIDA\" in address:\n",
    "        return \"AVE\"\n",
    "    \n",
    "    if \"VISTA\" in address:\n",
    "        return \"VISTA\"\n",
    "    \n",
    "    if \"STATE HIGHWAY\" in address:\n",
    "        return \"HWY\"\n",
    "    \n",
    "    if \"CONEJO\" in address:\n",
    "        return \"Unknown\"\n",
    "\n",
    "    cols = address.split()\n",
    "    # Assume the last entry is the street type\n",
    "    return cols[-1]"
   ]
  },
  {
   "cell_type": "code",
   "execution_count": 34,
   "metadata": {},
   "outputs": [
    {
     "name": "stdout",
     "output_type": "stream",
     "text": [
      "Number of unique Street Types: 21\n"
     ]
    }
   ],
   "source": [
    "streetAddress = data[\"street\"]\n",
    "streets = streetAddress.map(lambda s: get_street_type_2(s)).astype('category')\n",
    "data_mod[\"Street Types\"] = streets\n",
    "numberOfStreetTypes = len(np.unique(data_mod[\"Street Types\"].values))\n",
    "print(\"Number of unique Street Types: \" + str(numberOfStreetTypes))"
   ]
  },
  {
   "cell_type": "code",
   "execution_count": 42,
   "metadata": {},
   "outputs": [
    {
     "data": {
      "image/png": "[encoded data removed]",
      "text/plain": [
       "<Figure size 864x576 with 1 Axes>"
      ]
     },
     "metadata": {
      "needs_background": "light"
     },
     "output_type": "display_data"
    }
   ],
   "source": [
    "figure_dimensions = (12,8)\n",
    "fig, ax = plt.subplots(figsize=figure_dimensions)\n",
    "streetnamesplot = sns.countplot(data_mod[\"Street Types\"],ax=ax)\n",
    "streetnamesplot.set_xticklabels(streetnamesplot.get_xticklabels(),rotation=75);"
   ]
  },
  {
   "cell_type": "markdown",
   "metadata": {},
   "source": [
    "## Part VII: Identifying Potential Dependent Variables"
   ]
  },
  {
   "cell_type": "markdown",
   "metadata": {},
   "source": [
    "#### Regression:\n",
    "\n",
    "Regression problems are focused on predicting continuous varibles. In the case of this dataset we have indentified a number of continous varibles including square feet, number of beds, number of baths, and price. As discussed previously the zip codes were not be good candidates for a regression problem, although we could try it to demonstrate this fact. What about longitude and lattitude?\n",
    "\n",
    "#### Classification:\n",
    "\n",
    "Classification problems are well suited for ordinal and nominal scale features. Where the values themselves are not neceesarily ranked although they may have some interpreatable order to them. We have identified several features in this data set that would fit well with this. Included are zip codes, street types, residential types, and city. While state is also a categorical variable, this dataset does not seem to provide enough diversity to make any interesting claims or observations about state level decisions."
   ]
  },
  {
   "cell_type": "code",
   "execution_count": 35,
   "metadata": {},
   "outputs": [],
   "source": [
    "data_mod.to_csv(\"Cleaned_Sacremento_Real_Estate_Date.csv\",index=False)"
   ]
  }
 ],
 "metadata": {
  "kernelspec": {
   "display_name": "Python 3",
   "language": "python",
   "name": "python3"
  },
  "language_info": {
   "codemirror_mode": {
    "name": "ipython",
    "version": 3
   },
   "file_extension": ".py",
   "mimetype": "text/x-python",
   "name": "python",
   "nbconvert_exporter": "python",
   "pygments_lexer": "ipython3",
   "version": "3.8.3"
  }
 },
 "nbformat": 4,
 "nbformat_minor": 4
}
