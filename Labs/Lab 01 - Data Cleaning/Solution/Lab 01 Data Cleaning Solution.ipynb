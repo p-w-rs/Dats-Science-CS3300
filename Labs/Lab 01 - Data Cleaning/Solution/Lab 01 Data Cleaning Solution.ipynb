{
 "cells": [
  {
   "cell_type": "markdown",
   "metadata": {},
   "source": [
    "# Lab 1: Data Cleaning\n",
    "## RJ Nowling\n",
    "\n",
    "In this lab, we are loading a data set of real state transctions and cleaning it."
   ]
  },
  {
   "cell_type": "code",
   "execution_count": 1,
   "metadata": {},
   "outputs": [],
   "source": [
    "import matplotlib.pyplot as plt\n",
    "import pandas as pd\n",
    "import seaborn as sns"
   ]
  },
  {
   "cell_type": "markdown",
   "metadata": {},
   "source": [
    "## Part 1: Load and View Data"
   ]
  },
  {
   "cell_type": "code",
   "execution_count": 2,
   "metadata": {},
   "outputs": [],
   "source": [
    "df = pd.read_csv(\"Sacramentorealestatetransactions.csv\")"
   ]
  },
  {
   "cell_type": "code",
   "execution_count": 3,
   "metadata": {},
   "outputs": [
    {
     "data": {
      "text/html": [
       "<div>\n",
       "<style scoped>\n",
       "    .dataframe tbody tr th:only-of-type {\n",
       "        vertical-align: middle;\n",
       "    }\n",
       "\n",
       "    .dataframe tbody tr th {\n",
       "        vertical-align: top;\n",
       "    }\n",
       "\n",
       "    .dataframe thead th {\n",
       "        text-align: right;\n",
       "    }\n",
       "</style>\n",
       "<table border=\"1\" class=\"dataframe\">\n",
       "  <thead>\n",
       "    <tr style=\"text-align: right;\">\n",
       "      <th></th>\n",
       "      <th>street</th>\n",
       "      <th>city</th>\n",
       "      <th>zip</th>\n",
       "      <th>state</th>\n",
       "      <th>beds</th>\n",
       "      <th>baths</th>\n",
       "      <th>sq__ft</th>\n",
       "      <th>type</th>\n",
       "      <th>sale_date</th>\n",
       "      <th>price</th>\n",
       "      <th>latitude</th>\n",
       "      <th>longitude</th>\n",
       "    </tr>\n",
       "  </thead>\n",
       "  <tbody>\n",
       "    <tr>\n",
       "      <th>0</th>\n",
       "      <td>3526 HIGH ST</td>\n",
       "      <td>SACRAMENTO</td>\n",
       "      <td>95838</td>\n",
       "      <td>CA</td>\n",
       "      <td>2</td>\n",
       "      <td>1</td>\n",
       "      <td>836</td>\n",
       "      <td>Residential</td>\n",
       "      <td>Wed May 21 00:00:00 EDT 2008</td>\n",
       "      <td>59222</td>\n",
       "      <td>38.631913</td>\n",
       "      <td>-121.434879</td>\n",
       "    </tr>\n",
       "    <tr>\n",
       "      <th>1</th>\n",
       "      <td>51 OMAHA CT</td>\n",
       "      <td>SACRAMENTO</td>\n",
       "      <td>95823</td>\n",
       "      <td>CA</td>\n",
       "      <td>3</td>\n",
       "      <td>1</td>\n",
       "      <td>1167</td>\n",
       "      <td>Residential</td>\n",
       "      <td>Wed May 21 00:00:00 EDT 2008</td>\n",
       "      <td>68212</td>\n",
       "      <td>38.478902</td>\n",
       "      <td>-121.431028</td>\n",
       "    </tr>\n",
       "    <tr>\n",
       "      <th>2</th>\n",
       "      <td>2796 BRANCH ST</td>\n",
       "      <td>SACRAMENTO</td>\n",
       "      <td>95815</td>\n",
       "      <td>CA</td>\n",
       "      <td>2</td>\n",
       "      <td>1</td>\n",
       "      <td>796</td>\n",
       "      <td>Residential</td>\n",
       "      <td>Wed May 21 00:00:00 EDT 2008</td>\n",
       "      <td>68880</td>\n",
       "      <td>38.618305</td>\n",
       "      <td>-121.443839</td>\n",
       "    </tr>\n",
       "    <tr>\n",
       "      <th>3</th>\n",
       "      <td>2805 JANETTE WAY</td>\n",
       "      <td>SACRAMENTO</td>\n",
       "      <td>95815</td>\n",
       "      <td>CA</td>\n",
       "      <td>2</td>\n",
       "      <td>1</td>\n",
       "      <td>852</td>\n",
       "      <td>Residential</td>\n",
       "      <td>Wed May 21 00:00:00 EDT 2008</td>\n",
       "      <td>69307</td>\n",
       "      <td>38.616835</td>\n",
       "      <td>-121.439146</td>\n",
       "    </tr>\n",
       "    <tr>\n",
       "      <th>4</th>\n",
       "      <td>6001 MCMAHON DR</td>\n",
       "      <td>SACRAMENTO</td>\n",
       "      <td>95824</td>\n",
       "      <td>CA</td>\n",
       "      <td>2</td>\n",
       "      <td>1</td>\n",
       "      <td>797</td>\n",
       "      <td>Residential</td>\n",
       "      <td>Wed May 21 00:00:00 EDT 2008</td>\n",
       "      <td>81900</td>\n",
       "      <td>38.519470</td>\n",
       "      <td>-121.435768</td>\n",
       "    </tr>\n",
       "    <tr>\n",
       "      <th>5</th>\n",
       "      <td>5828 PEPPERMILL CT</td>\n",
       "      <td>SACRAMENTO</td>\n",
       "      <td>95841</td>\n",
       "      <td>CA</td>\n",
       "      <td>3</td>\n",
       "      <td>1</td>\n",
       "      <td>1122</td>\n",
       "      <td>Condo</td>\n",
       "      <td>Wed May 21 00:00:00 EDT 2008</td>\n",
       "      <td>89921</td>\n",
       "      <td>38.662595</td>\n",
       "      <td>-121.327813</td>\n",
       "    </tr>\n",
       "    <tr>\n",
       "      <th>6</th>\n",
       "      <td>6048 OGDEN NASH WAY</td>\n",
       "      <td>SACRAMENTO</td>\n",
       "      <td>95842</td>\n",
       "      <td>CA</td>\n",
       "      <td>3</td>\n",
       "      <td>2</td>\n",
       "      <td>1104</td>\n",
       "      <td>Residential</td>\n",
       "      <td>Wed May 21 00:00:00 EDT 2008</td>\n",
       "      <td>90895</td>\n",
       "      <td>38.681659</td>\n",
       "      <td>-121.351705</td>\n",
       "    </tr>\n",
       "    <tr>\n",
       "      <th>7</th>\n",
       "      <td>2561 19TH AVE</td>\n",
       "      <td>SACRAMENTO</td>\n",
       "      <td>95820</td>\n",
       "      <td>CA</td>\n",
       "      <td>3</td>\n",
       "      <td>1</td>\n",
       "      <td>1177</td>\n",
       "      <td>Residential</td>\n",
       "      <td>Wed May 21 00:00:00 EDT 2008</td>\n",
       "      <td>91002</td>\n",
       "      <td>38.535092</td>\n",
       "      <td>-121.481367</td>\n",
       "    </tr>\n",
       "    <tr>\n",
       "      <th>8</th>\n",
       "      <td>11150 TRINITY RIVER DR Unit 114</td>\n",
       "      <td>RANCHO CORDOVA</td>\n",
       "      <td>95670</td>\n",
       "      <td>CA</td>\n",
       "      <td>2</td>\n",
       "      <td>2</td>\n",
       "      <td>941</td>\n",
       "      <td>Condo</td>\n",
       "      <td>Wed May 21 00:00:00 EDT 2008</td>\n",
       "      <td>94905</td>\n",
       "      <td>38.621188</td>\n",
       "      <td>-121.270555</td>\n",
       "    </tr>\n",
       "    <tr>\n",
       "      <th>9</th>\n",
       "      <td>7325 10TH ST</td>\n",
       "      <td>RIO LINDA</td>\n",
       "      <td>95673</td>\n",
       "      <td>CA</td>\n",
       "      <td>3</td>\n",
       "      <td>2</td>\n",
       "      <td>1146</td>\n",
       "      <td>Residential</td>\n",
       "      <td>Wed May 21 00:00:00 EDT 2008</td>\n",
       "      <td>98937</td>\n",
       "      <td>38.700909</td>\n",
       "      <td>-121.442979</td>\n",
       "    </tr>\n",
       "  </tbody>\n",
       "</table>\n",
       "</div>"
      ],
      "text/plain": [
       "                            street            city    zip state  beds  baths  \\\n",
       "0                     3526 HIGH ST      SACRAMENTO  95838    CA     2      1   \n",
       "1                      51 OMAHA CT      SACRAMENTO  95823    CA     3      1   \n",
       "2                   2796 BRANCH ST      SACRAMENTO  95815    CA     2      1   \n",
       "3                 2805 JANETTE WAY      SACRAMENTO  95815    CA     2      1   \n",
       "4                  6001 MCMAHON DR      SACRAMENTO  95824    CA     2      1   \n",
       "5               5828 PEPPERMILL CT      SACRAMENTO  95841    CA     3      1   \n",
       "6              6048 OGDEN NASH WAY      SACRAMENTO  95842    CA     3      2   \n",
       "7                    2561 19TH AVE      SACRAMENTO  95820    CA     3      1   \n",
       "8  11150 TRINITY RIVER DR Unit 114  RANCHO CORDOVA  95670    CA     2      2   \n",
       "9                     7325 10TH ST       RIO LINDA  95673    CA     3      2   \n",
       "\n",
       "   sq__ft         type                     sale_date  price   latitude  \\\n",
       "0     836  Residential  Wed May 21 00:00:00 EDT 2008  59222  38.631913   \n",
       "1    1167  Residential  Wed May 21 00:00:00 EDT 2008  68212  38.478902   \n",
       "2     796  Residential  Wed May 21 00:00:00 EDT 2008  68880  38.618305   \n",
       "3     852  Residential  Wed May 21 00:00:00 EDT 2008  69307  38.616835   \n",
       "4     797  Residential  Wed May 21 00:00:00 EDT 2008  81900  38.519470   \n",
       "5    1122        Condo  Wed May 21 00:00:00 EDT 2008  89921  38.662595   \n",
       "6    1104  Residential  Wed May 21 00:00:00 EDT 2008  90895  38.681659   \n",
       "7    1177  Residential  Wed May 21 00:00:00 EDT 2008  91002  38.535092   \n",
       "8     941        Condo  Wed May 21 00:00:00 EDT 2008  94905  38.621188   \n",
       "9    1146  Residential  Wed May 21 00:00:00 EDT 2008  98937  38.700909   \n",
       "\n",
       "    longitude  \n",
       "0 -121.434879  \n",
       "1 -121.431028  \n",
       "2 -121.443839  \n",
       "3 -121.439146  \n",
       "4 -121.435768  \n",
       "5 -121.327813  \n",
       "6 -121.351705  \n",
       "7 -121.481367  \n",
       "8 -121.270555  \n",
       "9 -121.442979  "
      ]
     },
     "execution_count": 3,
     "metadata": {},
     "output_type": "execute_result"
    }
   ],
   "source": [
    "df.head(10)"
   ]
  },
  {
   "cell_type": "code",
   "execution_count": 4,
   "metadata": {},
   "outputs": [
    {
     "name": "stdout",
     "output_type": "stream",
     "text": [
      "<class 'pandas.core.frame.DataFrame'>\n",
      "RangeIndex: 985 entries, 0 to 984\n",
      "Data columns (total 12 columns):\n",
      " #   Column     Non-Null Count  Dtype  \n",
      "---  ------     --------------  -----  \n",
      " 0   street     985 non-null    object \n",
      " 1   city       985 non-null    object \n",
      " 2   zip        985 non-null    int64  \n",
      " 3   state      985 non-null    object \n",
      " 4   beds       985 non-null    int64  \n",
      " 5   baths      985 non-null    int64  \n",
      " 6   sq__ft     985 non-null    int64  \n",
      " 7   type       985 non-null    object \n",
      " 8   sale_date  985 non-null    object \n",
      " 9   price      985 non-null    int64  \n",
      " 10  latitude   985 non-null    float64\n",
      " 11  longitude  985 non-null    float64\n",
      "dtypes: float64(2), int64(5), object(5)\n",
      "memory usage: 92.5+ KB\n"
     ]
    }
   ],
   "source": [
    "df.info()"
   ]
  },
  {
   "cell_type": "markdown",
   "metadata": {},
   "source": [
    "The  data set contains 12 columns.  None of the columns have null values.  There are two float-valued columns (latitude and longitude), 5 integer-valued columns (zip, beds, baths, sq__ft, and price), and 5 columns (street, city, state, type, sale_date) of type \"object\".  The objects are most likely strings."
   ]
  },
  {
   "cell_type": "markdown",
   "metadata": {},
   "source": [
    "## Part 2: Categorical Variables"
   ]
  },
  {
   "cell_type": "code",
   "execution_count": 6,
   "metadata": {},
   "outputs": [
    {
     "name": "stdout",
     "output_type": "stream",
     "text": [
      "Streets: 981\n",
      "City: 39\n",
      "Zip: 68\n",
      "State: 1\n",
      "beds: 8\n",
      "baths: 6\n",
      "type: 4\n"
     ]
    }
   ],
   "source": [
    "print(\"Streets:\", len(set(df[\"street\"])))\n",
    "print(\"City:\", len(set(df[\"city\"])))\n",
    "print(\"Zip:\", len(set(df[\"zip\"])))\n",
    "print(\"State:\", len(set(df[\"state\"])))\n",
    "print(\"beds:\", len(set(df[\"beds\"])))\n",
    "print(\"baths:\", len(set(df[\"baths\"])))\n",
    "print(\"type:\", len(set(df[\"type\"])))"
   ]
  },
  {
   "cell_type": "markdown",
   "metadata": {},
   "source": [
    "I printed out the number of unique values for columns that I thought could be represented as categorical variables.  The number of unique values for the streets, zip codes, and cities are quite high so these may not be good categorical variables.  There is only one state, so that probably won't be a useful variable but we can make it categorical.  The number of beds, baths, and types all look like good categorical variables."
   ]
  },
  {
   "cell_type": "code",
   "execution_count": 9,
   "metadata": {},
   "outputs": [],
   "source": [
    "for col in [\"city\", \"zip\", \"state\", \"beds\", \"baths\", \"type\"]:\n",
    "    df[col] = df[col].astype(\"category\")"
   ]
  },
  {
   "cell_type": "code",
   "execution_count": 10,
   "metadata": {},
   "outputs": [
    {
     "name": "stdout",
     "output_type": "stream",
     "text": [
      "<class 'pandas.core.frame.DataFrame'>\n",
      "RangeIndex: 985 entries, 0 to 984\n",
      "Data columns (total 12 columns):\n",
      " #   Column     Non-Null Count  Dtype   \n",
      "---  ------     --------------  -----   \n",
      " 0   street     985 non-null    object  \n",
      " 1   city       985 non-null    category\n",
      " 2   zip        985 non-null    category\n",
      " 3   state      985 non-null    category\n",
      " 4   beds       985 non-null    category\n",
      " 5   baths      985 non-null    category\n",
      " 6   sq__ft     985 non-null    int64   \n",
      " 7   type       985 non-null    category\n",
      " 8   sale_date  985 non-null    object  \n",
      " 9   price      985 non-null    int64   \n",
      " 10  latitude   985 non-null    float64 \n",
      " 11  longitude  985 non-null    float64 \n",
      "dtypes: category(6), float64(2), int64(2), object(2)\n",
      "memory usage: 57.5+ KB\n"
     ]
    }
   ],
   "source": [
    "df.info()"
   ]
  },
  {
   "cell_type": "markdown",
   "metadata": {},
   "source": [
    "The columns were correctly converted to categorical variables."
   ]
  },
  {
   "cell_type": "markdown",
   "metadata": {},
   "source": [
    "## Part 3: Continuous Variables"
   ]
  },
  {
   "cell_type": "code",
   "execution_count": 11,
   "metadata": {},
   "outputs": [
    {
     "name": "stderr",
     "output_type": "stream",
     "text": [
      "/Users/rnowling/Projects/msoe-classes/cs3300-data-science-20q2/venv/lib/python3.7/site-packages/seaborn/distributions.py:2551: FutureWarning: `distplot` is a deprecated function and will be removed in a future version. Please adapt your code to use either `displot` (a figure-level function with similar flexibility) or `histplot` (an axes-level function for histograms).\n",
      "  warnings.warn(msg, FutureWarning)\n"
     ]
    },
    {
     "data": {
      "text/plain": [
       "<AxesSubplot:xlabel='sq__ft'>"
      ]
     },
     "execution_count": 11,
     "metadata": {},
     "output_type": "execute_result"
    },
    {
     "data": {
      "image/png": "[encoded data removed]",
      "text/plain": [
       "<Figure size 432x288 with 1 Axes>"
      ]
     },
     "metadata": {
      "needs_background": "light"
     },
     "output_type": "display_data"
    }
   ],
   "source": [
    "sns.distplot(df[\"sq__ft\"], kde=False)"
   ]
  },
  {
   "cell_type": "code",
   "execution_count": 12,
   "metadata": {},
   "outputs": [
    {
     "data": {
      "text/plain": [
       "<AxesSubplot:xlabel='latitude'>"
      ]
     },
     "execution_count": 12,
     "metadata": {},
     "output_type": "execute_result"
    },
    {
     "data": {
      "image/png": "[encoded data removed]",
      "text/plain": [
       "<Figure size 432x288 with 1 Axes>"
      ]
     },
     "metadata": {
      "needs_background": "light"
     },
     "output_type": "display_data"
    }
   ],
   "source": [
    "sns.distplot(df[\"latitude\"], kde=False)"
   ]
  },
  {
   "cell_type": "code",
   "execution_count": 13,
   "metadata": {},
   "outputs": [
    {
     "data": {
      "text/plain": [
       "<AxesSubplot:xlabel='longitude'>"
      ]
     },
     "execution_count": 13,
     "metadata": {},
     "output_type": "execute_result"
    },
    {
     "data": {
      "image/png": "[encoded data removed]",
      "text/plain": [
       "<Figure size 432x288 with 1 Axes>"
      ]
     },
     "metadata": {
      "needs_background": "light"
     },
     "output_type": "display_data"
    }
   ],
   "source": [
    "sns.distplot(df[\"longitude\"], kde=False)"
   ]
  },
  {
   "cell_type": "markdown",
   "metadata": {},
   "source": [
    "I plotted the three variables.  I chose histograms since the variables are continuous.  The latitude and longitude variables do not look too exciting.  The square footage has a number of records with values of 0, which is weird.  I think these records are for empty lots (no building)."
   ]
  },
  {
   "cell_type": "markdown",
   "metadata": {},
   "source": [
    "## Part 4: Categorical Variables"
   ]
  },
  {
   "cell_type": "code",
   "execution_count": 15,
   "metadata": {},
   "outputs": [
    {
     "data": {
      "text/plain": [
       "<AxesSubplot:xlabel='count', ylabel='city'>"
      ]
     },
     "execution_count": 15,
     "metadata": {},
     "output_type": "execute_result"
    },
    {
     "data": {
      "image/png": "[encoded data removed]",
      "text/plain": [
       "<Figure size 432x288 with 1 Axes>"
      ]
     },
     "metadata": {
      "needs_background": "light"
     },
     "output_type": "display_data"
    }
   ],
   "source": [
    "sns.countplot(y=\"city\", data=df)"
   ]
  },
  {
   "cell_type": "code",
   "execution_count": 16,
   "metadata": {},
   "outputs": [
    {
     "data": {
      "text/plain": [
       "<AxesSubplot:xlabel='beds', ylabel='count'>"
      ]
     },
     "execution_count": 16,
     "metadata": {},
     "output_type": "execute_result"
    },
    {
     "data": {
      "image/png": "[encoded data removed]",
      "text/plain": [
       "<Figure size 432x288 with 1 Axes>"
      ]
     },
     "metadata": {
      "needs_background": "light"
     },
     "output_type": "display_data"
    }
   ],
   "source": [
    "sns.countplot(x=\"beds\", data=df)"
   ]
  },
  {
   "cell_type": "code",
   "execution_count": 17,
   "metadata": {},
   "outputs": [
    {
     "data": {
      "text/plain": [
       "<AxesSubplot:xlabel='baths', ylabel='count'>"
      ]
     },
     "execution_count": 17,
     "metadata": {},
     "output_type": "execute_result"
    },
    {
     "data": {
      "image/png": "[encoded data removed]",
      "text/plain": [
       "<Figure size 432x288 with 1 Axes>"
      ]
     },
     "metadata": {
      "needs_background": "light"
     },
     "output_type": "display_data"
    }
   ],
   "source": [
    "sns.countplot(x=\"baths\", data=df)"
   ]
  },
  {
   "cell_type": "code",
   "execution_count": 18,
   "metadata": {},
   "outputs": [
    {
     "data": {
      "text/plain": [
       "<AxesSubplot:xlabel='state', ylabel='count'>"
      ]
     },
     "execution_count": 18,
     "metadata": {},
     "output_type": "execute_result"
    },
    {
     "data": {
      "image/png": "[encoded data removed]",
      "text/plain": [
       "<Figure size 432x288 with 1 Axes>"
      ]
     },
     "metadata": {
      "needs_background": "light"
     },
     "output_type": "display_data"
    }
   ],
   "source": [
    "sns.countplot(x=\"state\", data=df)"
   ]
  },
  {
   "cell_type": "code",
   "execution_count": 19,
   "metadata": {},
   "outputs": [
    {
     "data": {
      "text/plain": [
       "<AxesSubplot:xlabel='count', ylabel='zip'>"
      ]
     },
     "execution_count": 19,
     "metadata": {},
     "output_type": "execute_result"
    },
    {
     "data": {
      "image/png": "[encoded data removed]",
      "text/plain": [
       "<Figure size 432x288 with 1 Axes>"
      ]
     },
     "metadata": {
      "needs_background": "light"
     },
     "output_type": "display_data"
    }
   ],
   "source": [
    "sns.countplot(y=\"zip\", data=df)"
   ]
  },
  {
   "cell_type": "code",
   "execution_count": 20,
   "metadata": {},
   "outputs": [
    {
     "data": {
      "text/plain": [
       "<AxesSubplot:xlabel='count', ylabel='type'>"
      ]
     },
     "execution_count": 20,
     "metadata": {},
     "output_type": "execute_result"
    },
    {
     "data": {
      "image/png": "[encoded data removed]",
      "text/plain": [
       "<Figure size 432x288 with 1 Axes>"
      ]
     },
     "metadata": {
      "needs_background": "light"
     },
     "output_type": "display_data"
    }
   ],
   "source": [
    "sns.countplot(y=\"type\", data=df)"
   ]
  },
  {
   "cell_type": "markdown",
   "metadata": {},
   "source": [
    "According to the type variable, the data set contains condos, multi-family, and residential homes as well as a few properties with an \"unkown\" type.  It is weird to me that any of the properties would have 0 bedrooms or bathrooms then.  I suspect that these may be empty lots."
   ]
  },
  {
   "cell_type": "markdown",
   "metadata": {},
   "source": [
    "## Part 5: Empty Lot Variable\n",
    "\n",
    "Since we suspect that some of the entries are for empty lots, we are going to create a new boolean variable to identify those records."
   ]
  },
  {
   "cell_type": "code",
   "execution_count": 22,
   "metadata": {},
   "outputs": [],
   "source": [
    "df[\"empty_lot\"] = False\n",
    "mask = df[\"sq__ft\"] == 0\n",
    "df.loc[mask, \"empty_lot\"] = True"
   ]
  },
  {
   "cell_type": "code",
   "execution_count": 23,
   "metadata": {},
   "outputs": [
    {
     "name": "stdout",
     "output_type": "stream",
     "text": [
      "<class 'pandas.core.frame.DataFrame'>\n",
      "RangeIndex: 985 entries, 0 to 984\n",
      "Data columns (total 13 columns):\n",
      " #   Column     Non-Null Count  Dtype   \n",
      "---  ------     --------------  -----   \n",
      " 0   street     985 non-null    object  \n",
      " 1   city       985 non-null    category\n",
      " 2   zip        985 non-null    category\n",
      " 3   state      985 non-null    category\n",
      " 4   beds       985 non-null    category\n",
      " 5   baths      985 non-null    category\n",
      " 6   sq__ft     985 non-null    int64   \n",
      " 7   type       985 non-null    category\n",
      " 8   sale_date  985 non-null    object  \n",
      " 9   price      985 non-null    int64   \n",
      " 10  latitude   985 non-null    float64 \n",
      " 11  longitude  985 non-null    float64 \n",
      " 12  empty_lot  985 non-null    bool    \n",
      "dtypes: bool(1), category(6), float64(2), int64(2), object(2)\n",
      "memory usage: 58.5+ KB\n"
     ]
    }
   ],
   "source": [
    "df.info()"
   ]
  },
  {
   "cell_type": "code",
   "execution_count": 24,
   "metadata": {},
   "outputs": [
    {
     "data": {
      "text/plain": [
       "<AxesSubplot:xlabel='empty_lot', ylabel='count'>"
      ]
     },
     "execution_count": 24,
     "metadata": {},
     "output_type": "execute_result"
    },
    {
     "data": {
      "image/png": "[encoded data removed]",
      "text/plain": [
       "<Figure size 432x288 with 1 Axes>"
      ]
     },
     "metadata": {
      "needs_background": "light"
     },
     "output_type": "display_data"
    }
   ],
   "source": [
    "sns.countplot(x=\"empty_lot\", data=df)"
   ]
  },
  {
   "cell_type": "markdown",
   "metadata": {},
   "source": [
    "I successfully created an additional column with a boolean type."
   ]
  },
  {
   "cell_type": "markdown",
   "metadata": {},
   "source": [
    "## Part 6: Street Types\n",
    "\n",
    "The street address are strings and unique to each property.  They would not be useful as a variable as they are now.  I am going to parse them to get the street type (e.g., avenue) from each address."
   ]
  },
  {
   "cell_type": "code",
   "execution_count": 27,
   "metadata": {},
   "outputs": [],
   "source": [
    "def parse_address_1(address):\n",
    "    if \"Unit\" in address:\n",
    "        idx = address.find(\"Unit\")\n",
    "        # cut off \" Unit ...\" from the end of the address\n",
    "        address = address[:idx - 1]\n",
    "    address = address.upper()\n",
    "    cols = address.split()\n",
    "    # Assume the last entry is the street type\n",
    "    return cols[-1]"
   ]
  },
  {
   "cell_type": "code",
   "execution_count": 28,
   "metadata": {},
   "outputs": [
    {
     "name": "stdout",
     "output_type": "stream",
     "text": [
      "{'AVE', 'TRAK', 'DR', 'MARTINA', 'CIR', 'MADERA', '193', 'PKWY', 'GRANDE', 'LN', 'HL', 'WAY', 'CT', 'BLVD', 'TRL', 'CONEJO', 'LOOP', 'PL', 'ST', 'BROADWAY', 'WALK', 'RD'}\n"
     ]
    }
   ],
   "source": [
    "street_types = df[\"street\"].apply(parse_address_1)\n",
    "print(set(street_types))"
   ]
  },
  {
   "cell_type": "markdown",
   "metadata": {},
   "source": [
    "In my first attempt, I got a number of street types but also a few addresses that I am not parsing correctly.\n",
    "\n",
    "* 1813 AVENIDA MARTINA\n",
    "* 3720 VISTA DE MADERA\n",
    "* 9970 STATE HIGHWAY 193\n",
    "* 6306 CONEJO\n",
    "\n",
    "I am going to treet these as special cases."
   ]
  },
  {
   "cell_type": "code",
   "execution_count": 35,
   "metadata": {},
   "outputs": [],
   "source": [
    "def parse_address_2(address):\n",
    "    if \"Unit\" in address:\n",
    "        idx = address.find(\"Unit\")\n",
    "        # cut off \" Unit ...\" from the end of the address\n",
    "        address = address[:idx - 1]\n",
    "    address = address.upper()\n",
    "    \n",
    "    if \"AVENIDA\" in address:\n",
    "        return \"AVE\"\n",
    "    \n",
    "    if \"VISTA\" in address:\n",
    "        return \"VISTA\"\n",
    "    \n",
    "    if \"STATE HIGHWAY\" in address:\n",
    "        return \"HWY\"\n",
    "    \n",
    "    if \"CONEJO\" in address:\n",
    "        return \"Unknown\"\n",
    "\n",
    "    cols = address.split()\n",
    "    # Assume the last entry is the street type\n",
    "    return cols[-1]"
   ]
  },
  {
   "cell_type": "code",
   "execution_count": 36,
   "metadata": {},
   "outputs": [
    {
     "name": "stdout",
     "output_type": "stream",
     "text": [
      "{'VISTA', 'AVE', 'TRAK', 'DR', 'CIR', 'HWY', 'PKWY', 'GRANDE', 'LN', 'HL', 'WAY', 'CT', 'BLVD', 'TRL', 'Unknown', 'LOOP', 'PL', 'ST', 'BROADWAY', 'WALK', 'RD'}\n"
     ]
    }
   ],
   "source": [
    "street_types = df[\"street\"].apply(parse_address_2)\n",
    "print(set(street_types))"
   ]
  },
  {
   "cell_type": "code",
   "execution_count": 37,
   "metadata": {},
   "outputs": [
    {
     "name": "stdout",
     "output_type": "stream",
     "text": [
      "<class 'pandas.core.frame.DataFrame'>\n",
      "RangeIndex: 985 entries, 0 to 984\n",
      "Data columns (total 14 columns):\n",
      " #   Column       Non-Null Count  Dtype   \n",
      "---  ------       --------------  -----   \n",
      " 0   street       985 non-null    object  \n",
      " 1   city         985 non-null    category\n",
      " 2   zip          985 non-null    category\n",
      " 3   state        985 non-null    category\n",
      " 4   beds         985 non-null    category\n",
      " 5   baths        985 non-null    category\n",
      " 6   sq__ft       985 non-null    int64   \n",
      " 7   type         985 non-null    category\n",
      " 8   sale_date    985 non-null    object  \n",
      " 9   price        985 non-null    int64   \n",
      " 10  latitude     985 non-null    float64 \n",
      " 11  longitude    985 non-null    float64 \n",
      " 12  empty_lot    985 non-null    bool    \n",
      " 13  street_type  985 non-null    object  \n",
      "dtypes: bool(1), category(6), float64(2), int64(2), object(3)\n",
      "memory usage: 66.2+ KB\n"
     ]
    }
   ],
   "source": [
    "df[\"street_type\"] = street_types\n",
    "df.info()"
   ]
  },
  {
   "cell_type": "code",
   "execution_count": 38,
   "metadata": {},
   "outputs": [
    {
     "data": {
      "text/plain": [
       "<AxesSubplot:xlabel='count', ylabel='street_type'>"
      ]
     },
     "execution_count": 38,
     "metadata": {},
     "output_type": "execute_result"
    },
    {
     "data": {
      "image/png": "[encoded data removed]",
      "text/plain": [
       "<Figure size 432x288 with 1 Axes>"
      ]
     },
     "metadata": {
      "needs_background": "light"
     },
     "output_type": "display_data"
    }
   ],
   "source": [
    "sns.countplot(y=\"street_type\", data=df)"
   ]
  },
  {
   "cell_type": "markdown",
   "metadata": {},
   "source": [
    "I was able to parse all of the street types except for one address.  I may consider removing that record as an outlier.  Street, court, way, drive, avenue, circle, lane, and road seem to be the most common street types  THere are a few places, parkways, and boulevards, too.  The rest probably only belong to handful of records."
   ]
  },
  {
   "cell_type": "markdown",
   "metadata": {},
   "source": [
    "## Part 7: Identifying Possible Dependent Variables\n",
    "\n",
    "I think that the price of the property would make a good dependent variable.  Many real estate web sites estimate the sale prices of properties to help owners determine how much to offer.  I think that would be a useful regression model to create with this data set.\n",
    "\n",
    "For a classification problem, I think it would be interesting to try to predict the type of the property.  This should be easy to predict from the number of bedrooms and bathrooms."
   ]
  },
  {
   "cell_type": "markdown",
   "metadata": {},
   "source": [
    "## Part 8: Save Data\n",
    "\n",
    "I'm going to save my cleaned data set to a file.  But first I want to remove two outlier records I found."
   ]
  },
  {
   "cell_type": "code",
   "execution_count": 39,
   "metadata": {},
   "outputs": [
    {
     "name": "stdout",
     "output_type": "stream",
     "text": [
      "<class 'pandas.core.frame.DataFrame'>\n",
      "Int64Index: 983 entries, 0 to 984\n",
      "Data columns (total 14 columns):\n",
      " #   Column       Non-Null Count  Dtype   \n",
      "---  ------       --------------  -----   \n",
      " 0   street       983 non-null    object  \n",
      " 1   city         983 non-null    category\n",
      " 2   zip          983 non-null    category\n",
      " 3   state        983 non-null    category\n",
      " 4   beds         983 non-null    category\n",
      " 5   baths        983 non-null    category\n",
      " 6   sq__ft       983 non-null    int64   \n",
      " 7   type         983 non-null    category\n",
      " 8   sale_date    983 non-null    object  \n",
      " 9   price        983 non-null    int64   \n",
      " 10  latitude     983 non-null    float64 \n",
      " 11  longitude    983 non-null    float64 \n",
      " 12  empty_lot    983 non-null    bool    \n",
      " 13  street_type  983 non-null    object  \n",
      "dtypes: bool(1), category(6), float64(2), int64(2), object(3)\n",
      "memory usage: 73.6+ KB\n"
     ]
    }
   ],
   "source": [
    "mask = (df[\"type\"] == \"Unkown\") | (df[\"street_type\"] == \"Unknown\")\n",
    "df = df[~mask]\n",
    "\n",
    "df.info()"
   ]
  },
  {
   "cell_type": "markdown",
   "metadata": {},
   "source": [
    "My data set went from 985 to 983 entries -- I successfully removed the two outlier records without dropping any records I wanted to keep."
   ]
  },
  {
   "cell_type": "code",
   "execution_count": 40,
   "metadata": {},
   "outputs": [],
   "source": [
    "df.to_csv(\"cleaned_data.csv\", index=False)"
   ]
  },
  {
   "cell_type": "code",
   "execution_count": null,
   "metadata": {},
   "outputs": [],
   "source": []
  }
 ],
 "metadata": {
  "kernelspec": {
   "display_name": "Python 3",
   "language": "python",
   "name": "python3"
  },
  "language_info": {
   "codemirror_mode": {
    "name": "ipython",
    "version": 3
   },
   "file_extension": ".py",
   "mimetype": "text/x-python",
   "name": "python",
   "nbconvert_exporter": "python",
   "pygments_lexer": "ipython3",
   "version": "3.8.3"
  }
 },
 "nbformat": 4,
 "nbformat_minor": 4
}
